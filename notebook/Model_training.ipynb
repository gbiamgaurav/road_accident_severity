{
 "cells": [
  {
   "cell_type": "markdown",
   "id": "e98652ba",
   "metadata": {},
   "source": [
    "## Model Training"
   ]
  },
  {
   "cell_type": "code",
   "execution_count": 1,
   "id": "03dcb94f",
   "metadata": {},
   "outputs": [],
   "source": [
    "## Import required packages\n",
    "\n",
    "## Basic Imports\n",
    "import numpy as np\n",
    "import pandas as pd\n",
    "import matplotlib.pyplot as plt\n",
    "import seaborn as sns\n",
    "\n",
    "## Modelling\n",
    "from sklearn.metrics import accuracy_score, f1_score\n",
    "from sklearn.neighbors import KNeighborsClassifier\n",
    "from sklearn.tree import DecisionTreeClassifier\n",
    "from sklearn.ensemble import RandomForestClassifier, AdaBoostClassifier, ExtraTreesClassifier\n",
    "from sklearn.svm import SVC\n",
    "from sklearn.linear_model import LogisticRegression\n",
    "from sklearn.model_selection import RandomizedSearchCV\n",
    "from catboost import CatBoostClassifier\n",
    "from xgboost import XGBClassifier\n",
    "import warnings\n",
    "warnings.filterwarnings(\"ignore\")\n",
    "from sklearn.model_selection import train_test_split\n",
    "\n",
    "## Pipeline\n",
    "from sklearn.pipeline import Pipeline\n",
    "from sklearn.preprocessing import OrdinalEncoder, LabelEncoder, StandardScaler\n",
    "from sklearn.compose import ColumnTransformer"
   ]
  },
  {
   "cell_type": "markdown",
   "id": "54bf7c7e",
   "metadata": {},
   "source": [
    "## Import the csv data as dataframe"
   ]
  },
  {
   "cell_type": "code",
   "execution_count": 2,
   "id": "c2c3bc9c",
   "metadata": {},
   "outputs": [
    {
     "data": {
      "text/html": [
       "<div>\n",
       "<style scoped>\n",
       "    .dataframe tbody tr th:only-of-type {\n",
       "        vertical-align: middle;\n",
       "    }\n",
       "\n",
       "    .dataframe tbody tr th {\n",
       "        vertical-align: top;\n",
       "    }\n",
       "\n",
       "    .dataframe thead th {\n",
       "        text-align: right;\n",
       "    }\n",
       "</style>\n",
       "<table border=\"1\" class=\"dataframe\">\n",
       "  <thead>\n",
       "    <tr style=\"text-align: right;\">\n",
       "      <th></th>\n",
       "      <th>day_of_week</th>\n",
       "      <th>driver_age</th>\n",
       "      <th>driver_sex</th>\n",
       "      <th>educational_level</th>\n",
       "      <th>vehicle_driver_relation</th>\n",
       "      <th>driving_experience</th>\n",
       "      <th>vehicle_type</th>\n",
       "      <th>vehicle_owner</th>\n",
       "      <th>service_year</th>\n",
       "      <th>vehicle_defect</th>\n",
       "      <th>...</th>\n",
       "      <th>vehicle_movement</th>\n",
       "      <th>casualty_class</th>\n",
       "      <th>casualty_sex</th>\n",
       "      <th>casualty_age</th>\n",
       "      <th>casualty_severity</th>\n",
       "      <th>casualty_work</th>\n",
       "      <th>casualty_fitness</th>\n",
       "      <th>pedestrian_movement</th>\n",
       "      <th>accident_cause</th>\n",
       "      <th>accident_severity</th>\n",
       "    </tr>\n",
       "  </thead>\n",
       "  <tbody>\n",
       "    <tr>\n",
       "      <th>0</th>\n",
       "      <td>Monday</td>\n",
       "      <td>18-30</td>\n",
       "      <td>Male</td>\n",
       "      <td>Above high school</td>\n",
       "      <td>Employee</td>\n",
       "      <td>1-2yr</td>\n",
       "      <td>Automobile</td>\n",
       "      <td>Owner</td>\n",
       "      <td>Above 10yr</td>\n",
       "      <td>No defect</td>\n",
       "      <td>...</td>\n",
       "      <td>Going straight</td>\n",
       "      <td>na</td>\n",
       "      <td>na</td>\n",
       "      <td>na</td>\n",
       "      <td>na</td>\n",
       "      <td>Driver</td>\n",
       "      <td>Normal</td>\n",
       "      <td>Not a Pedestrian</td>\n",
       "      <td>Moving Backward</td>\n",
       "      <td>Slight Injury</td>\n",
       "    </tr>\n",
       "    <tr>\n",
       "      <th>1</th>\n",
       "      <td>Monday</td>\n",
       "      <td>31-50</td>\n",
       "      <td>Male</td>\n",
       "      <td>Junior high school</td>\n",
       "      <td>Employee</td>\n",
       "      <td>Above 10yr</td>\n",
       "      <td>Public (&gt; 45 seats)</td>\n",
       "      <td>Owner</td>\n",
       "      <td>5-10yrs</td>\n",
       "      <td>No defect</td>\n",
       "      <td>...</td>\n",
       "      <td>Going straight</td>\n",
       "      <td>na</td>\n",
       "      <td>na</td>\n",
       "      <td>na</td>\n",
       "      <td>na</td>\n",
       "      <td>Driver</td>\n",
       "      <td>Normal</td>\n",
       "      <td>Not a Pedestrian</td>\n",
       "      <td>Overtaking</td>\n",
       "      <td>Slight Injury</td>\n",
       "    </tr>\n",
       "    <tr>\n",
       "      <th>2</th>\n",
       "      <td>Monday</td>\n",
       "      <td>18-30</td>\n",
       "      <td>Male</td>\n",
       "      <td>Junior high school</td>\n",
       "      <td>Employee</td>\n",
       "      <td>1-2yr</td>\n",
       "      <td>Lorry (41?100Q)</td>\n",
       "      <td>Owner</td>\n",
       "      <td>Unknown</td>\n",
       "      <td>No defect</td>\n",
       "      <td>...</td>\n",
       "      <td>Going straight</td>\n",
       "      <td>Driver or rider</td>\n",
       "      <td>Male</td>\n",
       "      <td>31-50</td>\n",
       "      <td>3</td>\n",
       "      <td>Driver</td>\n",
       "      <td>Normal</td>\n",
       "      <td>Not a Pedestrian</td>\n",
       "      <td>Changing lane to the left</td>\n",
       "      <td>Serious Injury</td>\n",
       "    </tr>\n",
       "  </tbody>\n",
       "</table>\n",
       "<p>3 rows × 31 columns</p>\n",
       "</div>"
      ],
      "text/plain": [
       "  day_of_week driver_age driver_sex   educational_level   \n",
       "0      Monday      18-30       Male   Above high school  \\\n",
       "1      Monday      31-50       Male  Junior high school   \n",
       "2      Monday      18-30       Male  Junior high school   \n",
       "\n",
       "  vehicle_driver_relation driving_experience         vehicle_type   \n",
       "0                Employee              1-2yr           Automobile  \\\n",
       "1                Employee         Above 10yr  Public (> 45 seats)   \n",
       "2                Employee              1-2yr      Lorry (41?100Q)   \n",
       "\n",
       "  vehicle_owner service_year vehicle_defect  ... vehicle_movement   \n",
       "0         Owner   Above 10yr      No defect  ...   Going straight  \\\n",
       "1         Owner      5-10yrs      No defect  ...   Going straight   \n",
       "2         Owner      Unknown      No defect  ...   Going straight   \n",
       "\n",
       "    casualty_class casualty_sex casualty_age casualty_severity casualty_work   \n",
       "0               na           na           na                na        Driver  \\\n",
       "1               na           na           na                na        Driver   \n",
       "2  Driver or rider         Male        31-50                 3        Driver   \n",
       "\n",
       "  casualty_fitness pedestrian_movement             accident_cause   \n",
       "0           Normal    Not a Pedestrian            Moving Backward  \\\n",
       "1           Normal    Not a Pedestrian                 Overtaking   \n",
       "2           Normal    Not a Pedestrian  Changing lane to the left   \n",
       "\n",
       "   accident_severity  \n",
       "0      Slight Injury  \n",
       "1      Slight Injury  \n",
       "2     Serious Injury  \n",
       "\n",
       "[3 rows x 31 columns]"
      ]
     },
     "execution_count": 2,
     "metadata": {},
     "output_type": "execute_result"
    }
   ],
   "source": [
    "df = pd.read_csv(\"data/rta_cleaned.csv\")\n",
    "df.head(3)"
   ]
  },
  {
   "cell_type": "code",
   "execution_count": 3,
   "id": "abec3b66",
   "metadata": {},
   "outputs": [
    {
     "data": {
      "text/html": [
       "<div>\n",
       "<style scoped>\n",
       "    .dataframe tbody tr th:only-of-type {\n",
       "        vertical-align: middle;\n",
       "    }\n",
       "\n",
       "    .dataframe tbody tr th {\n",
       "        vertical-align: top;\n",
       "    }\n",
       "\n",
       "    .dataframe thead th {\n",
       "        text-align: right;\n",
       "    }\n",
       "</style>\n",
       "<table border=\"1\" class=\"dataframe\">\n",
       "  <thead>\n",
       "    <tr style=\"text-align: right;\">\n",
       "      <th></th>\n",
       "      <th>day_of_week</th>\n",
       "      <th>driver_age</th>\n",
       "      <th>driver_sex</th>\n",
       "      <th>educational_level</th>\n",
       "      <th>vehicle_driver_relation</th>\n",
       "      <th>driving_experience</th>\n",
       "      <th>vehicle_type</th>\n",
       "      <th>vehicle_owner</th>\n",
       "      <th>service_year</th>\n",
       "      <th>vehicle_defect</th>\n",
       "      <th>...</th>\n",
       "      <th>vehicle_movement</th>\n",
       "      <th>casualty_class</th>\n",
       "      <th>casualty_sex</th>\n",
       "      <th>casualty_age</th>\n",
       "      <th>casualty_severity</th>\n",
       "      <th>casualty_work</th>\n",
       "      <th>casualty_fitness</th>\n",
       "      <th>pedestrian_movement</th>\n",
       "      <th>accident_cause</th>\n",
       "      <th>accident_severity</th>\n",
       "    </tr>\n",
       "  </thead>\n",
       "  <tbody>\n",
       "    <tr>\n",
       "      <th>0</th>\n",
       "      <td>Monday</td>\n",
       "      <td>18-30</td>\n",
       "      <td>Male</td>\n",
       "      <td>Above high school</td>\n",
       "      <td>Employee</td>\n",
       "      <td>1-2yr</td>\n",
       "      <td>Automobile</td>\n",
       "      <td>Owner</td>\n",
       "      <td>Above 10yr</td>\n",
       "      <td>No defect</td>\n",
       "      <td>...</td>\n",
       "      <td>Going straight</td>\n",
       "      <td>na</td>\n",
       "      <td>na</td>\n",
       "      <td>na</td>\n",
       "      <td>na</td>\n",
       "      <td>Driver</td>\n",
       "      <td>Normal</td>\n",
       "      <td>Not a Pedestrian</td>\n",
       "      <td>Moving Backward</td>\n",
       "      <td>Slight Injury</td>\n",
       "    </tr>\n",
       "    <tr>\n",
       "      <th>1</th>\n",
       "      <td>Monday</td>\n",
       "      <td>31-50</td>\n",
       "      <td>Male</td>\n",
       "      <td>Junior high school</td>\n",
       "      <td>Employee</td>\n",
       "      <td>Above 10yr</td>\n",
       "      <td>Public (&gt; 45 seats)</td>\n",
       "      <td>Owner</td>\n",
       "      <td>5-10yrs</td>\n",
       "      <td>No defect</td>\n",
       "      <td>...</td>\n",
       "      <td>Going straight</td>\n",
       "      <td>na</td>\n",
       "      <td>na</td>\n",
       "      <td>na</td>\n",
       "      <td>na</td>\n",
       "      <td>Driver</td>\n",
       "      <td>Normal</td>\n",
       "      <td>Not a Pedestrian</td>\n",
       "      <td>Overtaking</td>\n",
       "      <td>Slight Injury</td>\n",
       "    </tr>\n",
       "    <tr>\n",
       "      <th>2</th>\n",
       "      <td>Monday</td>\n",
       "      <td>18-30</td>\n",
       "      <td>Male</td>\n",
       "      <td>Junior high school</td>\n",
       "      <td>Employee</td>\n",
       "      <td>1-2yr</td>\n",
       "      <td>Lorry (41?100Q)</td>\n",
       "      <td>Owner</td>\n",
       "      <td>Unknown</td>\n",
       "      <td>No defect</td>\n",
       "      <td>...</td>\n",
       "      <td>Going straight</td>\n",
       "      <td>Driver or rider</td>\n",
       "      <td>Male</td>\n",
       "      <td>31-50</td>\n",
       "      <td>3</td>\n",
       "      <td>Driver</td>\n",
       "      <td>Normal</td>\n",
       "      <td>Not a Pedestrian</td>\n",
       "      <td>Changing lane to the left</td>\n",
       "      <td>Serious Injury</td>\n",
       "    </tr>\n",
       "    <tr>\n",
       "      <th>3</th>\n",
       "      <td>Sunday</td>\n",
       "      <td>18-30</td>\n",
       "      <td>Male</td>\n",
       "      <td>Junior high school</td>\n",
       "      <td>Employee</td>\n",
       "      <td>5-10yr</td>\n",
       "      <td>Public (&gt; 45 seats)</td>\n",
       "      <td>Governmental</td>\n",
       "      <td>Unknown</td>\n",
       "      <td>No defect</td>\n",
       "      <td>...</td>\n",
       "      <td>Going straight</td>\n",
       "      <td>Pedestrian</td>\n",
       "      <td>Female</td>\n",
       "      <td>18-30</td>\n",
       "      <td>3</td>\n",
       "      <td>Driver</td>\n",
       "      <td>Normal</td>\n",
       "      <td>Not a Pedestrian</td>\n",
       "      <td>Changing lane to the right</td>\n",
       "      <td>Slight Injury</td>\n",
       "    </tr>\n",
       "    <tr>\n",
       "      <th>4</th>\n",
       "      <td>Sunday</td>\n",
       "      <td>18-30</td>\n",
       "      <td>Male</td>\n",
       "      <td>Junior high school</td>\n",
       "      <td>Employee</td>\n",
       "      <td>2-5yr</td>\n",
       "      <td>Automobile</td>\n",
       "      <td>Owner</td>\n",
       "      <td>5-10yrs</td>\n",
       "      <td>No defect</td>\n",
       "      <td>...</td>\n",
       "      <td>Going straight</td>\n",
       "      <td>na</td>\n",
       "      <td>na</td>\n",
       "      <td>na</td>\n",
       "      <td>na</td>\n",
       "      <td>Driver</td>\n",
       "      <td>Normal</td>\n",
       "      <td>Not a Pedestrian</td>\n",
       "      <td>Overtaking</td>\n",
       "      <td>Slight Injury</td>\n",
       "    </tr>\n",
       "    <tr>\n",
       "      <th>...</th>\n",
       "      <td>...</td>\n",
       "      <td>...</td>\n",
       "      <td>...</td>\n",
       "      <td>...</td>\n",
       "      <td>...</td>\n",
       "      <td>...</td>\n",
       "      <td>...</td>\n",
       "      <td>...</td>\n",
       "      <td>...</td>\n",
       "      <td>...</td>\n",
       "      <td>...</td>\n",
       "      <td>...</td>\n",
       "      <td>...</td>\n",
       "      <td>...</td>\n",
       "      <td>...</td>\n",
       "      <td>...</td>\n",
       "      <td>...</td>\n",
       "      <td>...</td>\n",
       "      <td>...</td>\n",
       "      <td>...</td>\n",
       "      <td>...</td>\n",
       "    </tr>\n",
       "    <tr>\n",
       "      <th>12311</th>\n",
       "      <td>Wednesday</td>\n",
       "      <td>31-50</td>\n",
       "      <td>Male</td>\n",
       "      <td>Junior high school</td>\n",
       "      <td>Employee</td>\n",
       "      <td>2-5yr</td>\n",
       "      <td>Lorry (11?40Q)</td>\n",
       "      <td>Owner</td>\n",
       "      <td>Unknown</td>\n",
       "      <td>No defect</td>\n",
       "      <td>...</td>\n",
       "      <td>Going straight</td>\n",
       "      <td>na</td>\n",
       "      <td>na</td>\n",
       "      <td>na</td>\n",
       "      <td>na</td>\n",
       "      <td>Driver</td>\n",
       "      <td>Normal</td>\n",
       "      <td>Not a Pedestrian</td>\n",
       "      <td>No distancing</td>\n",
       "      <td>Slight Injury</td>\n",
       "    </tr>\n",
       "    <tr>\n",
       "      <th>12312</th>\n",
       "      <td>Sunday</td>\n",
       "      <td>Unknown</td>\n",
       "      <td>Male</td>\n",
       "      <td>Elementary school</td>\n",
       "      <td>Employee</td>\n",
       "      <td>5-10yr</td>\n",
       "      <td>Automobile</td>\n",
       "      <td>Owner</td>\n",
       "      <td>Unknown</td>\n",
       "      <td>No defect</td>\n",
       "      <td>...</td>\n",
       "      <td>Other</td>\n",
       "      <td>na</td>\n",
       "      <td>na</td>\n",
       "      <td>na</td>\n",
       "      <td>na</td>\n",
       "      <td>Driver</td>\n",
       "      <td>Normal</td>\n",
       "      <td>Not a Pedestrian</td>\n",
       "      <td>No distancing</td>\n",
       "      <td>Slight Injury</td>\n",
       "    </tr>\n",
       "    <tr>\n",
       "      <th>12313</th>\n",
       "      <td>Sunday</td>\n",
       "      <td>Over 51</td>\n",
       "      <td>Male</td>\n",
       "      <td>Junior high school</td>\n",
       "      <td>Employee</td>\n",
       "      <td>5-10yr</td>\n",
       "      <td>Bajaj</td>\n",
       "      <td>Owner</td>\n",
       "      <td>2-5yrs</td>\n",
       "      <td>No defect</td>\n",
       "      <td>...</td>\n",
       "      <td>Other</td>\n",
       "      <td>Driver or rider</td>\n",
       "      <td>Male</td>\n",
       "      <td>31-50</td>\n",
       "      <td>3</td>\n",
       "      <td>Driver</td>\n",
       "      <td>Normal</td>\n",
       "      <td>Not a Pedestrian</td>\n",
       "      <td>Changing lane to the right</td>\n",
       "      <td>Serious Injury</td>\n",
       "    </tr>\n",
       "    <tr>\n",
       "      <th>12314</th>\n",
       "      <td>Sunday</td>\n",
       "      <td>18-30</td>\n",
       "      <td>Female</td>\n",
       "      <td>Junior high school</td>\n",
       "      <td>Employee</td>\n",
       "      <td>Above 10yr</td>\n",
       "      <td>Lorry (41?100Q)</td>\n",
       "      <td>Owner</td>\n",
       "      <td>2-5yrs</td>\n",
       "      <td>No defect</td>\n",
       "      <td>...</td>\n",
       "      <td>Other</td>\n",
       "      <td>na</td>\n",
       "      <td>na</td>\n",
       "      <td>na</td>\n",
       "      <td>na</td>\n",
       "      <td>Driver</td>\n",
       "      <td>Normal</td>\n",
       "      <td>Not a Pedestrian</td>\n",
       "      <td>Driving under the influence of drugs</td>\n",
       "      <td>Slight Injury</td>\n",
       "    </tr>\n",
       "    <tr>\n",
       "      <th>12315</th>\n",
       "      <td>Sunday</td>\n",
       "      <td>18-30</td>\n",
       "      <td>Male</td>\n",
       "      <td>Junior high school</td>\n",
       "      <td>Employee</td>\n",
       "      <td>5-10yr</td>\n",
       "      <td>Other</td>\n",
       "      <td>Owner</td>\n",
       "      <td>2-5yrs</td>\n",
       "      <td>No defect</td>\n",
       "      <td>...</td>\n",
       "      <td>Stopping</td>\n",
       "      <td>Pedestrian</td>\n",
       "      <td>Female</td>\n",
       "      <td>5</td>\n",
       "      <td>3</td>\n",
       "      <td>Driver</td>\n",
       "      <td>Normal</td>\n",
       "      <td>Crossing from nearside - masked by parked or s...</td>\n",
       "      <td>Changing lane to the right</td>\n",
       "      <td>Slight Injury</td>\n",
       "    </tr>\n",
       "  </tbody>\n",
       "</table>\n",
       "<p>12316 rows × 30 columns</p>\n",
       "</div>"
      ],
      "text/plain": [
       "      day_of_week driver_age driver_sex   educational_level   \n",
       "0          Monday      18-30       Male   Above high school  \\\n",
       "1          Monday      31-50       Male  Junior high school   \n",
       "2          Monday      18-30       Male  Junior high school   \n",
       "3          Sunday      18-30       Male  Junior high school   \n",
       "4          Sunday      18-30       Male  Junior high school   \n",
       "...           ...        ...        ...                 ...   \n",
       "12311   Wednesday      31-50       Male  Junior high school   \n",
       "12312      Sunday    Unknown       Male   Elementary school   \n",
       "12313      Sunday    Over 51       Male  Junior high school   \n",
       "12314      Sunday      18-30     Female  Junior high school   \n",
       "12315      Sunday      18-30       Male  Junior high school   \n",
       "\n",
       "      vehicle_driver_relation driving_experience         vehicle_type   \n",
       "0                    Employee              1-2yr           Automobile  \\\n",
       "1                    Employee         Above 10yr  Public (> 45 seats)   \n",
       "2                    Employee              1-2yr      Lorry (41?100Q)   \n",
       "3                    Employee             5-10yr  Public (> 45 seats)   \n",
       "4                    Employee              2-5yr           Automobile   \n",
       "...                       ...                ...                  ...   \n",
       "12311                Employee              2-5yr       Lorry (11?40Q)   \n",
       "12312                Employee             5-10yr           Automobile   \n",
       "12313                Employee             5-10yr                Bajaj   \n",
       "12314                Employee         Above 10yr      Lorry (41?100Q)   \n",
       "12315                Employee             5-10yr                Other   \n",
       "\n",
       "      vehicle_owner service_year vehicle_defect  ... vehicle_movement   \n",
       "0             Owner   Above 10yr      No defect  ...   Going straight  \\\n",
       "1             Owner      5-10yrs      No defect  ...   Going straight   \n",
       "2             Owner      Unknown      No defect  ...   Going straight   \n",
       "3      Governmental      Unknown      No defect  ...   Going straight   \n",
       "4             Owner      5-10yrs      No defect  ...   Going straight   \n",
       "...             ...          ...            ...  ...              ...   \n",
       "12311         Owner      Unknown      No defect  ...   Going straight   \n",
       "12312         Owner      Unknown      No defect  ...            Other   \n",
       "12313         Owner       2-5yrs      No defect  ...            Other   \n",
       "12314         Owner       2-5yrs      No defect  ...            Other   \n",
       "12315         Owner       2-5yrs      No defect  ...         Stopping   \n",
       "\n",
       "        casualty_class casualty_sex casualty_age casualty_severity   \n",
       "0                   na           na           na                na  \\\n",
       "1                   na           na           na                na   \n",
       "2      Driver or rider         Male        31-50                 3   \n",
       "3           Pedestrian       Female        18-30                 3   \n",
       "4                   na           na           na                na   \n",
       "...                ...          ...          ...               ...   \n",
       "12311               na           na           na                na   \n",
       "12312               na           na           na                na   \n",
       "12313  Driver or rider         Male        31-50                 3   \n",
       "12314               na           na           na                na   \n",
       "12315       Pedestrian       Female            5                 3   \n",
       "\n",
       "      casualty_work casualty_fitness   \n",
       "0            Driver           Normal  \\\n",
       "1            Driver           Normal   \n",
       "2            Driver           Normal   \n",
       "3            Driver           Normal   \n",
       "4            Driver           Normal   \n",
       "...             ...              ...   \n",
       "12311        Driver           Normal   \n",
       "12312        Driver           Normal   \n",
       "12313        Driver           Normal   \n",
       "12314        Driver           Normal   \n",
       "12315        Driver           Normal   \n",
       "\n",
       "                                     pedestrian_movement   \n",
       "0                                       Not a Pedestrian  \\\n",
       "1                                       Not a Pedestrian   \n",
       "2                                       Not a Pedestrian   \n",
       "3                                       Not a Pedestrian   \n",
       "4                                       Not a Pedestrian   \n",
       "...                                                  ...   \n",
       "12311                                   Not a Pedestrian   \n",
       "12312                                   Not a Pedestrian   \n",
       "12313                                   Not a Pedestrian   \n",
       "12314                                   Not a Pedestrian   \n",
       "12315  Crossing from nearside - masked by parked or s...   \n",
       "\n",
       "                             accident_cause  accident_severity  \n",
       "0                           Moving Backward      Slight Injury  \n",
       "1                                Overtaking      Slight Injury  \n",
       "2                 Changing lane to the left     Serious Injury  \n",
       "3                Changing lane to the right      Slight Injury  \n",
       "4                                Overtaking      Slight Injury  \n",
       "...                                     ...                ...  \n",
       "12311                         No distancing      Slight Injury  \n",
       "12312                         No distancing      Slight Injury  \n",
       "12313            Changing lane to the right     Serious Injury  \n",
       "12314  Driving under the influence of drugs      Slight Injury  \n",
       "12315            Changing lane to the right      Slight Injury  \n",
       "\n",
       "[12316 rows x 30 columns]"
      ]
     },
     "execution_count": 3,
     "metadata": {},
     "output_type": "execute_result"
    }
   ],
   "source": [
    "df.drop(columns=['accident_area'], axis=1)"
   ]
  },
  {
   "cell_type": "code",
   "execution_count": 4,
   "id": "90940ca3",
   "metadata": {},
   "outputs": [
    {
     "data": {
      "text/plain": [
       "day_of_week                0\n",
       "driver_age                 0\n",
       "driver_sex                 0\n",
       "educational_level          0\n",
       "vehicle_driver_relation    0\n",
       "driving_experience         0\n",
       "vehicle_type               0\n",
       "vehicle_owner              0\n",
       "service_year               0\n",
       "vehicle_defect             0\n",
       "accident_area              0\n",
       "lanes                      0\n",
       "road_allignment            0\n",
       "junction_type              0\n",
       "surface_type               0\n",
       "road_surface_conditions    0\n",
       "light_condition            0\n",
       "weather_condition          0\n",
       "collision_type             0\n",
       "vehicles_involved          0\n",
       "casualties                 0\n",
       "vehicle_movement           0\n",
       "casualty_class             0\n",
       "casualty_sex               0\n",
       "casualty_age               0\n",
       "casualty_severity          0\n",
       "casualty_work              0\n",
       "casualty_fitness           0\n",
       "pedestrian_movement        0\n",
       "accident_cause             0\n",
       "accident_severity          0\n",
       "dtype: int64"
      ]
     },
     "execution_count": 4,
     "metadata": {},
     "output_type": "execute_result"
    }
   ],
   "source": [
    "df.isnull().sum()"
   ]
  },
  {
   "cell_type": "code",
   "execution_count": 5,
   "id": "9d318340",
   "metadata": {},
   "outputs": [
    {
     "data": {
      "text/plain": [
       "Index(['vehicles_involved', 'casualties'], dtype='object')"
      ]
     },
     "execution_count": 5,
     "metadata": {},
     "output_type": "execute_result"
    }
   ],
   "source": [
    "num_features = df.select_dtypes(exclude=\"object\").columns\n",
    "num_features"
   ]
  },
  {
   "cell_type": "code",
   "execution_count": 6,
   "id": "b2e6e73e",
   "metadata": {},
   "outputs": [
    {
     "data": {
      "text/plain": [
       "Index(['day_of_week', 'driver_age', 'driver_sex', 'educational_level',\n",
       "       'vehicle_driver_relation', 'driving_experience', 'vehicle_type',\n",
       "       'vehicle_owner', 'service_year', 'vehicle_defect', 'accident_area',\n",
       "       'lanes', 'road_allignment', 'junction_type', 'surface_type',\n",
       "       'road_surface_conditions', 'light_condition', 'weather_condition',\n",
       "       'collision_type', 'vehicle_movement', 'casualty_class', 'casualty_sex',\n",
       "       'casualty_age', 'casualty_severity', 'casualty_work',\n",
       "       'casualty_fitness', 'pedestrian_movement', 'accident_cause',\n",
       "       'accident_severity'],\n",
       "      dtype='object')"
      ]
     },
     "execution_count": 6,
     "metadata": {},
     "output_type": "execute_result"
    }
   ],
   "source": [
    "cat_features = df.select_dtypes(include=\"object\").columns\n",
    "cat_features"
   ]
  },
  {
   "cell_type": "code",
   "execution_count": 7,
   "id": "364294a0",
   "metadata": {},
   "outputs": [
    {
     "data": {
      "text/html": [
       "<div>\n",
       "<style scoped>\n",
       "    .dataframe tbody tr th:only-of-type {\n",
       "        vertical-align: middle;\n",
       "    }\n",
       "\n",
       "    .dataframe tbody tr th {\n",
       "        vertical-align: top;\n",
       "    }\n",
       "\n",
       "    .dataframe thead th {\n",
       "        text-align: right;\n",
       "    }\n",
       "</style>\n",
       "<table border=\"1\" class=\"dataframe\">\n",
       "  <thead>\n",
       "    <tr style=\"text-align: right;\">\n",
       "      <th></th>\n",
       "      <th>day_of_week</th>\n",
       "      <th>driver_age</th>\n",
       "      <th>driver_sex</th>\n",
       "      <th>educational_level</th>\n",
       "      <th>vehicle_driver_relation</th>\n",
       "      <th>driving_experience</th>\n",
       "      <th>vehicle_type</th>\n",
       "      <th>vehicle_owner</th>\n",
       "      <th>service_year</th>\n",
       "      <th>vehicle_defect</th>\n",
       "      <th>...</th>\n",
       "      <th>casualties</th>\n",
       "      <th>vehicle_movement</th>\n",
       "      <th>casualty_class</th>\n",
       "      <th>casualty_sex</th>\n",
       "      <th>casualty_age</th>\n",
       "      <th>casualty_severity</th>\n",
       "      <th>casualty_work</th>\n",
       "      <th>casualty_fitness</th>\n",
       "      <th>pedestrian_movement</th>\n",
       "      <th>accident_cause</th>\n",
       "    </tr>\n",
       "  </thead>\n",
       "  <tbody>\n",
       "    <tr>\n",
       "      <th>0</th>\n",
       "      <td>Monday</td>\n",
       "      <td>18-30</td>\n",
       "      <td>Male</td>\n",
       "      <td>Above high school</td>\n",
       "      <td>Employee</td>\n",
       "      <td>1-2yr</td>\n",
       "      <td>Automobile</td>\n",
       "      <td>Owner</td>\n",
       "      <td>Above 10yr</td>\n",
       "      <td>No defect</td>\n",
       "      <td>...</td>\n",
       "      <td>2</td>\n",
       "      <td>Going straight</td>\n",
       "      <td>na</td>\n",
       "      <td>na</td>\n",
       "      <td>na</td>\n",
       "      <td>na</td>\n",
       "      <td>Driver</td>\n",
       "      <td>Normal</td>\n",
       "      <td>Not a Pedestrian</td>\n",
       "      <td>Moving Backward</td>\n",
       "    </tr>\n",
       "    <tr>\n",
       "      <th>1</th>\n",
       "      <td>Monday</td>\n",
       "      <td>31-50</td>\n",
       "      <td>Male</td>\n",
       "      <td>Junior high school</td>\n",
       "      <td>Employee</td>\n",
       "      <td>Above 10yr</td>\n",
       "      <td>Public (&gt; 45 seats)</td>\n",
       "      <td>Owner</td>\n",
       "      <td>5-10yrs</td>\n",
       "      <td>No defect</td>\n",
       "      <td>...</td>\n",
       "      <td>2</td>\n",
       "      <td>Going straight</td>\n",
       "      <td>na</td>\n",
       "      <td>na</td>\n",
       "      <td>na</td>\n",
       "      <td>na</td>\n",
       "      <td>Driver</td>\n",
       "      <td>Normal</td>\n",
       "      <td>Not a Pedestrian</td>\n",
       "      <td>Overtaking</td>\n",
       "    </tr>\n",
       "    <tr>\n",
       "      <th>2</th>\n",
       "      <td>Monday</td>\n",
       "      <td>18-30</td>\n",
       "      <td>Male</td>\n",
       "      <td>Junior high school</td>\n",
       "      <td>Employee</td>\n",
       "      <td>1-2yr</td>\n",
       "      <td>Lorry (41?100Q)</td>\n",
       "      <td>Owner</td>\n",
       "      <td>Unknown</td>\n",
       "      <td>No defect</td>\n",
       "      <td>...</td>\n",
       "      <td>2</td>\n",
       "      <td>Going straight</td>\n",
       "      <td>Driver or rider</td>\n",
       "      <td>Male</td>\n",
       "      <td>31-50</td>\n",
       "      <td>3</td>\n",
       "      <td>Driver</td>\n",
       "      <td>Normal</td>\n",
       "      <td>Not a Pedestrian</td>\n",
       "      <td>Changing lane to the left</td>\n",
       "    </tr>\n",
       "    <tr>\n",
       "      <th>3</th>\n",
       "      <td>Sunday</td>\n",
       "      <td>18-30</td>\n",
       "      <td>Male</td>\n",
       "      <td>Junior high school</td>\n",
       "      <td>Employee</td>\n",
       "      <td>5-10yr</td>\n",
       "      <td>Public (&gt; 45 seats)</td>\n",
       "      <td>Governmental</td>\n",
       "      <td>Unknown</td>\n",
       "      <td>No defect</td>\n",
       "      <td>...</td>\n",
       "      <td>2</td>\n",
       "      <td>Going straight</td>\n",
       "      <td>Pedestrian</td>\n",
       "      <td>Female</td>\n",
       "      <td>18-30</td>\n",
       "      <td>3</td>\n",
       "      <td>Driver</td>\n",
       "      <td>Normal</td>\n",
       "      <td>Not a Pedestrian</td>\n",
       "      <td>Changing lane to the right</td>\n",
       "    </tr>\n",
       "    <tr>\n",
       "      <th>4</th>\n",
       "      <td>Sunday</td>\n",
       "      <td>18-30</td>\n",
       "      <td>Male</td>\n",
       "      <td>Junior high school</td>\n",
       "      <td>Employee</td>\n",
       "      <td>2-5yr</td>\n",
       "      <td>Automobile</td>\n",
       "      <td>Owner</td>\n",
       "      <td>5-10yrs</td>\n",
       "      <td>No defect</td>\n",
       "      <td>...</td>\n",
       "      <td>2</td>\n",
       "      <td>Going straight</td>\n",
       "      <td>na</td>\n",
       "      <td>na</td>\n",
       "      <td>na</td>\n",
       "      <td>na</td>\n",
       "      <td>Driver</td>\n",
       "      <td>Normal</td>\n",
       "      <td>Not a Pedestrian</td>\n",
       "      <td>Overtaking</td>\n",
       "    </tr>\n",
       "    <tr>\n",
       "      <th>...</th>\n",
       "      <td>...</td>\n",
       "      <td>...</td>\n",
       "      <td>...</td>\n",
       "      <td>...</td>\n",
       "      <td>...</td>\n",
       "      <td>...</td>\n",
       "      <td>...</td>\n",
       "      <td>...</td>\n",
       "      <td>...</td>\n",
       "      <td>...</td>\n",
       "      <td>...</td>\n",
       "      <td>...</td>\n",
       "      <td>...</td>\n",
       "      <td>...</td>\n",
       "      <td>...</td>\n",
       "      <td>...</td>\n",
       "      <td>...</td>\n",
       "      <td>...</td>\n",
       "      <td>...</td>\n",
       "      <td>...</td>\n",
       "      <td>...</td>\n",
       "    </tr>\n",
       "    <tr>\n",
       "      <th>12311</th>\n",
       "      <td>Wednesday</td>\n",
       "      <td>31-50</td>\n",
       "      <td>Male</td>\n",
       "      <td>Junior high school</td>\n",
       "      <td>Employee</td>\n",
       "      <td>2-5yr</td>\n",
       "      <td>Lorry (11?40Q)</td>\n",
       "      <td>Owner</td>\n",
       "      <td>Unknown</td>\n",
       "      <td>No defect</td>\n",
       "      <td>...</td>\n",
       "      <td>1</td>\n",
       "      <td>Going straight</td>\n",
       "      <td>na</td>\n",
       "      <td>na</td>\n",
       "      <td>na</td>\n",
       "      <td>na</td>\n",
       "      <td>Driver</td>\n",
       "      <td>Normal</td>\n",
       "      <td>Not a Pedestrian</td>\n",
       "      <td>No distancing</td>\n",
       "    </tr>\n",
       "    <tr>\n",
       "      <th>12312</th>\n",
       "      <td>Sunday</td>\n",
       "      <td>Unknown</td>\n",
       "      <td>Male</td>\n",
       "      <td>Elementary school</td>\n",
       "      <td>Employee</td>\n",
       "      <td>5-10yr</td>\n",
       "      <td>Automobile</td>\n",
       "      <td>Owner</td>\n",
       "      <td>Unknown</td>\n",
       "      <td>No defect</td>\n",
       "      <td>...</td>\n",
       "      <td>1</td>\n",
       "      <td>Other</td>\n",
       "      <td>na</td>\n",
       "      <td>na</td>\n",
       "      <td>na</td>\n",
       "      <td>na</td>\n",
       "      <td>Driver</td>\n",
       "      <td>Normal</td>\n",
       "      <td>Not a Pedestrian</td>\n",
       "      <td>No distancing</td>\n",
       "    </tr>\n",
       "    <tr>\n",
       "      <th>12313</th>\n",
       "      <td>Sunday</td>\n",
       "      <td>Over 51</td>\n",
       "      <td>Male</td>\n",
       "      <td>Junior high school</td>\n",
       "      <td>Employee</td>\n",
       "      <td>5-10yr</td>\n",
       "      <td>Bajaj</td>\n",
       "      <td>Owner</td>\n",
       "      <td>2-5yrs</td>\n",
       "      <td>No defect</td>\n",
       "      <td>...</td>\n",
       "      <td>1</td>\n",
       "      <td>Other</td>\n",
       "      <td>Driver or rider</td>\n",
       "      <td>Male</td>\n",
       "      <td>31-50</td>\n",
       "      <td>3</td>\n",
       "      <td>Driver</td>\n",
       "      <td>Normal</td>\n",
       "      <td>Not a Pedestrian</td>\n",
       "      <td>Changing lane to the right</td>\n",
       "    </tr>\n",
       "    <tr>\n",
       "      <th>12314</th>\n",
       "      <td>Sunday</td>\n",
       "      <td>18-30</td>\n",
       "      <td>Female</td>\n",
       "      <td>Junior high school</td>\n",
       "      <td>Employee</td>\n",
       "      <td>Above 10yr</td>\n",
       "      <td>Lorry (41?100Q)</td>\n",
       "      <td>Owner</td>\n",
       "      <td>2-5yrs</td>\n",
       "      <td>No defect</td>\n",
       "      <td>...</td>\n",
       "      <td>1</td>\n",
       "      <td>Other</td>\n",
       "      <td>na</td>\n",
       "      <td>na</td>\n",
       "      <td>na</td>\n",
       "      <td>na</td>\n",
       "      <td>Driver</td>\n",
       "      <td>Normal</td>\n",
       "      <td>Not a Pedestrian</td>\n",
       "      <td>Driving under the influence of drugs</td>\n",
       "    </tr>\n",
       "    <tr>\n",
       "      <th>12315</th>\n",
       "      <td>Sunday</td>\n",
       "      <td>18-30</td>\n",
       "      <td>Male</td>\n",
       "      <td>Junior high school</td>\n",
       "      <td>Employee</td>\n",
       "      <td>5-10yr</td>\n",
       "      <td>Other</td>\n",
       "      <td>Owner</td>\n",
       "      <td>2-5yrs</td>\n",
       "      <td>No defect</td>\n",
       "      <td>...</td>\n",
       "      <td>1</td>\n",
       "      <td>Stopping</td>\n",
       "      <td>Pedestrian</td>\n",
       "      <td>Female</td>\n",
       "      <td>5</td>\n",
       "      <td>3</td>\n",
       "      <td>Driver</td>\n",
       "      <td>Normal</td>\n",
       "      <td>Crossing from nearside - masked by parked or s...</td>\n",
       "      <td>Changing lane to the right</td>\n",
       "    </tr>\n",
       "  </tbody>\n",
       "</table>\n",
       "<p>12316 rows × 29 columns</p>\n",
       "</div>"
      ],
      "text/plain": [
       "      day_of_week driver_age driver_sex   educational_level   \n",
       "0          Monday      18-30       Male   Above high school  \\\n",
       "1          Monday      31-50       Male  Junior high school   \n",
       "2          Monday      18-30       Male  Junior high school   \n",
       "3          Sunday      18-30       Male  Junior high school   \n",
       "4          Sunday      18-30       Male  Junior high school   \n",
       "...           ...        ...        ...                 ...   \n",
       "12311   Wednesday      31-50       Male  Junior high school   \n",
       "12312      Sunday    Unknown       Male   Elementary school   \n",
       "12313      Sunday    Over 51       Male  Junior high school   \n",
       "12314      Sunday      18-30     Female  Junior high school   \n",
       "12315      Sunday      18-30       Male  Junior high school   \n",
       "\n",
       "      vehicle_driver_relation driving_experience         vehicle_type   \n",
       "0                    Employee              1-2yr           Automobile  \\\n",
       "1                    Employee         Above 10yr  Public (> 45 seats)   \n",
       "2                    Employee              1-2yr      Lorry (41?100Q)   \n",
       "3                    Employee             5-10yr  Public (> 45 seats)   \n",
       "4                    Employee              2-5yr           Automobile   \n",
       "...                       ...                ...                  ...   \n",
       "12311                Employee              2-5yr       Lorry (11?40Q)   \n",
       "12312                Employee             5-10yr           Automobile   \n",
       "12313                Employee             5-10yr                Bajaj   \n",
       "12314                Employee         Above 10yr      Lorry (41?100Q)   \n",
       "12315                Employee             5-10yr                Other   \n",
       "\n",
       "      vehicle_owner service_year vehicle_defect  ... casualties   \n",
       "0             Owner   Above 10yr      No defect  ...          2  \\\n",
       "1             Owner      5-10yrs      No defect  ...          2   \n",
       "2             Owner      Unknown      No defect  ...          2   \n",
       "3      Governmental      Unknown      No defect  ...          2   \n",
       "4             Owner      5-10yrs      No defect  ...          2   \n",
       "...             ...          ...            ...  ...        ...   \n",
       "12311         Owner      Unknown      No defect  ...          1   \n",
       "12312         Owner      Unknown      No defect  ...          1   \n",
       "12313         Owner       2-5yrs      No defect  ...          1   \n",
       "12314         Owner       2-5yrs      No defect  ...          1   \n",
       "12315         Owner       2-5yrs      No defect  ...          1   \n",
       "\n",
       "      vehicle_movement   casualty_class casualty_sex casualty_age   \n",
       "0       Going straight               na           na           na  \\\n",
       "1       Going straight               na           na           na   \n",
       "2       Going straight  Driver or rider         Male        31-50   \n",
       "3       Going straight       Pedestrian       Female        18-30   \n",
       "4       Going straight               na           na           na   \n",
       "...                ...              ...          ...          ...   \n",
       "12311   Going straight               na           na           na   \n",
       "12312            Other               na           na           na   \n",
       "12313            Other  Driver or rider         Male        31-50   \n",
       "12314            Other               na           na           na   \n",
       "12315         Stopping       Pedestrian       Female            5   \n",
       "\n",
       "      casualty_severity casualty_work casualty_fitness   \n",
       "0                    na        Driver           Normal  \\\n",
       "1                    na        Driver           Normal   \n",
       "2                     3        Driver           Normal   \n",
       "3                     3        Driver           Normal   \n",
       "4                    na        Driver           Normal   \n",
       "...                 ...           ...              ...   \n",
       "12311                na        Driver           Normal   \n",
       "12312                na        Driver           Normal   \n",
       "12313                 3        Driver           Normal   \n",
       "12314                na        Driver           Normal   \n",
       "12315                 3        Driver           Normal   \n",
       "\n",
       "                                     pedestrian_movement   \n",
       "0                                       Not a Pedestrian  \\\n",
       "1                                       Not a Pedestrian   \n",
       "2                                       Not a Pedestrian   \n",
       "3                                       Not a Pedestrian   \n",
       "4                                       Not a Pedestrian   \n",
       "...                                                  ...   \n",
       "12311                                   Not a Pedestrian   \n",
       "12312                                   Not a Pedestrian   \n",
       "12313                                   Not a Pedestrian   \n",
       "12314                                   Not a Pedestrian   \n",
       "12315  Crossing from nearside - masked by parked or s...   \n",
       "\n",
       "                             accident_cause  \n",
       "0                           Moving Backward  \n",
       "1                                Overtaking  \n",
       "2                 Changing lane to the left  \n",
       "3                Changing lane to the right  \n",
       "4                                Overtaking  \n",
       "...                                     ...  \n",
       "12311                         No distancing  \n",
       "12312                         No distancing  \n",
       "12313            Changing lane to the right  \n",
       "12314  Driving under the influence of drugs  \n",
       "12315            Changing lane to the right  \n",
       "\n",
       "[12316 rows x 29 columns]"
      ]
     },
     "execution_count": 7,
     "metadata": {},
     "output_type": "execute_result"
    }
   ],
   "source": [
    "X = df.drop(columns=['accident_severity', 'accident_area'], axis=1)\n",
    "X"
   ]
  },
  {
   "cell_type": "code",
   "execution_count": 8,
   "id": "61158a6d",
   "metadata": {},
   "outputs": [
    {
     "data": {
      "text/plain": [
       "0         Slight Injury\n",
       "1         Slight Injury\n",
       "2        Serious Injury\n",
       "3         Slight Injury\n",
       "4         Slight Injury\n",
       "              ...      \n",
       "12311     Slight Injury\n",
       "12312     Slight Injury\n",
       "12313    Serious Injury\n",
       "12314     Slight Injury\n",
       "12315     Slight Injury\n",
       "Name: accident_severity, Length: 12316, dtype: object"
      ]
     },
     "execution_count": 8,
     "metadata": {},
     "output_type": "execute_result"
    }
   ],
   "source": [
    "y = df['accident_severity']\n",
    "y"
   ]
  },
  {
   "cell_type": "markdown",
   "id": "98257403",
   "metadata": {},
   "source": [
    "## Encoding & scaling"
   ]
  },
  {
   "cell_type": "code",
   "execution_count": 9,
   "id": "6bb1737c",
   "metadata": {},
   "outputs": [
    {
     "data": {
      "text/html": [
       "<div>\n",
       "<style scoped>\n",
       "    .dataframe tbody tr th:only-of-type {\n",
       "        vertical-align: middle;\n",
       "    }\n",
       "\n",
       "    .dataframe tbody tr th {\n",
       "        vertical-align: top;\n",
       "    }\n",
       "\n",
       "    .dataframe thead th {\n",
       "        text-align: right;\n",
       "    }\n",
       "</style>\n",
       "<table border=\"1\" class=\"dataframe\">\n",
       "  <thead>\n",
       "    <tr style=\"text-align: right;\">\n",
       "      <th></th>\n",
       "      <th>day_of_week</th>\n",
       "      <th>driver_age</th>\n",
       "      <th>driver_sex</th>\n",
       "      <th>educational_level</th>\n",
       "      <th>vehicle_driver_relation</th>\n",
       "      <th>driving_experience</th>\n",
       "      <th>vehicle_type</th>\n",
       "      <th>vehicle_owner</th>\n",
       "      <th>service_year</th>\n",
       "      <th>vehicle_defect</th>\n",
       "      <th>...</th>\n",
       "      <th>casualties</th>\n",
       "      <th>vehicle_movement</th>\n",
       "      <th>casualty_class</th>\n",
       "      <th>casualty_sex</th>\n",
       "      <th>casualty_age</th>\n",
       "      <th>casualty_severity</th>\n",
       "      <th>casualty_work</th>\n",
       "      <th>casualty_fitness</th>\n",
       "      <th>pedestrian_movement</th>\n",
       "      <th>accident_cause</th>\n",
       "    </tr>\n",
       "  </thead>\n",
       "  <tbody>\n",
       "    <tr>\n",
       "      <th>0</th>\n",
       "      <td>Monday</td>\n",
       "      <td>18-30</td>\n",
       "      <td>Male</td>\n",
       "      <td>Above high school</td>\n",
       "      <td>Employee</td>\n",
       "      <td>1-2yr</td>\n",
       "      <td>Automobile</td>\n",
       "      <td>Owner</td>\n",
       "      <td>Above 10yr</td>\n",
       "      <td>No defect</td>\n",
       "      <td>...</td>\n",
       "      <td>2</td>\n",
       "      <td>Going straight</td>\n",
       "      <td>na</td>\n",
       "      <td>na</td>\n",
       "      <td>na</td>\n",
       "      <td>na</td>\n",
       "      <td>Driver</td>\n",
       "      <td>Normal</td>\n",
       "      <td>Not a Pedestrian</td>\n",
       "      <td>Moving Backward</td>\n",
       "    </tr>\n",
       "    <tr>\n",
       "      <th>1</th>\n",
       "      <td>Monday</td>\n",
       "      <td>31-50</td>\n",
       "      <td>Male</td>\n",
       "      <td>Junior high school</td>\n",
       "      <td>Employee</td>\n",
       "      <td>Above 10yr</td>\n",
       "      <td>Public (&gt; 45 seats)</td>\n",
       "      <td>Owner</td>\n",
       "      <td>5-10yrs</td>\n",
       "      <td>No defect</td>\n",
       "      <td>...</td>\n",
       "      <td>2</td>\n",
       "      <td>Going straight</td>\n",
       "      <td>na</td>\n",
       "      <td>na</td>\n",
       "      <td>na</td>\n",
       "      <td>na</td>\n",
       "      <td>Driver</td>\n",
       "      <td>Normal</td>\n",
       "      <td>Not a Pedestrian</td>\n",
       "      <td>Overtaking</td>\n",
       "    </tr>\n",
       "    <tr>\n",
       "      <th>2</th>\n",
       "      <td>Monday</td>\n",
       "      <td>18-30</td>\n",
       "      <td>Male</td>\n",
       "      <td>Junior high school</td>\n",
       "      <td>Employee</td>\n",
       "      <td>1-2yr</td>\n",
       "      <td>Lorry (41?100Q)</td>\n",
       "      <td>Owner</td>\n",
       "      <td>Unknown</td>\n",
       "      <td>No defect</td>\n",
       "      <td>...</td>\n",
       "      <td>2</td>\n",
       "      <td>Going straight</td>\n",
       "      <td>Driver or rider</td>\n",
       "      <td>Male</td>\n",
       "      <td>31-50</td>\n",
       "      <td>3</td>\n",
       "      <td>Driver</td>\n",
       "      <td>Normal</td>\n",
       "      <td>Not a Pedestrian</td>\n",
       "      <td>Changing lane to the left</td>\n",
       "    </tr>\n",
       "    <tr>\n",
       "      <th>3</th>\n",
       "      <td>Sunday</td>\n",
       "      <td>18-30</td>\n",
       "      <td>Male</td>\n",
       "      <td>Junior high school</td>\n",
       "      <td>Employee</td>\n",
       "      <td>5-10yr</td>\n",
       "      <td>Public (&gt; 45 seats)</td>\n",
       "      <td>Governmental</td>\n",
       "      <td>Unknown</td>\n",
       "      <td>No defect</td>\n",
       "      <td>...</td>\n",
       "      <td>2</td>\n",
       "      <td>Going straight</td>\n",
       "      <td>Pedestrian</td>\n",
       "      <td>Female</td>\n",
       "      <td>18-30</td>\n",
       "      <td>3</td>\n",
       "      <td>Driver</td>\n",
       "      <td>Normal</td>\n",
       "      <td>Not a Pedestrian</td>\n",
       "      <td>Changing lane to the right</td>\n",
       "    </tr>\n",
       "    <tr>\n",
       "      <th>4</th>\n",
       "      <td>Sunday</td>\n",
       "      <td>18-30</td>\n",
       "      <td>Male</td>\n",
       "      <td>Junior high school</td>\n",
       "      <td>Employee</td>\n",
       "      <td>2-5yr</td>\n",
       "      <td>Automobile</td>\n",
       "      <td>Owner</td>\n",
       "      <td>5-10yrs</td>\n",
       "      <td>No defect</td>\n",
       "      <td>...</td>\n",
       "      <td>2</td>\n",
       "      <td>Going straight</td>\n",
       "      <td>na</td>\n",
       "      <td>na</td>\n",
       "      <td>na</td>\n",
       "      <td>na</td>\n",
       "      <td>Driver</td>\n",
       "      <td>Normal</td>\n",
       "      <td>Not a Pedestrian</td>\n",
       "      <td>Overtaking</td>\n",
       "    </tr>\n",
       "  </tbody>\n",
       "</table>\n",
       "<p>5 rows × 29 columns</p>\n",
       "</div>"
      ],
      "text/plain": [
       "  day_of_week driver_age driver_sex   educational_level   \n",
       "0      Monday      18-30       Male   Above high school  \\\n",
       "1      Monday      31-50       Male  Junior high school   \n",
       "2      Monday      18-30       Male  Junior high school   \n",
       "3      Sunday      18-30       Male  Junior high school   \n",
       "4      Sunday      18-30       Male  Junior high school   \n",
       "\n",
       "  vehicle_driver_relation driving_experience         vehicle_type   \n",
       "0                Employee              1-2yr           Automobile  \\\n",
       "1                Employee         Above 10yr  Public (> 45 seats)   \n",
       "2                Employee              1-2yr      Lorry (41?100Q)   \n",
       "3                Employee             5-10yr  Public (> 45 seats)   \n",
       "4                Employee              2-5yr           Automobile   \n",
       "\n",
       "  vehicle_owner service_year vehicle_defect  ... casualties vehicle_movement   \n",
       "0         Owner   Above 10yr      No defect  ...          2   Going straight  \\\n",
       "1         Owner      5-10yrs      No defect  ...          2   Going straight   \n",
       "2         Owner      Unknown      No defect  ...          2   Going straight   \n",
       "3  Governmental      Unknown      No defect  ...          2   Going straight   \n",
       "4         Owner      5-10yrs      No defect  ...          2   Going straight   \n",
       "\n",
       "    casualty_class casualty_sex casualty_age casualty_severity casualty_work   \n",
       "0               na           na           na                na        Driver  \\\n",
       "1               na           na           na                na        Driver   \n",
       "2  Driver or rider         Male        31-50                 3        Driver   \n",
       "3       Pedestrian       Female        18-30                 3        Driver   \n",
       "4               na           na           na                na        Driver   \n",
       "\n",
       "  casualty_fitness  pedestrian_movement              accident_cause  \n",
       "0           Normal     Not a Pedestrian             Moving Backward  \n",
       "1           Normal     Not a Pedestrian                  Overtaking  \n",
       "2           Normal     Not a Pedestrian   Changing lane to the left  \n",
       "3           Normal     Not a Pedestrian  Changing lane to the right  \n",
       "4           Normal     Not a Pedestrian                  Overtaking  \n",
       "\n",
       "[5 rows x 29 columns]"
      ]
     },
     "execution_count": 9,
     "metadata": {},
     "output_type": "execute_result"
    }
   ],
   "source": [
    "X.head()"
   ]
  },
  {
   "cell_type": "code",
   "execution_count": 10,
   "id": "2dead738",
   "metadata": {},
   "outputs": [],
   "source": [
    "from sklearn.model_selection import train_test_split\n",
    "X_train, X_test, y_train, y_test = train_test_split(X, y, test_size=0.3, random_state=0)"
   ]
  },
  {
   "cell_type": "code",
   "execution_count": 11,
   "id": "45a4368b",
   "metadata": {},
   "outputs": [
    {
     "data": {
      "text/html": [
       "<style>#sk-container-id-1 {color: black;background-color: white;}#sk-container-id-1 pre{padding: 0;}#sk-container-id-1 div.sk-toggleable {background-color: white;}#sk-container-id-1 label.sk-toggleable__label {cursor: pointer;display: block;width: 100%;margin-bottom: 0;padding: 0.3em;box-sizing: border-box;text-align: center;}#sk-container-id-1 label.sk-toggleable__label-arrow:before {content: \"▸\";float: left;margin-right: 0.25em;color: #696969;}#sk-container-id-1 label.sk-toggleable__label-arrow:hover:before {color: black;}#sk-container-id-1 div.sk-estimator:hover label.sk-toggleable__label-arrow:before {color: black;}#sk-container-id-1 div.sk-toggleable__content {max-height: 0;max-width: 0;overflow: hidden;text-align: left;background-color: #f0f8ff;}#sk-container-id-1 div.sk-toggleable__content pre {margin: 0.2em;color: black;border-radius: 0.25em;background-color: #f0f8ff;}#sk-container-id-1 input.sk-toggleable__control:checked~div.sk-toggleable__content {max-height: 200px;max-width: 100%;overflow: auto;}#sk-container-id-1 input.sk-toggleable__control:checked~label.sk-toggleable__label-arrow:before {content: \"▾\";}#sk-container-id-1 div.sk-estimator input.sk-toggleable__control:checked~label.sk-toggleable__label {background-color: #d4ebff;}#sk-container-id-1 div.sk-label input.sk-toggleable__control:checked~label.sk-toggleable__label {background-color: #d4ebff;}#sk-container-id-1 input.sk-hidden--visually {border: 0;clip: rect(1px 1px 1px 1px);clip: rect(1px, 1px, 1px, 1px);height: 1px;margin: -1px;overflow: hidden;padding: 0;position: absolute;width: 1px;}#sk-container-id-1 div.sk-estimator {font-family: monospace;background-color: #f0f8ff;border: 1px dotted black;border-radius: 0.25em;box-sizing: border-box;margin-bottom: 0.5em;}#sk-container-id-1 div.sk-estimator:hover {background-color: #d4ebff;}#sk-container-id-1 div.sk-parallel-item::after {content: \"\";width: 100%;border-bottom: 1px solid gray;flex-grow: 1;}#sk-container-id-1 div.sk-label:hover label.sk-toggleable__label {background-color: #d4ebff;}#sk-container-id-1 div.sk-serial::before {content: \"\";position: absolute;border-left: 1px solid gray;box-sizing: border-box;top: 0;bottom: 0;left: 50%;z-index: 0;}#sk-container-id-1 div.sk-serial {display: flex;flex-direction: column;align-items: center;background-color: white;padding-right: 0.2em;padding-left: 0.2em;position: relative;}#sk-container-id-1 div.sk-item {position: relative;z-index: 1;}#sk-container-id-1 div.sk-parallel {display: flex;align-items: stretch;justify-content: center;background-color: white;position: relative;}#sk-container-id-1 div.sk-item::before, #sk-container-id-1 div.sk-parallel-item::before {content: \"\";position: absolute;border-left: 1px solid gray;box-sizing: border-box;top: 0;bottom: 0;left: 50%;z-index: -1;}#sk-container-id-1 div.sk-parallel-item {display: flex;flex-direction: column;z-index: 1;position: relative;background-color: white;}#sk-container-id-1 div.sk-parallel-item:first-child::after {align-self: flex-end;width: 50%;}#sk-container-id-1 div.sk-parallel-item:last-child::after {align-self: flex-start;width: 50%;}#sk-container-id-1 div.sk-parallel-item:only-child::after {width: 0;}#sk-container-id-1 div.sk-dashed-wrapped {border: 1px dashed gray;margin: 0 0.4em 0.5em 0.4em;box-sizing: border-box;padding-bottom: 0.4em;background-color: white;}#sk-container-id-1 div.sk-label label {font-family: monospace;font-weight: bold;display: inline-block;line-height: 1.2em;}#sk-container-id-1 div.sk-label-container {text-align: center;}#sk-container-id-1 div.sk-container {/* jupyter's `normalize.less` sets `[hidden] { display: none; }` but bootstrap.min.css set `[hidden] { display: none !important; }` so we also need the `!important` here to be able to override the default hidden behavior on the sphinx rendered scikit-learn.org. See: https://github.com/scikit-learn/scikit-learn/issues/21755 */display: inline-block !important;position: relative;}#sk-container-id-1 div.sk-text-repr-fallback {display: none;}</style><div id=\"sk-container-id-1\" class=\"sk-top-container\"><div class=\"sk-text-repr-fallback\"><pre>LabelEncoder()</pre><b>In a Jupyter environment, please rerun this cell to show the HTML representation or trust the notebook. <br />On GitHub, the HTML representation is unable to render, please try loading this page with nbviewer.org.</b></div><div class=\"sk-container\" hidden><div class=\"sk-item\"><div class=\"sk-estimator sk-toggleable\"><input class=\"sk-toggleable__control sk-hidden--visually\" id=\"sk-estimator-id-1\" type=\"checkbox\" checked><label for=\"sk-estimator-id-1\" class=\"sk-toggleable__label sk-toggleable__label-arrow\">LabelEncoder</label><div class=\"sk-toggleable__content\"><pre>LabelEncoder()</pre></div></div></div></div></div>"
      ],
      "text/plain": [
       "LabelEncoder()"
      ]
     },
     "execution_count": 11,
     "metadata": {},
     "output_type": "execute_result"
    }
   ],
   "source": [
    "le = LabelEncoder()\n",
    "le.fit(y_train)"
   ]
  },
  {
   "cell_type": "code",
   "execution_count": 12,
   "id": "91704687",
   "metadata": {},
   "outputs": [
    {
     "data": {
      "text/plain": [
       "array(['Fatal injury', 'Serious Injury', 'Slight Injury'], dtype=object)"
      ]
     },
     "execution_count": 12,
     "metadata": {},
     "output_type": "execute_result"
    }
   ],
   "source": [
    "le.classes_"
   ]
  },
  {
   "cell_type": "code",
   "execution_count": 13,
   "id": "da831236",
   "metadata": {},
   "outputs": [],
   "source": [
    "y_train = le.transform(y_train)\n",
    "y_test = le.transform(y_test)"
   ]
  },
  {
   "cell_type": "code",
   "execution_count": 14,
   "id": "8b96f0b4",
   "metadata": {},
   "outputs": [
    {
     "data": {
      "text/plain": [
       "array([2, 2, 2, ..., 2, 2, 2])"
      ]
     },
     "execution_count": 14,
     "metadata": {},
     "output_type": "execute_result"
    }
   ],
   "source": [
    "y_train"
   ]
  },
  {
   "cell_type": "code",
   "execution_count": 15,
   "id": "c460cdc0",
   "metadata": {},
   "outputs": [
    {
     "data": {
      "text/plain": [
       "array([2, 2, 2, ..., 2, 2, 2])"
      ]
     },
     "execution_count": 15,
     "metadata": {},
     "output_type": "execute_result"
    }
   ],
   "source": [
    "y_test"
   ]
  },
  {
   "cell_type": "code",
   "execution_count": 16,
   "id": "1e83be68",
   "metadata": {},
   "outputs": [],
   "source": [
    "num_features = X.select_dtypes(exclude=\"object\").columns \n",
    "cat_features = X.select_dtypes(include=\"object\").columns"
   ]
  },
  {
   "cell_type": "code",
   "execution_count": 17,
   "id": "711d18be",
   "metadata": {},
   "outputs": [
    {
     "data": {
      "text/plain": [
       "Index(['vehicles_involved', 'casualties'], dtype='object')"
      ]
     },
     "execution_count": 17,
     "metadata": {},
     "output_type": "execute_result"
    }
   ],
   "source": [
    "num_features"
   ]
  },
  {
   "cell_type": "code",
   "execution_count": 18,
   "id": "8a0838b3",
   "metadata": {},
   "outputs": [
    {
     "data": {
      "text/plain": [
       "Index(['day_of_week', 'driver_age', 'driver_sex', 'educational_level',\n",
       "       'vehicle_driver_relation', 'driving_experience', 'vehicle_type',\n",
       "       'vehicle_owner', 'service_year', 'vehicle_defect', 'lanes',\n",
       "       'road_allignment', 'junction_type', 'surface_type',\n",
       "       'road_surface_conditions', 'light_condition', 'weather_condition',\n",
       "       'collision_type', 'vehicle_movement', 'casualty_class', 'casualty_sex',\n",
       "       'casualty_age', 'casualty_severity', 'casualty_work',\n",
       "       'casualty_fitness', 'pedestrian_movement', 'accident_cause'],\n",
       "      dtype='object')"
      ]
     },
     "execution_count": 18,
     "metadata": {},
     "output_type": "execute_result"
    }
   ],
   "source": [
    "cat_features"
   ]
  },
  {
   "cell_type": "code",
   "execution_count": 19,
   "id": "3c6192c4",
   "metadata": {},
   "outputs": [],
   "source": [
    "from sklearn.impute import SimpleImputer"
   ]
  },
  {
   "cell_type": "code",
   "execution_count": 20,
   "id": "8207fc46",
   "metadata": {},
   "outputs": [],
   "source": [
    "transformer = ColumnTransformer(transformers=[\n",
    "    (\"OrdinalEncoder\",OrdinalEncoder(), cat_features),\n",
    "    (\"StandardScaler\", StandardScaler(), num_features),\n",
    "], remainder=\"drop\")"
   ]
  },
  {
   "cell_type": "code",
   "execution_count": 21,
   "id": "599412b3",
   "metadata": {},
   "outputs": [],
   "source": [
    "X_train = transformer.fit_transform(X_train)"
   ]
  },
  {
   "cell_type": "code",
   "execution_count": 22,
   "id": "95bc8c0f",
   "metadata": {},
   "outputs": [],
   "source": [
    "X_test = transformer.transform(X_test)"
   ]
  },
  {
   "cell_type": "code",
   "execution_count": 23,
   "id": "8810d438",
   "metadata": {},
   "outputs": [
    {
     "data": {
      "text/plain": [
       "(8621, 29)"
      ]
     },
     "execution_count": 23,
     "metadata": {},
     "output_type": "execute_result"
    }
   ],
   "source": [
    "X_train.shape"
   ]
  },
  {
   "cell_type": "code",
   "execution_count": 24,
   "id": "95b8aeec",
   "metadata": {},
   "outputs": [
    {
     "data": {
      "text/plain": [
       "(3695, 29)"
      ]
     },
     "execution_count": 24,
     "metadata": {},
     "output_type": "execute_result"
    }
   ],
   "source": [
    "X_test.shape"
   ]
  },
  {
   "cell_type": "markdown",
   "id": "6be555a4",
   "metadata": {},
   "source": [
    "## Create an evaluation function to give all metrics after model Training"
   ]
  },
  {
   "cell_type": "code",
   "execution_count": 25,
   "id": "66bc4703",
   "metadata": {},
   "outputs": [],
   "source": [
    "def evaluate_model(true, predicted):\n",
    "    score_f1 = f1_score(true, predicted, average=\"weighted\")\n",
    "    accuracy = accuracy_score(true, predicted)\n",
    "\n",
    "    return score_f1, accuracy"
   ]
  },
  {
   "cell_type": "code",
   "execution_count": 26,
   "id": "e56dc168",
   "metadata": {},
   "outputs": [],
   "source": [
    "from sklearn.datasets import make_classification\n",
    "from sklearn.model_selection import train_test_split\n",
    "from sklearn.preprocessing import StandardScaler\n",
    "from sklearn.pipeline import Pipeline\n",
    "from sklearn.linear_model import LogisticRegression\n",
    "from sklearn.tree import DecisionTreeClassifier\n",
    "from sklearn.ensemble import RandomForestClassifier\n",
    "from sklearn.neighbors import KNeighborsClassifier\n",
    "from sklearn.naive_bayes import GaussianNB\n",
    "from sklearn.svm import SVC\n",
    "from sklearn.metrics import accuracy_score, precision_score, recall_score, f1_score\n",
    "\n",
    "def fit_classification_models(X, y, test_size=0.2, random_state=42):\n",
    "    \"\"\"\n",
    "    Fit classification models using all the available algorithms in scikit-learn.\n",
    "\n",
    "    Parameters:\n",
    "    -----------\n",
    "    X : array-like of shape (n_samples, n_features)\n",
    "        The input data.\n",
    "\n",
    "    y : array-like of shape (n_samples,)\n",
    "        The target variable.\n",
    "\n",
    "    test_size : float, default=0.2\n",
    "        The proportion of the dataset to include in the test split.\n",
    "\n",
    "    random_state : int, default=42\n",
    "        Controls the randomness of the dataset splitting.\n",
    "\n",
    "    Returns:\n",
    "    --------\n",
    "    results : dict\n",
    "        A dictionary containing the performance metrics for each classification algorithm.\n",
    "    \"\"\"\n",
    "    # Split the dataset into training and testing sets\n",
    "    X_train, X_test, y_train, y_test = train_test_split(X, y, test_size=test_size, random_state=random_state)\n",
    "\n",
    "    # Create pipelines for all the classifiers\n",
    "    pipelines = {\n",
    "        'Logistic Regression': Pipeline([('scaler', StandardScaler()), ('classifier', LogisticRegression())]),\n",
    "        'Decision Tree': Pipeline([('scaler', StandardScaler()), ('classifier', DecisionTreeClassifier())]),\n",
    "        'Random Forest': Pipeline([('scaler', StandardScaler()), ('classifier', RandomForestClassifier())]),\n",
    "        'K-Nearest Neighbors': Pipeline([('scaler', StandardScaler()), ('classifier', KNeighborsClassifier())]),\n",
    "        'Gaussian Naive Bayes': Pipeline([('scaler', StandardScaler()), ('classifier', GaussianNB())]),\n",
    "        'Support Vector Machine': Pipeline([('scaler', StandardScaler()), ('classifier', SVC())]),\n",
    "        'XGBoost': Pipeline([('scaler', StandardScaler()), ('classifier', XGBClassifier())]),\n",
    "        'ExtraTreesClassifier': Pipeline([('scaler', StandardScaler()), ('classifier', ExtraTreesClassifier())]),\n",
    "        'CatBoostClassifier': Pipeline([('scaler', StandardScaler()), ('classifier', CatBoostClassifier())]),\n",
    "        'AdaBoostClassifier': Pipeline([('scaler', StandardScaler()), ('classifier', AdaBoostClassifier())]),\n",
    "    }\n",
    "\n",
    "    # Fit and evaluate all the classifiers\n",
    "    results = {}\n",
    "    model_list = []\n",
    "    acc_list = []\n",
    "    f1_list = []\n",
    "    \n",
    "    for classifier_name, pipeline in pipelines.items():\n",
    "        pipeline.fit(X_train, y_train)\n",
    "        y_pred = pipeline.predict(X_test)\n",
    "        accuracy = accuracy_score(y_test, y_pred)\n",
    "        f1 = f1_score(y_test, y_pred, average=\"weighted\")\n",
    "        results[classifier_name] = {'accuracy': accuracy, 'f1-score': f1}\n",
    "\n",
    "        model_list.append(results)\n",
    "\n",
    "    return model_list\n"
   ]
  },
  {
   "cell_type": "code",
   "execution_count": 27,
   "id": "276cdb23",
   "metadata": {},
   "outputs": [
    {
     "name": "stdout",
     "output_type": "stream",
     "text": [
      "Learning rate set to 0.087316\n",
      "0:\tlearn: 1.0005097\ttotal: 151ms\tremaining: 2m 31s\n",
      "1:\tlearn: 0.9221380\ttotal: 158ms\tremaining: 1m 18s\n",
      "2:\tlearn: 0.8588826\ttotal: 165ms\tremaining: 54.8s\n",
      "3:\tlearn: 0.8076284\ttotal: 172ms\tremaining: 42.9s\n",
      "4:\tlearn: 0.7641831\ttotal: 180ms\tremaining: 35.7s\n",
      "5:\tlearn: 0.7267345\ttotal: 187ms\tremaining: 30.9s\n",
      "6:\tlearn: 0.6924501\ttotal: 193ms\tremaining: 27.4s\n",
      "7:\tlearn: 0.6649635\ttotal: 200ms\tremaining: 24.8s\n",
      "8:\tlearn: 0.6397327\ttotal: 207ms\tremaining: 22.8s\n",
      "9:\tlearn: 0.6190085\ttotal: 214ms\tremaining: 21.2s\n",
      "10:\tlearn: 0.5994859\ttotal: 221ms\tremaining: 19.9s\n",
      "11:\tlearn: 0.5834767\ttotal: 228ms\tremaining: 18.8s\n",
      "12:\tlearn: 0.5692314\ttotal: 232ms\tremaining: 17.6s\n",
      "13:\tlearn: 0.5561694\ttotal: 240ms\tremaining: 16.9s\n",
      "14:\tlearn: 0.5443144\ttotal: 246ms\tremaining: 16.2s\n",
      "15:\tlearn: 0.5335399\ttotal: 253ms\tremaining: 15.6s\n",
      "16:\tlearn: 0.5249151\ttotal: 260ms\tremaining: 15s\n",
      "17:\tlearn: 0.5166079\ttotal: 267ms\tremaining: 14.6s\n",
      "18:\tlearn: 0.5090643\ttotal: 273ms\tremaining: 14.1s\n",
      "19:\tlearn: 0.5028747\ttotal: 279ms\tremaining: 13.7s\n",
      "20:\tlearn: 0.4967845\ttotal: 286ms\tremaining: 13.4s\n",
      "21:\tlearn: 0.4913792\ttotal: 292ms\tremaining: 13s\n",
      "22:\tlearn: 0.4864549\ttotal: 299ms\tremaining: 12.7s\n",
      "23:\tlearn: 0.4826534\ttotal: 305ms\tremaining: 12.4s\n",
      "24:\tlearn: 0.4791521\ttotal: 312ms\tremaining: 12.2s\n",
      "25:\tlearn: 0.4760874\ttotal: 317ms\tremaining: 11.9s\n",
      "26:\tlearn: 0.4727255\ttotal: 323ms\tremaining: 11.6s\n",
      "27:\tlearn: 0.4695297\ttotal: 329ms\tremaining: 11.4s\n",
      "28:\tlearn: 0.4673976\ttotal: 336ms\tremaining: 11.2s\n",
      "29:\tlearn: 0.4647227\ttotal: 342ms\tremaining: 11.1s\n",
      "30:\tlearn: 0.4623634\ttotal: 350ms\tremaining: 10.9s\n",
      "31:\tlearn: 0.4603614\ttotal: 357ms\tremaining: 10.8s\n",
      "32:\tlearn: 0.4586820\ttotal: 364ms\tremaining: 10.7s\n",
      "33:\tlearn: 0.4563960\ttotal: 371ms\tremaining: 10.5s\n",
      "34:\tlearn: 0.4549369\ttotal: 377ms\tremaining: 10.4s\n",
      "35:\tlearn: 0.4537425\ttotal: 384ms\tremaining: 10.3s\n",
      "36:\tlearn: 0.4522040\ttotal: 391ms\tremaining: 10.2s\n",
      "37:\tlearn: 0.4504213\ttotal: 397ms\tremaining: 10.1s\n",
      "38:\tlearn: 0.4493932\ttotal: 403ms\tremaining: 9.94s\n",
      "39:\tlearn: 0.4482780\ttotal: 410ms\tremaining: 9.83s\n",
      "40:\tlearn: 0.4473261\ttotal: 416ms\tremaining: 9.73s\n",
      "41:\tlearn: 0.4464706\ttotal: 424ms\tremaining: 9.66s\n",
      "42:\tlearn: 0.4452190\ttotal: 430ms\tremaining: 9.58s\n",
      "43:\tlearn: 0.4445884\ttotal: 437ms\tremaining: 9.49s\n",
      "44:\tlearn: 0.4435196\ttotal: 445ms\tremaining: 9.44s\n",
      "45:\tlearn: 0.4426735\ttotal: 451ms\tremaining: 9.35s\n",
      "46:\tlearn: 0.4418452\ttotal: 458ms\tremaining: 9.28s\n",
      "47:\tlearn: 0.4410637\ttotal: 465ms\tremaining: 9.22s\n",
      "48:\tlearn: 0.4402488\ttotal: 471ms\tremaining: 9.14s\n",
      "49:\tlearn: 0.4393438\ttotal: 478ms\tremaining: 9.08s\n",
      "50:\tlearn: 0.4387138\ttotal: 484ms\tremaining: 9.02s\n",
      "51:\tlearn: 0.4375373\ttotal: 490ms\tremaining: 8.94s\n",
      "52:\tlearn: 0.4371112\ttotal: 497ms\tremaining: 8.88s\n",
      "53:\tlearn: 0.4362738\ttotal: 504ms\tremaining: 8.83s\n",
      "54:\tlearn: 0.4357505\ttotal: 511ms\tremaining: 8.79s\n",
      "55:\tlearn: 0.4350427\ttotal: 518ms\tremaining: 8.74s\n",
      "56:\tlearn: 0.4346719\ttotal: 525ms\tremaining: 8.69s\n",
      "57:\tlearn: 0.4338524\ttotal: 532ms\tremaining: 8.64s\n",
      "58:\tlearn: 0.4330528\ttotal: 540ms\tremaining: 8.61s\n",
      "59:\tlearn: 0.4322639\ttotal: 547ms\tremaining: 8.57s\n",
      "60:\tlearn: 0.4313620\ttotal: 554ms\tremaining: 8.52s\n",
      "61:\tlearn: 0.4303826\ttotal: 562ms\tremaining: 8.5s\n",
      "62:\tlearn: 0.4295930\ttotal: 569ms\tremaining: 8.46s\n",
      "63:\tlearn: 0.4292002\ttotal: 575ms\tremaining: 8.41s\n",
      "64:\tlearn: 0.4286833\ttotal: 583ms\tremaining: 8.38s\n",
      "65:\tlearn: 0.4281811\ttotal: 590ms\tremaining: 8.35s\n",
      "66:\tlearn: 0.4273457\ttotal: 597ms\tremaining: 8.32s\n",
      "67:\tlearn: 0.4268880\ttotal: 604ms\tremaining: 8.27s\n",
      "68:\tlearn: 0.4266176\ttotal: 611ms\tremaining: 8.24s\n",
      "69:\tlearn: 0.4259553\ttotal: 618ms\tremaining: 8.22s\n",
      "70:\tlearn: 0.4254405\ttotal: 626ms\tremaining: 8.19s\n",
      "71:\tlearn: 0.4249297\ttotal: 632ms\tremaining: 8.15s\n",
      "72:\tlearn: 0.4244670\ttotal: 640ms\tremaining: 8.13s\n",
      "73:\tlearn: 0.4237069\ttotal: 647ms\tremaining: 8.1s\n",
      "74:\tlearn: 0.4231086\ttotal: 653ms\tremaining: 8.06s\n",
      "75:\tlearn: 0.4226608\ttotal: 660ms\tremaining: 8.02s\n",
      "76:\tlearn: 0.4218939\ttotal: 667ms\tremaining: 7.99s\n",
      "77:\tlearn: 0.4211610\ttotal: 674ms\tremaining: 7.96s\n",
      "78:\tlearn: 0.4203131\ttotal: 680ms\tremaining: 7.93s\n",
      "79:\tlearn: 0.4197603\ttotal: 688ms\tremaining: 7.91s\n",
      "80:\tlearn: 0.4190304\ttotal: 695ms\tremaining: 7.88s\n",
      "81:\tlearn: 0.4184999\ttotal: 701ms\tremaining: 7.84s\n",
      "82:\tlearn: 0.4181020\ttotal: 708ms\tremaining: 7.82s\n",
      "83:\tlearn: 0.4176833\ttotal: 715ms\tremaining: 7.79s\n",
      "84:\tlearn: 0.4170474\ttotal: 722ms\tremaining: 7.77s\n",
      "85:\tlearn: 0.4162767\ttotal: 729ms\tremaining: 7.75s\n",
      "86:\tlearn: 0.4157194\ttotal: 737ms\tremaining: 7.73s\n",
      "87:\tlearn: 0.4154751\ttotal: 744ms\tremaining: 7.71s\n",
      "88:\tlearn: 0.4150746\ttotal: 751ms\tremaining: 7.68s\n",
      "89:\tlearn: 0.4146236\ttotal: 758ms\tremaining: 7.66s\n",
      "90:\tlearn: 0.4142339\ttotal: 764ms\tremaining: 7.63s\n",
      "91:\tlearn: 0.4140177\ttotal: 771ms\tremaining: 7.61s\n",
      "92:\tlearn: 0.4133260\ttotal: 777ms\tremaining: 7.58s\n",
      "93:\tlearn: 0.4128902\ttotal: 784ms\tremaining: 7.55s\n",
      "94:\tlearn: 0.4126107\ttotal: 790ms\tremaining: 7.53s\n",
      "95:\tlearn: 0.4119368\ttotal: 797ms\tremaining: 7.5s\n",
      "96:\tlearn: 0.4115093\ttotal: 804ms\tremaining: 7.49s\n",
      "97:\tlearn: 0.4110884\ttotal: 810ms\tremaining: 7.46s\n",
      "98:\tlearn: 0.4103572\ttotal: 819ms\tremaining: 7.45s\n",
      "99:\tlearn: 0.4098541\ttotal: 826ms\tremaining: 7.43s\n",
      "100:\tlearn: 0.4096014\ttotal: 832ms\tremaining: 7.41s\n",
      "101:\tlearn: 0.4089827\ttotal: 839ms\tremaining: 7.39s\n",
      "102:\tlearn: 0.4087746\ttotal: 846ms\tremaining: 7.37s\n",
      "103:\tlearn: 0.4082678\ttotal: 854ms\tremaining: 7.35s\n",
      "104:\tlearn: 0.4079418\ttotal: 860ms\tremaining: 7.33s\n",
      "105:\tlearn: 0.4076835\ttotal: 867ms\tremaining: 7.31s\n",
      "106:\tlearn: 0.4072526\ttotal: 873ms\tremaining: 7.29s\n",
      "107:\tlearn: 0.4068834\ttotal: 879ms\tremaining: 7.26s\n",
      "108:\tlearn: 0.4064586\ttotal: 886ms\tremaining: 7.24s\n",
      "109:\tlearn: 0.4056244\ttotal: 893ms\tremaining: 7.22s\n",
      "110:\tlearn: 0.4054776\ttotal: 899ms\tremaining: 7.2s\n",
      "111:\tlearn: 0.4052325\ttotal: 906ms\tremaining: 7.18s\n",
      "112:\tlearn: 0.4048101\ttotal: 912ms\tremaining: 7.16s\n",
      "113:\tlearn: 0.4045617\ttotal: 919ms\tremaining: 7.14s\n",
      "114:\tlearn: 0.4040400\ttotal: 926ms\tremaining: 7.12s\n",
      "115:\tlearn: 0.4036073\ttotal: 933ms\tremaining: 7.11s\n",
      "116:\tlearn: 0.4031545\ttotal: 939ms\tremaining: 7.09s\n",
      "117:\tlearn: 0.4022371\ttotal: 947ms\tremaining: 7.08s\n",
      "118:\tlearn: 0.4013527\ttotal: 954ms\tremaining: 7.07s\n",
      "119:\tlearn: 0.4007871\ttotal: 961ms\tremaining: 7.05s\n",
      "120:\tlearn: 0.4003362\ttotal: 968ms\tremaining: 7.03s\n",
      "121:\tlearn: 0.4000930\ttotal: 974ms\tremaining: 7.01s\n",
      "122:\tlearn: 0.3996192\ttotal: 982ms\tremaining: 7s\n",
      "123:\tlearn: 0.3991663\ttotal: 988ms\tremaining: 6.98s\n",
      "124:\tlearn: 0.3987966\ttotal: 994ms\tremaining: 6.96s\n",
      "125:\tlearn: 0.3983098\ttotal: 1s\tremaining: 6.94s\n",
      "126:\tlearn: 0.3973788\ttotal: 1.01s\tremaining: 6.93s\n",
      "127:\tlearn: 0.3966557\ttotal: 1.02s\tremaining: 6.93s\n",
      "128:\tlearn: 0.3962995\ttotal: 1.02s\tremaining: 6.91s\n",
      "129:\tlearn: 0.3958829\ttotal: 1.03s\tremaining: 6.91s\n",
      "130:\tlearn: 0.3954787\ttotal: 1.04s\tremaining: 6.89s\n",
      "131:\tlearn: 0.3950673\ttotal: 1.05s\tremaining: 6.88s\n",
      "132:\tlearn: 0.3945047\ttotal: 1.05s\tremaining: 6.87s\n",
      "133:\tlearn: 0.3939591\ttotal: 1.06s\tremaining: 6.86s\n",
      "134:\tlearn: 0.3935296\ttotal: 1.07s\tremaining: 6.84s\n",
      "135:\tlearn: 0.3932672\ttotal: 1.07s\tremaining: 6.82s\n",
      "136:\tlearn: 0.3930078\ttotal: 1.08s\tremaining: 6.81s\n",
      "137:\tlearn: 0.3923922\ttotal: 1.09s\tremaining: 6.79s\n",
      "138:\tlearn: 0.3921251\ttotal: 1.09s\tremaining: 6.78s\n",
      "139:\tlearn: 0.3918233\ttotal: 1.1s\tremaining: 6.78s\n",
      "140:\tlearn: 0.3911813\ttotal: 1.11s\tremaining: 6.78s\n",
      "141:\tlearn: 0.3908170\ttotal: 1.12s\tremaining: 6.77s\n",
      "142:\tlearn: 0.3902356\ttotal: 1.13s\tremaining: 6.8s\n",
      "143:\tlearn: 0.3896381\ttotal: 1.15s\tremaining: 6.82s\n",
      "144:\tlearn: 0.3890709\ttotal: 1.16s\tremaining: 6.82s\n",
      "145:\tlearn: 0.3888636\ttotal: 1.17s\tremaining: 6.82s\n",
      "146:\tlearn: 0.3882899\ttotal: 1.18s\tremaining: 6.82s\n",
      "147:\tlearn: 0.3879164\ttotal: 1.18s\tremaining: 6.82s\n",
      "148:\tlearn: 0.3870473\ttotal: 1.2s\tremaining: 6.83s\n",
      "149:\tlearn: 0.3864765\ttotal: 1.21s\tremaining: 6.84s\n",
      "150:\tlearn: 0.3860499\ttotal: 1.22s\tremaining: 6.84s\n",
      "151:\tlearn: 0.3858653\ttotal: 1.22s\tremaining: 6.83s\n",
      "152:\tlearn: 0.3850276\ttotal: 1.23s\tremaining: 6.83s\n",
      "153:\tlearn: 0.3847410\ttotal: 1.24s\tremaining: 6.82s\n",
      "154:\tlearn: 0.3842906\ttotal: 1.25s\tremaining: 6.82s\n",
      "155:\tlearn: 0.3840136\ttotal: 1.26s\tremaining: 6.81s\n",
      "156:\tlearn: 0.3835552\ttotal: 1.27s\tremaining: 6.8s\n",
      "157:\tlearn: 0.3830417\ttotal: 1.28s\tremaining: 6.8s\n",
      "158:\tlearn: 0.3826710\ttotal: 1.28s\tremaining: 6.79s\n",
      "159:\tlearn: 0.3821904\ttotal: 1.29s\tremaining: 6.79s\n",
      "160:\tlearn: 0.3817792\ttotal: 1.3s\tremaining: 6.77s\n",
      "161:\tlearn: 0.3814213\ttotal: 1.31s\tremaining: 6.76s\n",
      "162:\tlearn: 0.3811845\ttotal: 1.31s\tremaining: 6.76s\n",
      "163:\tlearn: 0.3808139\ttotal: 1.32s\tremaining: 6.75s\n",
      "164:\tlearn: 0.3806160\ttotal: 1.33s\tremaining: 6.75s\n",
      "165:\tlearn: 0.3803198\ttotal: 1.34s\tremaining: 6.74s\n",
      "166:\tlearn: 0.3797591\ttotal: 1.35s\tremaining: 6.74s\n",
      "167:\tlearn: 0.3791731\ttotal: 1.36s\tremaining: 6.73s\n",
      "168:\tlearn: 0.3790420\ttotal: 1.36s\tremaining: 6.71s\n",
      "169:\tlearn: 0.3787722\ttotal: 1.37s\tremaining: 6.71s\n",
      "170:\tlearn: 0.3783660\ttotal: 1.38s\tremaining: 6.7s\n",
      "171:\tlearn: 0.3779245\ttotal: 1.39s\tremaining: 6.69s\n",
      "172:\tlearn: 0.3774746\ttotal: 1.4s\tremaining: 6.68s\n",
      "173:\tlearn: 0.3768651\ttotal: 1.41s\tremaining: 6.67s\n",
      "174:\tlearn: 0.3763227\ttotal: 1.41s\tremaining: 6.66s\n",
      "175:\tlearn: 0.3759659\ttotal: 1.42s\tremaining: 6.66s\n",
      "176:\tlearn: 0.3752867\ttotal: 1.43s\tremaining: 6.64s\n",
      "177:\tlearn: 0.3751173\ttotal: 1.44s\tremaining: 6.63s\n",
      "178:\tlearn: 0.3747724\ttotal: 1.44s\tremaining: 6.62s\n",
      "179:\tlearn: 0.3743311\ttotal: 1.45s\tremaining: 6.61s\n",
      "180:\tlearn: 0.3741481\ttotal: 1.46s\tremaining: 6.59s\n",
      "181:\tlearn: 0.3738721\ttotal: 1.46s\tremaining: 6.57s\n",
      "182:\tlearn: 0.3735667\ttotal: 1.47s\tremaining: 6.56s\n",
      "183:\tlearn: 0.3733220\ttotal: 1.48s\tremaining: 6.54s\n",
      "184:\tlearn: 0.3731001\ttotal: 1.48s\tremaining: 6.53s\n",
      "185:\tlearn: 0.3727788\ttotal: 1.49s\tremaining: 6.52s\n",
      "186:\tlearn: 0.3721677\ttotal: 1.5s\tremaining: 6.51s\n",
      "187:\tlearn: 0.3718918\ttotal: 1.5s\tremaining: 6.49s\n",
      "188:\tlearn: 0.3713529\ttotal: 1.51s\tremaining: 6.48s\n",
      "189:\tlearn: 0.3707971\ttotal: 1.52s\tremaining: 6.47s\n",
      "190:\tlearn: 0.3704748\ttotal: 1.52s\tremaining: 6.46s\n",
      "191:\tlearn: 0.3700872\ttotal: 1.53s\tremaining: 6.46s\n",
      "192:\tlearn: 0.3697078\ttotal: 1.54s\tremaining: 6.44s\n",
      "193:\tlearn: 0.3693643\ttotal: 1.55s\tremaining: 6.43s\n",
      "194:\tlearn: 0.3690468\ttotal: 1.55s\tremaining: 6.41s\n",
      "195:\tlearn: 0.3685172\ttotal: 1.56s\tremaining: 6.4s\n",
      "196:\tlearn: 0.3682576\ttotal: 1.57s\tremaining: 6.39s\n",
      "197:\tlearn: 0.3676648\ttotal: 1.57s\tremaining: 6.37s\n",
      "198:\tlearn: 0.3673450\ttotal: 1.58s\tremaining: 6.36s\n",
      "199:\tlearn: 0.3669859\ttotal: 1.59s\tremaining: 6.35s\n",
      "200:\tlearn: 0.3665835\ttotal: 1.59s\tremaining: 6.34s\n",
      "201:\tlearn: 0.3661740\ttotal: 1.6s\tremaining: 6.33s\n",
      "202:\tlearn: 0.3655435\ttotal: 1.61s\tremaining: 6.31s\n",
      "203:\tlearn: 0.3649130\ttotal: 1.61s\tremaining: 6.3s\n",
      "204:\tlearn: 0.3643988\ttotal: 1.62s\tremaining: 6.29s\n",
      "205:\tlearn: 0.3638287\ttotal: 1.63s\tremaining: 6.28s\n",
      "206:\tlearn: 0.3633481\ttotal: 1.64s\tremaining: 6.28s\n",
      "207:\tlearn: 0.3627975\ttotal: 1.65s\tremaining: 6.27s\n",
      "208:\tlearn: 0.3624375\ttotal: 1.65s\tremaining: 6.25s\n",
      "209:\tlearn: 0.3620043\ttotal: 1.66s\tremaining: 6.24s\n",
      "210:\tlearn: 0.3615099\ttotal: 1.67s\tremaining: 6.23s\n",
      "211:\tlearn: 0.3612470\ttotal: 1.67s\tremaining: 6.22s\n",
      "212:\tlearn: 0.3610008\ttotal: 1.68s\tremaining: 6.21s\n",
      "213:\tlearn: 0.3605222\ttotal: 1.69s\tremaining: 6.2s\n",
      "214:\tlearn: 0.3602340\ttotal: 1.69s\tremaining: 6.19s\n",
      "215:\tlearn: 0.3599675\ttotal: 1.7s\tremaining: 6.17s\n",
      "216:\tlearn: 0.3593566\ttotal: 1.71s\tremaining: 6.16s\n",
      "217:\tlearn: 0.3591127\ttotal: 1.72s\tremaining: 6.16s\n",
      "218:\tlearn: 0.3586248\ttotal: 1.72s\tremaining: 6.14s\n",
      "219:\tlearn: 0.3582618\ttotal: 1.73s\tremaining: 6.13s\n",
      "220:\tlearn: 0.3581892\ttotal: 1.74s\tremaining: 6.12s\n",
      "221:\tlearn: 0.3579220\ttotal: 1.74s\tremaining: 6.11s\n",
      "222:\tlearn: 0.3577815\ttotal: 1.75s\tremaining: 6.09s\n",
      "223:\tlearn: 0.3571435\ttotal: 1.76s\tremaining: 6.08s\n",
      "224:\tlearn: 0.3566024\ttotal: 1.76s\tremaining: 6.08s\n",
      "225:\tlearn: 0.3560657\ttotal: 1.77s\tremaining: 6.07s\n",
      "226:\tlearn: 0.3556428\ttotal: 1.78s\tremaining: 6.06s\n",
      "227:\tlearn: 0.3552979\ttotal: 1.78s\tremaining: 6.04s\n",
      "228:\tlearn: 0.3549137\ttotal: 1.79s\tremaining: 6.04s\n",
      "229:\tlearn: 0.3544897\ttotal: 1.8s\tremaining: 6.02s\n",
      "230:\tlearn: 0.3541874\ttotal: 1.8s\tremaining: 6.01s\n",
      "231:\tlearn: 0.3537705\ttotal: 1.81s\tremaining: 6s\n",
      "232:\tlearn: 0.3534140\ttotal: 1.82s\tremaining: 5.99s\n",
      "233:\tlearn: 0.3530842\ttotal: 1.83s\tremaining: 5.98s\n",
      "234:\tlearn: 0.3526210\ttotal: 1.83s\tremaining: 5.97s\n",
      "235:\tlearn: 0.3523237\ttotal: 1.84s\tremaining: 5.96s\n",
      "236:\tlearn: 0.3519178\ttotal: 1.85s\tremaining: 5.95s\n",
      "237:\tlearn: 0.3515331\ttotal: 1.85s\tremaining: 5.94s\n",
      "238:\tlearn: 0.3509203\ttotal: 1.86s\tremaining: 5.93s\n",
      "239:\tlearn: 0.3507370\ttotal: 1.87s\tremaining: 5.92s\n",
      "240:\tlearn: 0.3504012\ttotal: 1.88s\tremaining: 5.91s\n",
      "241:\tlearn: 0.3501057\ttotal: 1.88s\tremaining: 5.9s\n",
      "242:\tlearn: 0.3495274\ttotal: 1.89s\tremaining: 5.89s\n",
      "243:\tlearn: 0.3488852\ttotal: 1.9s\tremaining: 5.88s\n",
      "244:\tlearn: 0.3484774\ttotal: 1.91s\tremaining: 5.87s\n",
      "245:\tlearn: 0.3483536\ttotal: 1.91s\tremaining: 5.86s\n",
      "246:\tlearn: 0.3479049\ttotal: 1.92s\tremaining: 5.85s\n",
      "247:\tlearn: 0.3474307\ttotal: 1.93s\tremaining: 5.84s\n",
      "248:\tlearn: 0.3471449\ttotal: 1.93s\tremaining: 5.83s\n",
      "249:\tlearn: 0.3467700\ttotal: 1.94s\tremaining: 5.82s\n",
      "250:\tlearn: 0.3462960\ttotal: 1.95s\tremaining: 5.81s\n",
      "251:\tlearn: 0.3460477\ttotal: 1.95s\tremaining: 5.8s\n",
      "252:\tlearn: 0.3456616\ttotal: 1.96s\tremaining: 5.79s\n",
      "253:\tlearn: 0.3452486\ttotal: 1.97s\tremaining: 5.78s\n",
      "254:\tlearn: 0.3449328\ttotal: 1.98s\tremaining: 5.77s\n",
      "255:\tlearn: 0.3447026\ttotal: 1.98s\tremaining: 5.76s\n",
      "256:\tlearn: 0.3440916\ttotal: 1.99s\tremaining: 5.75s\n",
      "257:\tlearn: 0.3436110\ttotal: 2s\tremaining: 5.74s\n",
      "258:\tlearn: 0.3432938\ttotal: 2s\tremaining: 5.74s\n",
      "259:\tlearn: 0.3430151\ttotal: 2.01s\tremaining: 5.72s\n",
      "260:\tlearn: 0.3426342\ttotal: 2.02s\tremaining: 5.71s\n",
      "261:\tlearn: 0.3422648\ttotal: 2.02s\tremaining: 5.71s\n",
      "262:\tlearn: 0.3419449\ttotal: 2.03s\tremaining: 5.7s\n",
      "263:\tlearn: 0.3416594\ttotal: 2.04s\tremaining: 5.68s\n",
      "264:\tlearn: 0.3411248\ttotal: 2.04s\tremaining: 5.67s\n",
      "265:\tlearn: 0.3404351\ttotal: 2.05s\tremaining: 5.67s\n",
      "266:\tlearn: 0.3402442\ttotal: 2.06s\tremaining: 5.66s\n",
      "267:\tlearn: 0.3400802\ttotal: 2.07s\tremaining: 5.65s\n",
      "268:\tlearn: 0.3398161\ttotal: 2.07s\tremaining: 5.63s\n",
      "269:\tlearn: 0.3394746\ttotal: 2.08s\tremaining: 5.63s\n",
      "270:\tlearn: 0.3391965\ttotal: 2.09s\tremaining: 5.62s\n",
      "271:\tlearn: 0.3389898\ttotal: 2.09s\tremaining: 5.6s\n",
      "272:\tlearn: 0.3388395\ttotal: 2.1s\tremaining: 5.6s\n",
      "273:\tlearn: 0.3385900\ttotal: 2.11s\tremaining: 5.58s\n",
      "274:\tlearn: 0.3382151\ttotal: 2.12s\tremaining: 5.58s\n",
      "275:\tlearn: 0.3377975\ttotal: 2.12s\tremaining: 5.57s\n",
      "276:\tlearn: 0.3375189\ttotal: 2.13s\tremaining: 5.56s\n",
      "277:\tlearn: 0.3374037\ttotal: 2.13s\tremaining: 5.54s\n",
      "278:\tlearn: 0.3368772\ttotal: 2.14s\tremaining: 5.53s\n",
      "279:\tlearn: 0.3364733\ttotal: 2.15s\tremaining: 5.53s\n",
      "280:\tlearn: 0.3361397\ttotal: 2.15s\tremaining: 5.51s\n",
      "281:\tlearn: 0.3357909\ttotal: 2.16s\tremaining: 5.5s\n",
      "282:\tlearn: 0.3353483\ttotal: 2.17s\tremaining: 5.49s\n",
      "283:\tlearn: 0.3350062\ttotal: 2.17s\tremaining: 5.48s\n",
      "284:\tlearn: 0.3347664\ttotal: 2.18s\tremaining: 5.47s\n",
      "285:\tlearn: 0.3344778\ttotal: 2.19s\tremaining: 5.46s\n",
      "286:\tlearn: 0.3341963\ttotal: 2.2s\tremaining: 5.46s\n",
      "287:\tlearn: 0.3338911\ttotal: 2.2s\tremaining: 5.45s\n",
      "288:\tlearn: 0.3333921\ttotal: 2.21s\tremaining: 5.44s\n",
      "289:\tlearn: 0.3331389\ttotal: 2.22s\tremaining: 5.42s\n",
      "290:\tlearn: 0.3326455\ttotal: 2.22s\tremaining: 5.42s\n",
      "291:\tlearn: 0.3321463\ttotal: 2.23s\tremaining: 5.41s\n",
      "292:\tlearn: 0.3316536\ttotal: 2.24s\tremaining: 5.4s\n",
      "293:\tlearn: 0.3313797\ttotal: 2.25s\tremaining: 5.39s\n",
      "294:\tlearn: 0.3310363\ttotal: 2.25s\tremaining: 5.38s\n",
      "295:\tlearn: 0.3306864\ttotal: 2.26s\tremaining: 5.37s\n",
      "296:\tlearn: 0.3302051\ttotal: 2.27s\tremaining: 5.36s\n",
      "297:\tlearn: 0.3298353\ttotal: 2.27s\tremaining: 5.35s\n",
      "298:\tlearn: 0.3293815\ttotal: 2.28s\tremaining: 5.35s\n",
      "299:\tlearn: 0.3291080\ttotal: 2.29s\tremaining: 5.34s\n",
      "300:\tlearn: 0.3288735\ttotal: 2.29s\tremaining: 5.33s\n",
      "301:\tlearn: 0.3284204\ttotal: 2.3s\tremaining: 5.32s\n",
      "302:\tlearn: 0.3279982\ttotal: 2.31s\tremaining: 5.32s\n",
      "303:\tlearn: 0.3277478\ttotal: 2.32s\tremaining: 5.3s\n",
      "304:\tlearn: 0.3275347\ttotal: 2.32s\tremaining: 5.29s\n",
      "305:\tlearn: 0.3270718\ttotal: 2.33s\tremaining: 5.29s\n",
      "306:\tlearn: 0.3264601\ttotal: 2.34s\tremaining: 5.28s\n",
      "307:\tlearn: 0.3260469\ttotal: 2.35s\tremaining: 5.27s\n",
      "308:\tlearn: 0.3254218\ttotal: 2.35s\tremaining: 5.26s\n",
      "309:\tlearn: 0.3252175\ttotal: 2.36s\tremaining: 5.25s\n",
      "310:\tlearn: 0.3248822\ttotal: 2.37s\tremaining: 5.24s\n",
      "311:\tlearn: 0.3245514\ttotal: 2.37s\tremaining: 5.23s\n",
      "312:\tlearn: 0.3242660\ttotal: 2.38s\tremaining: 5.22s\n",
      "313:\tlearn: 0.3240347\ttotal: 2.38s\tremaining: 5.21s\n",
      "314:\tlearn: 0.3238297\ttotal: 2.39s\tremaining: 5.2s\n",
      "315:\tlearn: 0.3234781\ttotal: 2.4s\tremaining: 5.19s\n",
      "316:\tlearn: 0.3231643\ttotal: 2.41s\tremaining: 5.18s\n",
      "317:\tlearn: 0.3229108\ttotal: 2.41s\tremaining: 5.17s\n",
      "318:\tlearn: 0.3226622\ttotal: 2.42s\tremaining: 5.17s\n",
      "319:\tlearn: 0.3222525\ttotal: 2.43s\tremaining: 5.16s\n",
      "320:\tlearn: 0.3220243\ttotal: 2.43s\tremaining: 5.15s\n",
      "321:\tlearn: 0.3217455\ttotal: 2.44s\tremaining: 5.14s\n",
      "322:\tlearn: 0.3215945\ttotal: 2.45s\tremaining: 5.13s\n",
      "323:\tlearn: 0.3213848\ttotal: 2.45s\tremaining: 5.12s\n",
      "324:\tlearn: 0.3209860\ttotal: 2.46s\tremaining: 5.11s\n",
      "325:\tlearn: 0.3207177\ttotal: 2.47s\tremaining: 5.1s\n",
      "326:\tlearn: 0.3204574\ttotal: 2.48s\tremaining: 5.1s\n",
      "327:\tlearn: 0.3201805\ttotal: 2.48s\tremaining: 5.09s\n",
      "328:\tlearn: 0.3198273\ttotal: 2.49s\tremaining: 5.08s\n",
      "329:\tlearn: 0.3195403\ttotal: 2.5s\tremaining: 5.07s\n",
      "330:\tlearn: 0.3194724\ttotal: 2.5s\tremaining: 5.06s\n",
      "331:\tlearn: 0.3191279\ttotal: 2.51s\tremaining: 5.05s\n",
      "332:\tlearn: 0.3188148\ttotal: 2.52s\tremaining: 5.04s\n",
      "333:\tlearn: 0.3182054\ttotal: 2.53s\tremaining: 5.04s\n",
      "334:\tlearn: 0.3178865\ttotal: 2.53s\tremaining: 5.03s\n",
      "335:\tlearn: 0.3177215\ttotal: 2.54s\tremaining: 5.02s\n",
      "336:\tlearn: 0.3174326\ttotal: 2.54s\tremaining: 5.01s\n",
      "337:\tlearn: 0.3171315\ttotal: 2.55s\tremaining: 5s\n",
      "338:\tlearn: 0.3169772\ttotal: 2.56s\tremaining: 4.99s\n",
      "339:\tlearn: 0.3166236\ttotal: 2.57s\tremaining: 4.98s\n",
      "340:\tlearn: 0.3162533\ttotal: 2.57s\tremaining: 4.97s\n",
      "341:\tlearn: 0.3157905\ttotal: 2.58s\tremaining: 4.97s\n",
      "342:\tlearn: 0.3154881\ttotal: 2.59s\tremaining: 4.96s\n",
      "343:\tlearn: 0.3152002\ttotal: 2.59s\tremaining: 4.95s\n",
      "344:\tlearn: 0.3149508\ttotal: 2.6s\tremaining: 4.94s\n",
      "345:\tlearn: 0.3146093\ttotal: 2.61s\tremaining: 4.93s\n",
      "346:\tlearn: 0.3142668\ttotal: 2.62s\tremaining: 4.92s\n",
      "347:\tlearn: 0.3139300\ttotal: 2.62s\tremaining: 4.91s\n",
      "348:\tlearn: 0.3136602\ttotal: 2.63s\tremaining: 4.9s\n",
      "349:\tlearn: 0.3133261\ttotal: 2.63s\tremaining: 4.89s\n",
      "350:\tlearn: 0.3129912\ttotal: 2.64s\tremaining: 4.88s\n",
      "351:\tlearn: 0.3126262\ttotal: 2.65s\tremaining: 4.88s\n",
      "352:\tlearn: 0.3123243\ttotal: 2.66s\tremaining: 4.87s\n",
      "353:\tlearn: 0.3119949\ttotal: 2.66s\tremaining: 4.86s\n",
      "354:\tlearn: 0.3115698\ttotal: 2.67s\tremaining: 4.85s\n",
      "355:\tlearn: 0.3113017\ttotal: 2.68s\tremaining: 4.84s\n",
      "356:\tlearn: 0.3111380\ttotal: 2.68s\tremaining: 4.83s\n",
      "357:\tlearn: 0.3109369\ttotal: 2.69s\tremaining: 4.82s\n",
      "358:\tlearn: 0.3107039\ttotal: 2.7s\tremaining: 4.82s\n",
      "359:\tlearn: 0.3105913\ttotal: 2.7s\tremaining: 4.81s\n",
      "360:\tlearn: 0.3101793\ttotal: 2.71s\tremaining: 4.8s\n",
      "361:\tlearn: 0.3098105\ttotal: 2.72s\tremaining: 4.79s\n",
      "362:\tlearn: 0.3095259\ttotal: 2.73s\tremaining: 4.79s\n",
      "363:\tlearn: 0.3092681\ttotal: 2.73s\tremaining: 4.78s\n",
      "364:\tlearn: 0.3090858\ttotal: 2.74s\tremaining: 4.77s\n",
      "365:\tlearn: 0.3087788\ttotal: 2.75s\tremaining: 4.76s\n",
      "366:\tlearn: 0.3084229\ttotal: 2.75s\tremaining: 4.75s\n",
      "367:\tlearn: 0.3080424\ttotal: 2.76s\tremaining: 4.74s\n",
      "368:\tlearn: 0.3078446\ttotal: 2.77s\tremaining: 4.73s\n",
      "369:\tlearn: 0.3074401\ttotal: 2.77s\tremaining: 4.72s\n",
      "370:\tlearn: 0.3071151\ttotal: 2.78s\tremaining: 4.72s\n",
      "371:\tlearn: 0.3066103\ttotal: 2.79s\tremaining: 4.71s\n",
      "372:\tlearn: 0.3060911\ttotal: 2.8s\tremaining: 4.7s\n",
      "373:\tlearn: 0.3054727\ttotal: 2.8s\tremaining: 4.69s\n",
      "374:\tlearn: 0.3052539\ttotal: 2.81s\tremaining: 4.69s\n",
      "375:\tlearn: 0.3051031\ttotal: 2.82s\tremaining: 4.68s\n",
      "376:\tlearn: 0.3049026\ttotal: 2.83s\tremaining: 4.67s\n",
      "377:\tlearn: 0.3047031\ttotal: 2.83s\tremaining: 4.66s\n",
      "378:\tlearn: 0.3043934\ttotal: 2.84s\tremaining: 4.65s\n",
      "379:\tlearn: 0.3043474\ttotal: 2.84s\tremaining: 4.64s\n",
      "380:\tlearn: 0.3041208\ttotal: 2.85s\tremaining: 4.63s\n",
      "381:\tlearn: 0.3036591\ttotal: 2.85s\tremaining: 4.61s\n",
      "382:\tlearn: 0.3033897\ttotal: 2.85s\tremaining: 4.59s\n",
      "383:\tlearn: 0.3032806\ttotal: 2.85s\tremaining: 4.58s\n",
      "384:\tlearn: 0.3028648\ttotal: 2.86s\tremaining: 4.57s\n",
      "385:\tlearn: 0.3024234\ttotal: 2.86s\tremaining: 4.55s\n",
      "386:\tlearn: 0.3019819\ttotal: 2.86s\tremaining: 4.54s\n",
      "387:\tlearn: 0.3016813\ttotal: 2.87s\tremaining: 4.52s\n",
      "388:\tlearn: 0.3012656\ttotal: 2.87s\tremaining: 4.51s\n",
      "389:\tlearn: 0.3009983\ttotal: 2.87s\tremaining: 4.49s\n",
      "390:\tlearn: 0.3005546\ttotal: 2.87s\tremaining: 4.48s\n",
      "391:\tlearn: 0.3002130\ttotal: 2.88s\tremaining: 4.46s\n",
      "392:\tlearn: 0.2999340\ttotal: 2.88s\tremaining: 4.45s\n",
      "393:\tlearn: 0.2995282\ttotal: 2.88s\tremaining: 4.43s\n",
      "394:\tlearn: 0.2993803\ttotal: 2.89s\tremaining: 4.42s\n",
      "395:\tlearn: 0.2991976\ttotal: 2.89s\tremaining: 4.41s\n",
      "396:\tlearn: 0.2990417\ttotal: 2.89s\tremaining: 4.39s\n",
      "397:\tlearn: 0.2987299\ttotal: 2.9s\tremaining: 4.38s\n",
      "398:\tlearn: 0.2983347\ttotal: 2.9s\tremaining: 4.37s\n",
      "399:\tlearn: 0.2981215\ttotal: 2.9s\tremaining: 4.35s\n",
      "400:\tlearn: 0.2978257\ttotal: 2.9s\tremaining: 4.34s\n",
      "401:\tlearn: 0.2975913\ttotal: 2.91s\tremaining: 4.32s\n",
      "402:\tlearn: 0.2973025\ttotal: 2.91s\tremaining: 4.31s\n",
      "403:\tlearn: 0.2970515\ttotal: 2.91s\tremaining: 4.3s\n",
      "404:\tlearn: 0.2965763\ttotal: 2.92s\tremaining: 4.28s\n",
      "405:\tlearn: 0.2964268\ttotal: 2.92s\tremaining: 4.27s\n",
      "406:\tlearn: 0.2961026\ttotal: 2.92s\tremaining: 4.25s\n",
      "407:\tlearn: 0.2957830\ttotal: 2.92s\tremaining: 4.24s\n",
      "408:\tlearn: 0.2954514\ttotal: 2.93s\tremaining: 4.23s\n",
      "409:\tlearn: 0.2951634\ttotal: 2.93s\tremaining: 4.21s\n",
      "410:\tlearn: 0.2949118\ttotal: 2.93s\tremaining: 4.2s\n",
      "411:\tlearn: 0.2947479\ttotal: 2.93s\tremaining: 4.19s\n",
      "412:\tlearn: 0.2944797\ttotal: 2.94s\tremaining: 4.17s\n",
      "413:\tlearn: 0.2941032\ttotal: 2.94s\tremaining: 4.16s\n",
      "414:\tlearn: 0.2938545\ttotal: 2.94s\tremaining: 4.15s\n",
      "415:\tlearn: 0.2934790\ttotal: 2.94s\tremaining: 4.13s\n",
      "416:\tlearn: 0.2932171\ttotal: 2.95s\tremaining: 4.12s\n",
      "417:\tlearn: 0.2929555\ttotal: 2.95s\tremaining: 4.11s\n",
      "418:\tlearn: 0.2927039\ttotal: 2.96s\tremaining: 4.1s\n",
      "419:\tlearn: 0.2923790\ttotal: 2.96s\tremaining: 4.08s\n",
      "420:\tlearn: 0.2920267\ttotal: 2.96s\tremaining: 4.07s\n",
      "421:\tlearn: 0.2918521\ttotal: 2.96s\tremaining: 4.06s\n",
      "422:\tlearn: 0.2915043\ttotal: 2.97s\tremaining: 4.05s\n",
      "423:\tlearn: 0.2912942\ttotal: 2.97s\tremaining: 4.03s\n",
      "424:\tlearn: 0.2909813\ttotal: 2.97s\tremaining: 4.02s\n",
      "425:\tlearn: 0.2906898\ttotal: 2.97s\tremaining: 4.01s\n",
      "426:\tlearn: 0.2904874\ttotal: 2.98s\tremaining: 4s\n",
      "427:\tlearn: 0.2902481\ttotal: 2.98s\tremaining: 3.98s\n",
      "428:\tlearn: 0.2900618\ttotal: 2.98s\tremaining: 3.97s\n",
      "429:\tlearn: 0.2898045\ttotal: 2.98s\tremaining: 3.96s\n",
      "430:\tlearn: 0.2895815\ttotal: 2.99s\tremaining: 3.94s\n",
      "431:\tlearn: 0.2893822\ttotal: 2.99s\tremaining: 3.93s\n",
      "432:\tlearn: 0.2890432\ttotal: 2.99s\tremaining: 3.92s\n",
      "433:\tlearn: 0.2888252\ttotal: 3s\tremaining: 3.91s\n",
      "434:\tlearn: 0.2885907\ttotal: 3s\tremaining: 3.9s\n",
      "435:\tlearn: 0.2883942\ttotal: 3s\tremaining: 3.88s\n",
      "436:\tlearn: 0.2879798\ttotal: 3s\tremaining: 3.87s\n",
      "437:\tlearn: 0.2877840\ttotal: 3.01s\tremaining: 3.86s\n",
      "438:\tlearn: 0.2874114\ttotal: 3.01s\tremaining: 3.85s\n",
      "439:\tlearn: 0.2871781\ttotal: 3.01s\tremaining: 3.84s\n",
      "440:\tlearn: 0.2868797\ttotal: 3.02s\tremaining: 3.83s\n",
      "441:\tlearn: 0.2866375\ttotal: 3.02s\tremaining: 3.81s\n",
      "442:\tlearn: 0.2864245\ttotal: 3.02s\tremaining: 3.8s\n",
      "443:\tlearn: 0.2862607\ttotal: 3.03s\tremaining: 3.79s\n",
      "444:\tlearn: 0.2861247\ttotal: 3.03s\tremaining: 3.78s\n",
      "445:\tlearn: 0.2858927\ttotal: 3.03s\tremaining: 3.77s\n",
      "446:\tlearn: 0.2855697\ttotal: 3.03s\tremaining: 3.75s\n",
      "447:\tlearn: 0.2852627\ttotal: 3.04s\tremaining: 3.74s\n",
      "448:\tlearn: 0.2848766\ttotal: 3.04s\tremaining: 3.73s\n",
      "449:\tlearn: 0.2846485\ttotal: 3.04s\tremaining: 3.72s\n",
      "450:\tlearn: 0.2843811\ttotal: 3.04s\tremaining: 3.71s\n",
      "451:\tlearn: 0.2842971\ttotal: 3.05s\tremaining: 3.69s\n",
      "452:\tlearn: 0.2840890\ttotal: 3.05s\tremaining: 3.68s\n",
      "453:\tlearn: 0.2837798\ttotal: 3.05s\tremaining: 3.67s\n",
      "454:\tlearn: 0.2834988\ttotal: 3.06s\tremaining: 3.66s\n",
      "455:\tlearn: 0.2833890\ttotal: 3.06s\tremaining: 3.65s\n",
      "456:\tlearn: 0.2831370\ttotal: 3.06s\tremaining: 3.64s\n",
      "457:\tlearn: 0.2827457\ttotal: 3.06s\tremaining: 3.63s\n",
      "458:\tlearn: 0.2826006\ttotal: 3.07s\tremaining: 3.62s\n",
      "459:\tlearn: 0.2822220\ttotal: 3.07s\tremaining: 3.6s\n",
      "460:\tlearn: 0.2819653\ttotal: 3.07s\tremaining: 3.59s\n",
      "461:\tlearn: 0.2818157\ttotal: 3.08s\tremaining: 3.58s\n",
      "462:\tlearn: 0.2816306\ttotal: 3.08s\tremaining: 3.57s\n",
      "463:\tlearn: 0.2814342\ttotal: 3.08s\tremaining: 3.56s\n",
      "464:\tlearn: 0.2810239\ttotal: 3.09s\tremaining: 3.55s\n",
      "465:\tlearn: 0.2807355\ttotal: 3.09s\tremaining: 3.54s\n",
      "466:\tlearn: 0.2803618\ttotal: 3.09s\tremaining: 3.53s\n",
      "467:\tlearn: 0.2801316\ttotal: 3.09s\tremaining: 3.52s\n",
      "468:\tlearn: 0.2799145\ttotal: 3.1s\tremaining: 3.51s\n",
      "469:\tlearn: 0.2796841\ttotal: 3.1s\tremaining: 3.5s\n",
      "470:\tlearn: 0.2793445\ttotal: 3.1s\tremaining: 3.48s\n",
      "471:\tlearn: 0.2791471\ttotal: 3.11s\tremaining: 3.47s\n",
      "472:\tlearn: 0.2789146\ttotal: 3.11s\tremaining: 3.46s\n",
      "473:\tlearn: 0.2786252\ttotal: 3.11s\tremaining: 3.45s\n",
      "474:\tlearn: 0.2784282\ttotal: 3.11s\tremaining: 3.44s\n",
      "475:\tlearn: 0.2782065\ttotal: 3.12s\tremaining: 3.43s\n",
      "476:\tlearn: 0.2780248\ttotal: 3.12s\tremaining: 3.42s\n",
      "477:\tlearn: 0.2777491\ttotal: 3.12s\tremaining: 3.41s\n",
      "478:\tlearn: 0.2775222\ttotal: 3.13s\tremaining: 3.4s\n",
      "479:\tlearn: 0.2773120\ttotal: 3.13s\tremaining: 3.39s\n",
      "480:\tlearn: 0.2770719\ttotal: 3.13s\tremaining: 3.38s\n",
      "481:\tlearn: 0.2767644\ttotal: 3.13s\tremaining: 3.37s\n",
      "482:\tlearn: 0.2765952\ttotal: 3.14s\tremaining: 3.36s\n",
      "483:\tlearn: 0.2764182\ttotal: 3.14s\tremaining: 3.35s\n",
      "484:\tlearn: 0.2762849\ttotal: 3.14s\tremaining: 3.34s\n",
      "485:\tlearn: 0.2761125\ttotal: 3.15s\tremaining: 3.33s\n",
      "486:\tlearn: 0.2760100\ttotal: 3.15s\tremaining: 3.31s\n",
      "487:\tlearn: 0.2757740\ttotal: 3.15s\tremaining: 3.31s\n",
      "488:\tlearn: 0.2754734\ttotal: 3.15s\tremaining: 3.29s\n",
      "489:\tlearn: 0.2752330\ttotal: 3.15s\tremaining: 3.28s\n",
      "490:\tlearn: 0.2749409\ttotal: 3.16s\tremaining: 3.27s\n",
      "491:\tlearn: 0.2745526\ttotal: 3.16s\tremaining: 3.26s\n",
      "492:\tlearn: 0.2743829\ttotal: 3.16s\tremaining: 3.25s\n",
      "493:\tlearn: 0.2741175\ttotal: 3.17s\tremaining: 3.24s\n",
      "494:\tlearn: 0.2737137\ttotal: 3.17s\tremaining: 3.23s\n",
      "495:\tlearn: 0.2734999\ttotal: 3.17s\tremaining: 3.22s\n",
      "496:\tlearn: 0.2732815\ttotal: 3.17s\tremaining: 3.21s\n",
      "497:\tlearn: 0.2731367\ttotal: 3.18s\tremaining: 3.2s\n",
      "498:\tlearn: 0.2728350\ttotal: 3.18s\tremaining: 3.19s\n",
      "499:\tlearn: 0.2726529\ttotal: 3.18s\tremaining: 3.18s\n",
      "500:\tlearn: 0.2723938\ttotal: 3.19s\tremaining: 3.17s\n",
      "501:\tlearn: 0.2720281\ttotal: 3.19s\tremaining: 3.16s\n",
      "502:\tlearn: 0.2717790\ttotal: 3.19s\tremaining: 3.15s\n",
      "503:\tlearn: 0.2716465\ttotal: 3.19s\tremaining: 3.14s\n",
      "504:\tlearn: 0.2714243\ttotal: 3.2s\tremaining: 3.13s\n",
      "505:\tlearn: 0.2711496\ttotal: 3.2s\tremaining: 3.12s\n",
      "506:\tlearn: 0.2707626\ttotal: 3.2s\tremaining: 3.11s\n",
      "507:\tlearn: 0.2705528\ttotal: 3.21s\tremaining: 3.1s\n",
      "508:\tlearn: 0.2702624\ttotal: 3.21s\tremaining: 3.09s\n",
      "509:\tlearn: 0.2701254\ttotal: 3.21s\tremaining: 3.08s\n",
      "510:\tlearn: 0.2697432\ttotal: 3.21s\tremaining: 3.07s\n",
      "511:\tlearn: 0.2694748\ttotal: 3.22s\tremaining: 3.06s\n",
      "512:\tlearn: 0.2692198\ttotal: 3.22s\tremaining: 3.06s\n",
      "513:\tlearn: 0.2690326\ttotal: 3.22s\tremaining: 3.05s\n",
      "514:\tlearn: 0.2685794\ttotal: 3.22s\tremaining: 3.04s\n",
      "515:\tlearn: 0.2683448\ttotal: 3.23s\tremaining: 3.03s\n",
      "516:\tlearn: 0.2679881\ttotal: 3.23s\tremaining: 3.02s\n",
      "517:\tlearn: 0.2678224\ttotal: 3.23s\tremaining: 3.01s\n",
      "518:\tlearn: 0.2676319\ttotal: 3.23s\tremaining: 3s\n",
      "519:\tlearn: 0.2675184\ttotal: 3.24s\tremaining: 2.99s\n",
      "520:\tlearn: 0.2672980\ttotal: 3.24s\tremaining: 2.98s\n",
      "521:\tlearn: 0.2670438\ttotal: 3.24s\tremaining: 2.97s\n",
      "522:\tlearn: 0.2667524\ttotal: 3.25s\tremaining: 2.96s\n",
      "523:\tlearn: 0.2666030\ttotal: 3.25s\tremaining: 2.95s\n",
      "524:\tlearn: 0.2663581\ttotal: 3.25s\tremaining: 2.94s\n",
      "525:\tlearn: 0.2661376\ttotal: 3.25s\tremaining: 2.93s\n",
      "526:\tlearn: 0.2658635\ttotal: 3.26s\tremaining: 2.92s\n",
      "527:\tlearn: 0.2657213\ttotal: 3.26s\tremaining: 2.91s\n",
      "528:\tlearn: 0.2655278\ttotal: 3.26s\tremaining: 2.9s\n",
      "529:\tlearn: 0.2652470\ttotal: 3.27s\tremaining: 2.9s\n",
      "530:\tlearn: 0.2651028\ttotal: 3.27s\tremaining: 2.89s\n",
      "531:\tlearn: 0.2649123\ttotal: 3.27s\tremaining: 2.88s\n",
      "532:\tlearn: 0.2646617\ttotal: 3.27s\tremaining: 2.87s\n",
      "533:\tlearn: 0.2644408\ttotal: 3.28s\tremaining: 2.86s\n",
      "534:\tlearn: 0.2641913\ttotal: 3.28s\tremaining: 2.85s\n",
      "535:\tlearn: 0.2640165\ttotal: 3.28s\tremaining: 2.84s\n",
      "536:\tlearn: 0.2638358\ttotal: 3.28s\tremaining: 2.83s\n",
      "537:\tlearn: 0.2635940\ttotal: 3.29s\tremaining: 2.82s\n",
      "538:\tlearn: 0.2634482\ttotal: 3.29s\tremaining: 2.81s\n",
      "539:\tlearn: 0.2632412\ttotal: 3.29s\tremaining: 2.8s\n",
      "540:\tlearn: 0.2631371\ttotal: 3.29s\tremaining: 2.8s\n",
      "541:\tlearn: 0.2630137\ttotal: 3.3s\tremaining: 2.79s\n",
      "542:\tlearn: 0.2627336\ttotal: 3.3s\tremaining: 2.78s\n",
      "543:\tlearn: 0.2625430\ttotal: 3.3s\tremaining: 2.77s\n",
      "544:\tlearn: 0.2624629\ttotal: 3.31s\tremaining: 2.76s\n",
      "545:\tlearn: 0.2621912\ttotal: 3.31s\tremaining: 2.75s\n",
      "546:\tlearn: 0.2618880\ttotal: 3.31s\tremaining: 2.74s\n",
      "547:\tlearn: 0.2617495\ttotal: 3.31s\tremaining: 2.73s\n",
      "548:\tlearn: 0.2614831\ttotal: 3.32s\tremaining: 2.73s\n",
      "549:\tlearn: 0.2611572\ttotal: 3.32s\tremaining: 2.72s\n",
      "550:\tlearn: 0.2609478\ttotal: 3.32s\tremaining: 2.71s\n",
      "551:\tlearn: 0.2607015\ttotal: 3.33s\tremaining: 2.7s\n",
      "552:\tlearn: 0.2604935\ttotal: 3.33s\tremaining: 2.69s\n",
      "553:\tlearn: 0.2602235\ttotal: 3.33s\tremaining: 2.68s\n",
      "554:\tlearn: 0.2599969\ttotal: 3.33s\tremaining: 2.67s\n",
      "555:\tlearn: 0.2599060\ttotal: 3.33s\tremaining: 2.66s\n",
      "556:\tlearn: 0.2596663\ttotal: 3.34s\tremaining: 2.65s\n",
      "557:\tlearn: 0.2595369\ttotal: 3.34s\tremaining: 2.65s\n",
      "558:\tlearn: 0.2594189\ttotal: 3.34s\tremaining: 2.64s\n",
      "559:\tlearn: 0.2592157\ttotal: 3.35s\tremaining: 2.63s\n",
      "560:\tlearn: 0.2588459\ttotal: 3.35s\tremaining: 2.62s\n",
      "561:\tlearn: 0.2586773\ttotal: 3.35s\tremaining: 2.61s\n",
      "562:\tlearn: 0.2584764\ttotal: 3.35s\tremaining: 2.6s\n",
      "563:\tlearn: 0.2583424\ttotal: 3.36s\tremaining: 2.6s\n",
      "564:\tlearn: 0.2579386\ttotal: 3.36s\tremaining: 2.59s\n",
      "565:\tlearn: 0.2578134\ttotal: 3.36s\tremaining: 2.58s\n",
      "566:\tlearn: 0.2576444\ttotal: 3.37s\tremaining: 2.57s\n",
      "567:\tlearn: 0.2575380\ttotal: 3.37s\tremaining: 2.56s\n",
      "568:\tlearn: 0.2574283\ttotal: 3.37s\tremaining: 2.55s\n",
      "569:\tlearn: 0.2570401\ttotal: 3.37s\tremaining: 2.54s\n",
      "570:\tlearn: 0.2568333\ttotal: 3.38s\tremaining: 2.54s\n",
      "571:\tlearn: 0.2566030\ttotal: 3.38s\tremaining: 2.53s\n",
      "572:\tlearn: 0.2561468\ttotal: 3.38s\tremaining: 2.52s\n",
      "573:\tlearn: 0.2559380\ttotal: 3.38s\tremaining: 2.51s\n",
      "574:\tlearn: 0.2557536\ttotal: 3.39s\tremaining: 2.5s\n",
      "575:\tlearn: 0.2555546\ttotal: 3.39s\tremaining: 2.49s\n",
      "576:\tlearn: 0.2553699\ttotal: 3.39s\tremaining: 2.49s\n",
      "577:\tlearn: 0.2549935\ttotal: 3.4s\tremaining: 2.48s\n",
      "578:\tlearn: 0.2547838\ttotal: 3.4s\tremaining: 2.47s\n",
      "579:\tlearn: 0.2546674\ttotal: 3.4s\tremaining: 2.46s\n",
      "580:\tlearn: 0.2545709\ttotal: 3.4s\tremaining: 2.45s\n",
      "581:\tlearn: 0.2542856\ttotal: 3.4s\tremaining: 2.44s\n",
      "582:\tlearn: 0.2540010\ttotal: 3.41s\tremaining: 2.44s\n",
      "583:\tlearn: 0.2537223\ttotal: 3.41s\tremaining: 2.43s\n",
      "584:\tlearn: 0.2535085\ttotal: 3.41s\tremaining: 2.42s\n",
      "585:\tlearn: 0.2532132\ttotal: 3.42s\tremaining: 2.41s\n",
      "586:\tlearn: 0.2529566\ttotal: 3.42s\tremaining: 2.41s\n",
      "587:\tlearn: 0.2527532\ttotal: 3.42s\tremaining: 2.4s\n",
      "588:\tlearn: 0.2526218\ttotal: 3.42s\tremaining: 2.39s\n",
      "589:\tlearn: 0.2524651\ttotal: 3.43s\tremaining: 2.38s\n",
      "590:\tlearn: 0.2521416\ttotal: 3.43s\tremaining: 2.37s\n",
      "591:\tlearn: 0.2520026\ttotal: 3.43s\tremaining: 2.37s\n",
      "592:\tlearn: 0.2518570\ttotal: 3.44s\tremaining: 2.36s\n",
      "593:\tlearn: 0.2517400\ttotal: 3.44s\tremaining: 2.35s\n",
      "594:\tlearn: 0.2514202\ttotal: 3.44s\tremaining: 2.34s\n",
      "595:\tlearn: 0.2512881\ttotal: 3.44s\tremaining: 2.33s\n",
      "596:\tlearn: 0.2510104\ttotal: 3.45s\tremaining: 2.33s\n",
      "597:\tlearn: 0.2508807\ttotal: 3.45s\tremaining: 2.32s\n",
      "598:\tlearn: 0.2507821\ttotal: 3.45s\tremaining: 2.31s\n",
      "599:\tlearn: 0.2505077\ttotal: 3.45s\tremaining: 2.3s\n",
      "600:\tlearn: 0.2502910\ttotal: 3.46s\tremaining: 2.29s\n",
      "601:\tlearn: 0.2499558\ttotal: 3.46s\tremaining: 2.29s\n",
      "602:\tlearn: 0.2497695\ttotal: 3.46s\tremaining: 2.28s\n",
      "603:\tlearn: 0.2495965\ttotal: 3.47s\tremaining: 2.27s\n",
      "604:\tlearn: 0.2493116\ttotal: 3.47s\tremaining: 2.26s\n",
      "605:\tlearn: 0.2490804\ttotal: 3.47s\tremaining: 2.26s\n",
      "606:\tlearn: 0.2489344\ttotal: 3.47s\tremaining: 2.25s\n",
      "607:\tlearn: 0.2486656\ttotal: 3.48s\tremaining: 2.24s\n",
      "608:\tlearn: 0.2483934\ttotal: 3.48s\tremaining: 2.23s\n",
      "609:\tlearn: 0.2481834\ttotal: 3.48s\tremaining: 2.23s\n",
      "610:\tlearn: 0.2479847\ttotal: 3.48s\tremaining: 2.22s\n",
      "611:\tlearn: 0.2477606\ttotal: 3.49s\tremaining: 2.21s\n",
      "612:\tlearn: 0.2476192\ttotal: 3.49s\tremaining: 2.2s\n",
      "613:\tlearn: 0.2474472\ttotal: 3.49s\tremaining: 2.2s\n",
      "614:\tlearn: 0.2471875\ttotal: 3.5s\tremaining: 2.19s\n",
      "615:\tlearn: 0.2469609\ttotal: 3.5s\tremaining: 2.18s\n",
      "616:\tlearn: 0.2468144\ttotal: 3.5s\tremaining: 2.17s\n",
      "617:\tlearn: 0.2465960\ttotal: 3.5s\tremaining: 2.17s\n",
      "618:\tlearn: 0.2464434\ttotal: 3.51s\tremaining: 2.16s\n",
      "619:\tlearn: 0.2462219\ttotal: 3.51s\tremaining: 2.15s\n",
      "620:\tlearn: 0.2459070\ttotal: 3.51s\tremaining: 2.14s\n",
      "621:\tlearn: 0.2457070\ttotal: 3.52s\tremaining: 2.14s\n",
      "622:\tlearn: 0.2455186\ttotal: 3.52s\tremaining: 2.13s\n",
      "623:\tlearn: 0.2453322\ttotal: 3.52s\tremaining: 2.12s\n",
      "624:\tlearn: 0.2451479\ttotal: 3.52s\tremaining: 2.12s\n",
      "625:\tlearn: 0.2449585\ttotal: 3.53s\tremaining: 2.11s\n",
      "626:\tlearn: 0.2447297\ttotal: 3.53s\tremaining: 2.1s\n",
      "627:\tlearn: 0.2445357\ttotal: 3.53s\tremaining: 2.09s\n",
      "628:\tlearn: 0.2443047\ttotal: 3.54s\tremaining: 2.08s\n",
      "629:\tlearn: 0.2439664\ttotal: 3.54s\tremaining: 2.08s\n",
      "630:\tlearn: 0.2437331\ttotal: 3.54s\tremaining: 2.07s\n",
      "631:\tlearn: 0.2435881\ttotal: 3.54s\tremaining: 2.06s\n",
      "632:\tlearn: 0.2434055\ttotal: 3.55s\tremaining: 2.06s\n",
      "633:\tlearn: 0.2431732\ttotal: 3.55s\tremaining: 2.05s\n",
      "634:\tlearn: 0.2429147\ttotal: 3.55s\tremaining: 2.04s\n",
      "635:\tlearn: 0.2427717\ttotal: 3.56s\tremaining: 2.04s\n",
      "636:\tlearn: 0.2425591\ttotal: 3.56s\tremaining: 2.03s\n",
      "637:\tlearn: 0.2424091\ttotal: 3.56s\tremaining: 2.02s\n",
      "638:\tlearn: 0.2422880\ttotal: 3.56s\tremaining: 2.01s\n",
      "639:\tlearn: 0.2420706\ttotal: 3.57s\tremaining: 2.01s\n",
      "640:\tlearn: 0.2418617\ttotal: 3.57s\tremaining: 2s\n",
      "641:\tlearn: 0.2417587\ttotal: 3.57s\tremaining: 1.99s\n",
      "642:\tlearn: 0.2415821\ttotal: 3.58s\tremaining: 1.98s\n",
      "643:\tlearn: 0.2413531\ttotal: 3.58s\tremaining: 1.98s\n",
      "644:\tlearn: 0.2411897\ttotal: 3.58s\tremaining: 1.97s\n",
      "645:\tlearn: 0.2410651\ttotal: 3.58s\tremaining: 1.96s\n",
      "646:\tlearn: 0.2408237\ttotal: 3.58s\tremaining: 1.96s\n",
      "647:\tlearn: 0.2405978\ttotal: 3.59s\tremaining: 1.95s\n",
      "648:\tlearn: 0.2404330\ttotal: 3.59s\tremaining: 1.94s\n",
      "649:\tlearn: 0.2402878\ttotal: 3.59s\tremaining: 1.94s\n",
      "650:\tlearn: 0.2401127\ttotal: 3.6s\tremaining: 1.93s\n",
      "651:\tlearn: 0.2399287\ttotal: 3.6s\tremaining: 1.92s\n",
      "652:\tlearn: 0.2397562\ttotal: 3.6s\tremaining: 1.91s\n",
      "653:\tlearn: 0.2396157\ttotal: 3.6s\tremaining: 1.91s\n",
      "654:\tlearn: 0.2394388\ttotal: 3.61s\tremaining: 1.9s\n",
      "655:\tlearn: 0.2392035\ttotal: 3.61s\tremaining: 1.89s\n",
      "656:\tlearn: 0.2390482\ttotal: 3.61s\tremaining: 1.89s\n",
      "657:\tlearn: 0.2387615\ttotal: 3.62s\tremaining: 1.88s\n",
      "658:\tlearn: 0.2385992\ttotal: 3.62s\tremaining: 1.87s\n",
      "659:\tlearn: 0.2382370\ttotal: 3.62s\tremaining: 1.87s\n",
      "660:\tlearn: 0.2380395\ttotal: 3.63s\tremaining: 1.86s\n",
      "661:\tlearn: 0.2378653\ttotal: 3.63s\tremaining: 1.85s\n",
      "662:\tlearn: 0.2377688\ttotal: 3.63s\tremaining: 1.84s\n",
      "663:\tlearn: 0.2375619\ttotal: 3.63s\tremaining: 1.84s\n",
      "664:\tlearn: 0.2372936\ttotal: 3.64s\tremaining: 1.83s\n",
      "665:\tlearn: 0.2372057\ttotal: 3.64s\tremaining: 1.82s\n",
      "666:\tlearn: 0.2370155\ttotal: 3.64s\tremaining: 1.82s\n",
      "667:\tlearn: 0.2369235\ttotal: 3.64s\tremaining: 1.81s\n",
      "668:\tlearn: 0.2366951\ttotal: 3.65s\tremaining: 1.8s\n",
      "669:\tlearn: 0.2365173\ttotal: 3.65s\tremaining: 1.8s\n",
      "670:\tlearn: 0.2363214\ttotal: 3.65s\tremaining: 1.79s\n",
      "671:\tlearn: 0.2360219\ttotal: 3.66s\tremaining: 1.78s\n",
      "672:\tlearn: 0.2359048\ttotal: 3.66s\tremaining: 1.78s\n",
      "673:\tlearn: 0.2356650\ttotal: 3.66s\tremaining: 1.77s\n",
      "674:\tlearn: 0.2354722\ttotal: 3.66s\tremaining: 1.76s\n",
      "675:\tlearn: 0.2353526\ttotal: 3.67s\tremaining: 1.76s\n",
      "676:\tlearn: 0.2351773\ttotal: 3.67s\tremaining: 1.75s\n",
      "677:\tlearn: 0.2350554\ttotal: 3.67s\tremaining: 1.74s\n",
      "678:\tlearn: 0.2348306\ttotal: 3.67s\tremaining: 1.74s\n",
      "679:\tlearn: 0.2345927\ttotal: 3.68s\tremaining: 1.73s\n",
      "680:\tlearn: 0.2342902\ttotal: 3.68s\tremaining: 1.72s\n",
      "681:\tlearn: 0.2340468\ttotal: 3.68s\tremaining: 1.72s\n",
      "682:\tlearn: 0.2339042\ttotal: 3.69s\tremaining: 1.71s\n",
      "683:\tlearn: 0.2336528\ttotal: 3.69s\tremaining: 1.7s\n",
      "684:\tlearn: 0.2335207\ttotal: 3.69s\tremaining: 1.7s\n",
      "685:\tlearn: 0.2334053\ttotal: 3.69s\tremaining: 1.69s\n",
      "686:\tlearn: 0.2333190\ttotal: 3.7s\tremaining: 1.69s\n",
      "687:\tlearn: 0.2330882\ttotal: 3.7s\tremaining: 1.68s\n",
      "688:\tlearn: 0.2329502\ttotal: 3.7s\tremaining: 1.67s\n",
      "689:\tlearn: 0.2327090\ttotal: 3.71s\tremaining: 1.67s\n",
      "690:\tlearn: 0.2324473\ttotal: 3.71s\tremaining: 1.66s\n",
      "691:\tlearn: 0.2322318\ttotal: 3.71s\tremaining: 1.65s\n",
      "692:\tlearn: 0.2319377\ttotal: 3.71s\tremaining: 1.65s\n",
      "693:\tlearn: 0.2316629\ttotal: 3.72s\tremaining: 1.64s\n",
      "694:\tlearn: 0.2314869\ttotal: 3.72s\tremaining: 1.63s\n",
      "695:\tlearn: 0.2311859\ttotal: 3.72s\tremaining: 1.63s\n",
      "696:\tlearn: 0.2310004\ttotal: 3.73s\tremaining: 1.62s\n",
      "697:\tlearn: 0.2309146\ttotal: 3.73s\tremaining: 1.61s\n",
      "698:\tlearn: 0.2307538\ttotal: 3.73s\tremaining: 1.61s\n",
      "699:\tlearn: 0.2306650\ttotal: 3.73s\tremaining: 1.6s\n",
      "700:\tlearn: 0.2305392\ttotal: 3.74s\tremaining: 1.59s\n",
      "701:\tlearn: 0.2304031\ttotal: 3.74s\tremaining: 1.59s\n",
      "702:\tlearn: 0.2301357\ttotal: 3.74s\tremaining: 1.58s\n",
      "703:\tlearn: 0.2299552\ttotal: 3.75s\tremaining: 1.57s\n",
      "704:\tlearn: 0.2297897\ttotal: 3.75s\tremaining: 1.57s\n",
      "705:\tlearn: 0.2296168\ttotal: 3.75s\tremaining: 1.56s\n",
      "706:\tlearn: 0.2295140\ttotal: 3.75s\tremaining: 1.55s\n",
      "707:\tlearn: 0.2292328\ttotal: 3.76s\tremaining: 1.55s\n",
      "708:\tlearn: 0.2290632\ttotal: 3.76s\tremaining: 1.54s\n",
      "709:\tlearn: 0.2289108\ttotal: 3.76s\tremaining: 1.54s\n",
      "710:\tlearn: 0.2287738\ttotal: 3.76s\tremaining: 1.53s\n",
      "711:\tlearn: 0.2286954\ttotal: 3.77s\tremaining: 1.52s\n",
      "712:\tlearn: 0.2285202\ttotal: 3.77s\tremaining: 1.52s\n",
      "713:\tlearn: 0.2284425\ttotal: 3.77s\tremaining: 1.51s\n",
      "714:\tlearn: 0.2282217\ttotal: 3.77s\tremaining: 1.5s\n",
      "715:\tlearn: 0.2280769\ttotal: 3.78s\tremaining: 1.5s\n",
      "716:\tlearn: 0.2279283\ttotal: 3.78s\tremaining: 1.49s\n",
      "717:\tlearn: 0.2277668\ttotal: 3.78s\tremaining: 1.49s\n",
      "718:\tlearn: 0.2274526\ttotal: 3.79s\tremaining: 1.48s\n",
      "719:\tlearn: 0.2271941\ttotal: 3.79s\tremaining: 1.47s\n",
      "720:\tlearn: 0.2269648\ttotal: 3.79s\tremaining: 1.47s\n",
      "721:\tlearn: 0.2268146\ttotal: 3.79s\tremaining: 1.46s\n",
      "722:\tlearn: 0.2266061\ttotal: 3.8s\tremaining: 1.45s\n",
      "723:\tlearn: 0.2262871\ttotal: 3.8s\tremaining: 1.45s\n",
      "724:\tlearn: 0.2260660\ttotal: 3.8s\tremaining: 1.44s\n",
      "725:\tlearn: 0.2259469\ttotal: 3.81s\tremaining: 1.44s\n",
      "726:\tlearn: 0.2258046\ttotal: 3.81s\tremaining: 1.43s\n",
      "727:\tlearn: 0.2256571\ttotal: 3.81s\tremaining: 1.42s\n",
      "728:\tlearn: 0.2255863\ttotal: 3.81s\tremaining: 1.42s\n",
      "729:\tlearn: 0.2254289\ttotal: 3.82s\tremaining: 1.41s\n",
      "730:\tlearn: 0.2252724\ttotal: 3.82s\tremaining: 1.41s\n",
      "731:\tlearn: 0.2250994\ttotal: 3.82s\tremaining: 1.4s\n",
      "732:\tlearn: 0.2249231\ttotal: 3.82s\tremaining: 1.39s\n",
      "733:\tlearn: 0.2248636\ttotal: 3.83s\tremaining: 1.39s\n",
      "734:\tlearn: 0.2246150\ttotal: 3.83s\tremaining: 1.38s\n",
      "735:\tlearn: 0.2244548\ttotal: 3.83s\tremaining: 1.37s\n",
      "736:\tlearn: 0.2243713\ttotal: 3.83s\tremaining: 1.37s\n",
      "737:\tlearn: 0.2241717\ttotal: 3.84s\tremaining: 1.36s\n",
      "738:\tlearn: 0.2239421\ttotal: 3.84s\tremaining: 1.36s\n",
      "739:\tlearn: 0.2238539\ttotal: 3.84s\tremaining: 1.35s\n",
      "740:\tlearn: 0.2236489\ttotal: 3.85s\tremaining: 1.34s\n",
      "741:\tlearn: 0.2233866\ttotal: 3.85s\tremaining: 1.34s\n",
      "742:\tlearn: 0.2231646\ttotal: 3.85s\tremaining: 1.33s\n",
      "743:\tlearn: 0.2230932\ttotal: 3.85s\tremaining: 1.33s\n",
      "744:\tlearn: 0.2227229\ttotal: 3.86s\tremaining: 1.32s\n",
      "745:\tlearn: 0.2225672\ttotal: 3.86s\tremaining: 1.31s\n",
      "746:\tlearn: 0.2223538\ttotal: 3.86s\tremaining: 1.31s\n",
      "747:\tlearn: 0.2222005\ttotal: 3.87s\tremaining: 1.3s\n",
      "748:\tlearn: 0.2220060\ttotal: 3.87s\tremaining: 1.3s\n",
      "749:\tlearn: 0.2218110\ttotal: 3.87s\tremaining: 1.29s\n",
      "750:\tlearn: 0.2216806\ttotal: 3.87s\tremaining: 1.28s\n",
      "751:\tlearn: 0.2214673\ttotal: 3.88s\tremaining: 1.28s\n",
      "752:\tlearn: 0.2213451\ttotal: 3.88s\tremaining: 1.27s\n",
      "753:\tlearn: 0.2211701\ttotal: 3.88s\tremaining: 1.27s\n",
      "754:\tlearn: 0.2209951\ttotal: 3.88s\tremaining: 1.26s\n",
      "755:\tlearn: 0.2209142\ttotal: 3.89s\tremaining: 1.25s\n",
      "756:\tlearn: 0.2207785\ttotal: 3.89s\tremaining: 1.25s\n",
      "757:\tlearn: 0.2205845\ttotal: 3.89s\tremaining: 1.24s\n",
      "758:\tlearn: 0.2202938\ttotal: 3.9s\tremaining: 1.24s\n",
      "759:\tlearn: 0.2199789\ttotal: 3.9s\tremaining: 1.23s\n",
      "760:\tlearn: 0.2198599\ttotal: 3.9s\tremaining: 1.23s\n",
      "761:\tlearn: 0.2196821\ttotal: 3.9s\tremaining: 1.22s\n",
      "762:\tlearn: 0.2193592\ttotal: 3.91s\tremaining: 1.21s\n",
      "763:\tlearn: 0.2191266\ttotal: 3.91s\tremaining: 1.21s\n",
      "764:\tlearn: 0.2190267\ttotal: 3.91s\tremaining: 1.2s\n",
      "765:\tlearn: 0.2187686\ttotal: 3.92s\tremaining: 1.2s\n",
      "766:\tlearn: 0.2185858\ttotal: 3.92s\tremaining: 1.19s\n",
      "767:\tlearn: 0.2183926\ttotal: 3.92s\tremaining: 1.18s\n",
      "768:\tlearn: 0.2182512\ttotal: 3.92s\tremaining: 1.18s\n",
      "769:\tlearn: 0.2181773\ttotal: 3.93s\tremaining: 1.17s\n",
      "770:\tlearn: 0.2180469\ttotal: 3.93s\tremaining: 1.17s\n",
      "771:\tlearn: 0.2178462\ttotal: 3.93s\tremaining: 1.16s\n",
      "772:\tlearn: 0.2177535\ttotal: 3.94s\tremaining: 1.16s\n",
      "773:\tlearn: 0.2174503\ttotal: 3.94s\tremaining: 1.15s\n",
      "774:\tlearn: 0.2173417\ttotal: 3.94s\tremaining: 1.14s\n",
      "775:\tlearn: 0.2172013\ttotal: 3.94s\tremaining: 1.14s\n",
      "776:\tlearn: 0.2171197\ttotal: 3.95s\tremaining: 1.13s\n",
      "777:\tlearn: 0.2169612\ttotal: 3.95s\tremaining: 1.13s\n",
      "778:\tlearn: 0.2168264\ttotal: 3.95s\tremaining: 1.12s\n",
      "779:\tlearn: 0.2166698\ttotal: 3.95s\tremaining: 1.11s\n",
      "780:\tlearn: 0.2164215\ttotal: 3.96s\tremaining: 1.11s\n",
      "781:\tlearn: 0.2162915\ttotal: 3.96s\tremaining: 1.1s\n",
      "782:\tlearn: 0.2160146\ttotal: 3.96s\tremaining: 1.1s\n",
      "783:\tlearn: 0.2157381\ttotal: 3.96s\tremaining: 1.09s\n",
      "784:\tlearn: 0.2155322\ttotal: 3.97s\tremaining: 1.09s\n",
      "785:\tlearn: 0.2153847\ttotal: 3.97s\tremaining: 1.08s\n",
      "786:\tlearn: 0.2152992\ttotal: 3.97s\tremaining: 1.07s\n",
      "787:\tlearn: 0.2151403\ttotal: 3.98s\tremaining: 1.07s\n",
      "788:\tlearn: 0.2149840\ttotal: 3.98s\tremaining: 1.06s\n",
      "789:\tlearn: 0.2147712\ttotal: 3.98s\tremaining: 1.06s\n",
      "790:\tlearn: 0.2145714\ttotal: 3.98s\tremaining: 1.05s\n",
      "791:\tlearn: 0.2143585\ttotal: 3.99s\tremaining: 1.05s\n",
      "792:\tlearn: 0.2142434\ttotal: 3.99s\tremaining: 1.04s\n",
      "793:\tlearn: 0.2140565\ttotal: 3.99s\tremaining: 1.04s\n",
      "794:\tlearn: 0.2139976\ttotal: 4s\tremaining: 1.03s\n",
      "795:\tlearn: 0.2138996\ttotal: 4s\tremaining: 1.02s\n",
      "796:\tlearn: 0.2137844\ttotal: 4s\tremaining: 1.02s\n",
      "797:\tlearn: 0.2135724\ttotal: 4s\tremaining: 1.01s\n",
      "798:\tlearn: 0.2133863\ttotal: 4.01s\tremaining: 1.01s\n",
      "799:\tlearn: 0.2131848\ttotal: 4.01s\tremaining: 1s\n",
      "800:\tlearn: 0.2130309\ttotal: 4.01s\tremaining: 997ms\n",
      "801:\tlearn: 0.2128340\ttotal: 4.01s\tremaining: 991ms\n",
      "802:\tlearn: 0.2126905\ttotal: 4.02s\tremaining: 986ms\n",
      "803:\tlearn: 0.2123892\ttotal: 4.02s\tremaining: 980ms\n",
      "804:\tlearn: 0.2122109\ttotal: 4.02s\tremaining: 975ms\n",
      "805:\tlearn: 0.2119244\ttotal: 4.03s\tremaining: 969ms\n",
      "806:\tlearn: 0.2117387\ttotal: 4.03s\tremaining: 964ms\n",
      "807:\tlearn: 0.2116167\ttotal: 4.03s\tremaining: 958ms\n",
      "808:\tlearn: 0.2114331\ttotal: 4.03s\tremaining: 953ms\n",
      "809:\tlearn: 0.2112257\ttotal: 4.04s\tremaining: 947ms\n",
      "810:\tlearn: 0.2110460\ttotal: 4.04s\tremaining: 942ms\n",
      "811:\tlearn: 0.2107386\ttotal: 4.04s\tremaining: 936ms\n",
      "812:\tlearn: 0.2104877\ttotal: 4.05s\tremaining: 931ms\n",
      "813:\tlearn: 0.2103318\ttotal: 4.05s\tremaining: 925ms\n",
      "814:\tlearn: 0.2101410\ttotal: 4.05s\tremaining: 920ms\n",
      "815:\tlearn: 0.2099847\ttotal: 4.05s\tremaining: 914ms\n",
      "816:\tlearn: 0.2098993\ttotal: 4.06s\tremaining: 909ms\n",
      "817:\tlearn: 0.2098081\ttotal: 4.06s\tremaining: 903ms\n",
      "818:\tlearn: 0.2096479\ttotal: 4.06s\tremaining: 898ms\n",
      "819:\tlearn: 0.2095013\ttotal: 4.07s\tremaining: 892ms\n",
      "820:\tlearn: 0.2094017\ttotal: 4.07s\tremaining: 887ms\n",
      "821:\tlearn: 0.2092214\ttotal: 4.07s\tremaining: 881ms\n",
      "822:\tlearn: 0.2090359\ttotal: 4.07s\tremaining: 876ms\n",
      "823:\tlearn: 0.2088861\ttotal: 4.08s\tremaining: 871ms\n",
      "824:\tlearn: 0.2087305\ttotal: 4.08s\tremaining: 865ms\n",
      "825:\tlearn: 0.2084785\ttotal: 4.08s\tremaining: 860ms\n",
      "826:\tlearn: 0.2083313\ttotal: 4.08s\tremaining: 854ms\n",
      "827:\tlearn: 0.2081266\ttotal: 4.09s\tremaining: 849ms\n",
      "828:\tlearn: 0.2079556\ttotal: 4.09s\tremaining: 844ms\n",
      "829:\tlearn: 0.2078613\ttotal: 4.09s\tremaining: 838ms\n",
      "830:\tlearn: 0.2077722\ttotal: 4.09s\tremaining: 833ms\n",
      "831:\tlearn: 0.2075543\ttotal: 4.1s\tremaining: 828ms\n",
      "832:\tlearn: 0.2074063\ttotal: 4.1s\tremaining: 822ms\n",
      "833:\tlearn: 0.2072743\ttotal: 4.11s\tremaining: 817ms\n",
      "834:\tlearn: 0.2071604\ttotal: 4.11s\tremaining: 812ms\n",
      "835:\tlearn: 0.2069191\ttotal: 4.11s\tremaining: 807ms\n",
      "836:\tlearn: 0.2067680\ttotal: 4.11s\tremaining: 801ms\n",
      "837:\tlearn: 0.2066428\ttotal: 4.12s\tremaining: 796ms\n",
      "838:\tlearn: 0.2064541\ttotal: 4.12s\tremaining: 791ms\n",
      "839:\tlearn: 0.2062310\ttotal: 4.12s\tremaining: 785ms\n",
      "840:\tlearn: 0.2061284\ttotal: 4.13s\tremaining: 780ms\n",
      "841:\tlearn: 0.2059610\ttotal: 4.13s\tremaining: 775ms\n",
      "842:\tlearn: 0.2058765\ttotal: 4.13s\tremaining: 769ms\n",
      "843:\tlearn: 0.2056593\ttotal: 4.13s\tremaining: 764ms\n",
      "844:\tlearn: 0.2054157\ttotal: 4.14s\tremaining: 759ms\n",
      "845:\tlearn: 0.2052422\ttotal: 4.14s\tremaining: 754ms\n",
      "846:\tlearn: 0.2050453\ttotal: 4.14s\tremaining: 749ms\n",
      "847:\tlearn: 0.2048364\ttotal: 4.15s\tremaining: 743ms\n",
      "848:\tlearn: 0.2047075\ttotal: 4.15s\tremaining: 738ms\n",
      "849:\tlearn: 0.2045397\ttotal: 4.15s\tremaining: 733ms\n",
      "850:\tlearn: 0.2044286\ttotal: 4.15s\tremaining: 727ms\n",
      "851:\tlearn: 0.2042008\ttotal: 4.16s\tremaining: 722ms\n",
      "852:\tlearn: 0.2039334\ttotal: 4.16s\tremaining: 717ms\n",
      "853:\tlearn: 0.2037378\ttotal: 4.16s\tremaining: 712ms\n",
      "854:\tlearn: 0.2036611\ttotal: 4.17s\tremaining: 707ms\n",
      "855:\tlearn: 0.2036067\ttotal: 4.17s\tremaining: 702ms\n",
      "856:\tlearn: 0.2035636\ttotal: 4.17s\tremaining: 696ms\n",
      "857:\tlearn: 0.2034021\ttotal: 4.17s\tremaining: 691ms\n",
      "858:\tlearn: 0.2032617\ttotal: 4.18s\tremaining: 686ms\n",
      "859:\tlearn: 0.2030863\ttotal: 4.18s\tremaining: 681ms\n",
      "860:\tlearn: 0.2029534\ttotal: 4.18s\tremaining: 676ms\n",
      "861:\tlearn: 0.2027323\ttotal: 4.19s\tremaining: 670ms\n",
      "862:\tlearn: 0.2025813\ttotal: 4.19s\tremaining: 665ms\n",
      "863:\tlearn: 0.2024954\ttotal: 4.19s\tremaining: 660ms\n",
      "864:\tlearn: 0.2023437\ttotal: 4.2s\tremaining: 655ms\n",
      "865:\tlearn: 0.2022500\ttotal: 4.2s\tremaining: 650ms\n",
      "866:\tlearn: 0.2020532\ttotal: 4.2s\tremaining: 645ms\n",
      "867:\tlearn: 0.2019657\ttotal: 4.21s\tremaining: 640ms\n",
      "868:\tlearn: 0.2017653\ttotal: 4.21s\tremaining: 635ms\n",
      "869:\tlearn: 0.2015431\ttotal: 4.21s\tremaining: 629ms\n",
      "870:\tlearn: 0.2014432\ttotal: 4.21s\tremaining: 624ms\n",
      "871:\tlearn: 0.2013003\ttotal: 4.22s\tremaining: 619ms\n",
      "872:\tlearn: 0.2011476\ttotal: 4.22s\tremaining: 614ms\n",
      "873:\tlearn: 0.2010605\ttotal: 4.22s\tremaining: 609ms\n",
      "874:\tlearn: 0.2009756\ttotal: 4.23s\tremaining: 604ms\n",
      "875:\tlearn: 0.2008591\ttotal: 4.23s\tremaining: 599ms\n",
      "876:\tlearn: 0.2006183\ttotal: 4.23s\tremaining: 594ms\n",
      "877:\tlearn: 0.2004010\ttotal: 4.24s\tremaining: 589ms\n",
      "878:\tlearn: 0.2002576\ttotal: 4.24s\tremaining: 583ms\n",
      "879:\tlearn: 0.2000252\ttotal: 4.24s\tremaining: 578ms\n",
      "880:\tlearn: 0.1999544\ttotal: 4.24s\tremaining: 573ms\n",
      "881:\tlearn: 0.1996229\ttotal: 4.25s\tremaining: 568ms\n",
      "882:\tlearn: 0.1994080\ttotal: 4.25s\tremaining: 563ms\n",
      "883:\tlearn: 0.1992908\ttotal: 4.25s\tremaining: 558ms\n",
      "884:\tlearn: 0.1991134\ttotal: 4.26s\tremaining: 553ms\n",
      "885:\tlearn: 0.1990145\ttotal: 4.26s\tremaining: 548ms\n",
      "886:\tlearn: 0.1987543\ttotal: 4.26s\tremaining: 543ms\n",
      "887:\tlearn: 0.1985807\ttotal: 4.27s\tremaining: 538ms\n",
      "888:\tlearn: 0.1984285\ttotal: 4.27s\tremaining: 533ms\n",
      "889:\tlearn: 0.1983013\ttotal: 4.27s\tremaining: 528ms\n",
      "890:\tlearn: 0.1981853\ttotal: 4.28s\tremaining: 523ms\n",
      "891:\tlearn: 0.1980605\ttotal: 4.28s\tremaining: 518ms\n",
      "892:\tlearn: 0.1977755\ttotal: 4.28s\tremaining: 513ms\n",
      "893:\tlearn: 0.1976769\ttotal: 4.28s\tremaining: 508ms\n",
      "894:\tlearn: 0.1974386\ttotal: 4.29s\tremaining: 503ms\n",
      "895:\tlearn: 0.1972699\ttotal: 4.29s\tremaining: 498ms\n",
      "896:\tlearn: 0.1970398\ttotal: 4.29s\tremaining: 493ms\n",
      "897:\tlearn: 0.1968089\ttotal: 4.3s\tremaining: 488ms\n",
      "898:\tlearn: 0.1966888\ttotal: 4.3s\tremaining: 483ms\n",
      "899:\tlearn: 0.1965151\ttotal: 4.3s\tremaining: 478ms\n",
      "900:\tlearn: 0.1963442\ttotal: 4.3s\tremaining: 473ms\n",
      "901:\tlearn: 0.1962960\ttotal: 4.31s\tremaining: 468ms\n",
      "902:\tlearn: 0.1960793\ttotal: 4.31s\tremaining: 463ms\n",
      "903:\tlearn: 0.1958927\ttotal: 4.31s\tremaining: 458ms\n",
      "904:\tlearn: 0.1958232\ttotal: 4.32s\tremaining: 453ms\n",
      "905:\tlearn: 0.1956960\ttotal: 4.32s\tremaining: 448ms\n",
      "906:\tlearn: 0.1956208\ttotal: 4.32s\tremaining: 443ms\n",
      "907:\tlearn: 0.1954185\ttotal: 4.33s\tremaining: 438ms\n",
      "908:\tlearn: 0.1953329\ttotal: 4.33s\tremaining: 433ms\n",
      "909:\tlearn: 0.1951527\ttotal: 4.33s\tremaining: 429ms\n",
      "910:\tlearn: 0.1949643\ttotal: 4.34s\tremaining: 424ms\n",
      "911:\tlearn: 0.1949093\ttotal: 4.34s\tremaining: 419ms\n",
      "912:\tlearn: 0.1947872\ttotal: 4.34s\tremaining: 414ms\n",
      "913:\tlearn: 0.1946039\ttotal: 4.34s\tremaining: 409ms\n",
      "914:\tlearn: 0.1945633\ttotal: 4.35s\tremaining: 404ms\n",
      "915:\tlearn: 0.1944005\ttotal: 4.35s\tremaining: 399ms\n",
      "916:\tlearn: 0.1941855\ttotal: 4.35s\tremaining: 394ms\n",
      "917:\tlearn: 0.1940688\ttotal: 4.36s\tremaining: 389ms\n",
      "918:\tlearn: 0.1939788\ttotal: 4.36s\tremaining: 384ms\n",
      "919:\tlearn: 0.1937402\ttotal: 4.36s\tremaining: 379ms\n",
      "920:\tlearn: 0.1936277\ttotal: 4.37s\tremaining: 374ms\n",
      "921:\tlearn: 0.1934373\ttotal: 4.37s\tremaining: 370ms\n",
      "922:\tlearn: 0.1933631\ttotal: 4.37s\tremaining: 365ms\n",
      "923:\tlearn: 0.1932541\ttotal: 4.37s\tremaining: 360ms\n",
      "924:\tlearn: 0.1931020\ttotal: 4.38s\tremaining: 355ms\n",
      "925:\tlearn: 0.1928065\ttotal: 4.38s\tremaining: 350ms\n",
      "926:\tlearn: 0.1925666\ttotal: 4.38s\tremaining: 345ms\n",
      "927:\tlearn: 0.1925099\ttotal: 4.38s\tremaining: 340ms\n",
      "928:\tlearn: 0.1923812\ttotal: 4.39s\tremaining: 335ms\n",
      "929:\tlearn: 0.1922459\ttotal: 4.39s\tremaining: 331ms\n",
      "930:\tlearn: 0.1920922\ttotal: 4.39s\tremaining: 326ms\n",
      "931:\tlearn: 0.1919816\ttotal: 4.4s\tremaining: 321ms\n",
      "932:\tlearn: 0.1918885\ttotal: 4.4s\tremaining: 316ms\n",
      "933:\tlearn: 0.1917080\ttotal: 4.4s\tremaining: 311ms\n",
      "934:\tlearn: 0.1915465\ttotal: 4.41s\tremaining: 306ms\n",
      "935:\tlearn: 0.1914386\ttotal: 4.41s\tremaining: 302ms\n",
      "936:\tlearn: 0.1913162\ttotal: 4.41s\tremaining: 297ms\n",
      "937:\tlearn: 0.1911366\ttotal: 4.42s\tremaining: 292ms\n",
      "938:\tlearn: 0.1910158\ttotal: 4.42s\tremaining: 287ms\n",
      "939:\tlearn: 0.1908299\ttotal: 4.42s\tremaining: 282ms\n",
      "940:\tlearn: 0.1907223\ttotal: 4.42s\tremaining: 277ms\n",
      "941:\tlearn: 0.1905159\ttotal: 4.43s\tremaining: 273ms\n",
      "942:\tlearn: 0.1903282\ttotal: 4.43s\tremaining: 268ms\n",
      "943:\tlearn: 0.1901565\ttotal: 4.43s\tremaining: 263ms\n",
      "944:\tlearn: 0.1900793\ttotal: 4.44s\tremaining: 258ms\n",
      "945:\tlearn: 0.1899828\ttotal: 4.44s\tremaining: 253ms\n",
      "946:\tlearn: 0.1898727\ttotal: 4.44s\tremaining: 249ms\n",
      "947:\tlearn: 0.1897751\ttotal: 4.45s\tremaining: 244ms\n",
      "948:\tlearn: 0.1895850\ttotal: 4.45s\tremaining: 239ms\n",
      "949:\tlearn: 0.1894326\ttotal: 4.45s\tremaining: 234ms\n",
      "950:\tlearn: 0.1893438\ttotal: 4.45s\tremaining: 230ms\n",
      "951:\tlearn: 0.1892537\ttotal: 4.46s\tremaining: 225ms\n",
      "952:\tlearn: 0.1891338\ttotal: 4.46s\tremaining: 220ms\n",
      "953:\tlearn: 0.1889639\ttotal: 4.46s\tremaining: 215ms\n",
      "954:\tlearn: 0.1889027\ttotal: 4.47s\tremaining: 210ms\n",
      "955:\tlearn: 0.1887899\ttotal: 4.47s\tremaining: 206ms\n",
      "956:\tlearn: 0.1886467\ttotal: 4.47s\tremaining: 201ms\n",
      "957:\tlearn: 0.1884457\ttotal: 4.47s\tremaining: 196ms\n",
      "958:\tlearn: 0.1882916\ttotal: 4.48s\tremaining: 191ms\n",
      "959:\tlearn: 0.1881421\ttotal: 4.48s\tremaining: 187ms\n",
      "960:\tlearn: 0.1880289\ttotal: 4.48s\tremaining: 182ms\n",
      "961:\tlearn: 0.1879502\ttotal: 4.49s\tremaining: 177ms\n",
      "962:\tlearn: 0.1878860\ttotal: 4.49s\tremaining: 173ms\n",
      "963:\tlearn: 0.1878166\ttotal: 4.49s\tremaining: 168ms\n",
      "964:\tlearn: 0.1877300\ttotal: 4.5s\tremaining: 163ms\n",
      "965:\tlearn: 0.1876431\ttotal: 4.5s\tremaining: 158ms\n",
      "966:\tlearn: 0.1874716\ttotal: 4.5s\tremaining: 154ms\n",
      "967:\tlearn: 0.1873858\ttotal: 4.5s\tremaining: 149ms\n",
      "968:\tlearn: 0.1873099\ttotal: 4.52s\tremaining: 145ms\n",
      "969:\tlearn: 0.1871117\ttotal: 4.53s\tremaining: 140ms\n",
      "970:\tlearn: 0.1870131\ttotal: 4.53s\tremaining: 135ms\n",
      "971:\tlearn: 0.1868964\ttotal: 4.53s\tremaining: 131ms\n",
      "972:\tlearn: 0.1868146\ttotal: 4.54s\tremaining: 126ms\n",
      "973:\tlearn: 0.1866383\ttotal: 4.54s\tremaining: 121ms\n",
      "974:\tlearn: 0.1864953\ttotal: 4.54s\tremaining: 116ms\n",
      "975:\tlearn: 0.1863632\ttotal: 4.54s\tremaining: 112ms\n",
      "976:\tlearn: 0.1861605\ttotal: 4.55s\tremaining: 107ms\n",
      "977:\tlearn: 0.1860381\ttotal: 4.55s\tremaining: 102ms\n",
      "978:\tlearn: 0.1858957\ttotal: 4.55s\tremaining: 97.7ms\n",
      "979:\tlearn: 0.1857672\ttotal: 4.56s\tremaining: 93ms\n",
      "980:\tlearn: 0.1855676\ttotal: 4.56s\tremaining: 88.3ms\n",
      "981:\tlearn: 0.1854228\ttotal: 4.56s\tremaining: 83.6ms\n",
      "982:\tlearn: 0.1853298\ttotal: 4.57s\tremaining: 79ms\n",
      "983:\tlearn: 0.1852238\ttotal: 4.57s\tremaining: 74.3ms\n",
      "984:\tlearn: 0.1851204\ttotal: 4.57s\tremaining: 69.6ms\n",
      "985:\tlearn: 0.1849473\ttotal: 4.57s\tremaining: 65ms\n",
      "986:\tlearn: 0.1847210\ttotal: 4.58s\tremaining: 60.3ms\n",
      "987:\tlearn: 0.1845716\ttotal: 4.58s\tremaining: 55.6ms\n",
      "988:\tlearn: 0.1844813\ttotal: 4.58s\tremaining: 51ms\n",
      "989:\tlearn: 0.1842829\ttotal: 4.59s\tremaining: 46.3ms\n",
      "990:\tlearn: 0.1841313\ttotal: 4.59s\tremaining: 41.7ms\n",
      "991:\tlearn: 0.1840712\ttotal: 4.59s\tremaining: 37ms\n",
      "992:\tlearn: 0.1839208\ttotal: 4.6s\tremaining: 32.4ms\n",
      "993:\tlearn: 0.1837684\ttotal: 4.6s\tremaining: 27.8ms\n",
      "994:\tlearn: 0.1836592\ttotal: 4.6s\tremaining: 23.1ms\n",
      "995:\tlearn: 0.1835180\ttotal: 4.61s\tremaining: 18.5ms\n",
      "996:\tlearn: 0.1834182\ttotal: 4.61s\tremaining: 13.9ms\n",
      "997:\tlearn: 0.1832361\ttotal: 4.61s\tremaining: 9.24ms\n",
      "998:\tlearn: 0.1831983\ttotal: 4.61s\tremaining: 4.62ms\n",
      "999:\tlearn: 0.1830651\ttotal: 4.62s\tremaining: 0us\n"
     ]
    },
    {
     "data": {
      "text/plain": [
       "[{'Logistic Regression': {'accuracy': 0.855072463768116,\n",
       "   'f1-score': 0.7882699275362319},\n",
       "  'Decision Tree': {'accuracy': 0.7460869565217392,\n",
       "   'f1-score': 0.7594549942272767},\n",
       "  'Random Forest': {'accuracy': 0.855072463768116,\n",
       "   'f1-score': 0.7907012244129078},\n",
       "  'K-Nearest Neighbors': {'accuracy': 0.8336231884057971,\n",
       "   'f1-score': 0.7842218662155915},\n",
       "  'Gaussian Naive Bayes': {'accuracy': 0.06260869565217392,\n",
       "   'f1-score': 0.09158364648951271},\n",
       "  'Support Vector Machine': {'accuracy': 0.855072463768116,\n",
       "   'f1-score': 0.7882699275362319},\n",
       "  'XGBoost': {'accuracy': 0.8533333333333334, 'f1-score': 0.8056399168170112},\n",
       "  'ExtraTreesClassifier': {'accuracy': 0.8579710144927536,\n",
       "   'f1-score': 0.7962081744197514},\n",
       "  'CatBoostClassifier': {'accuracy': 0.8556521739130435,\n",
       "   'f1-score': 0.8012663937974301},\n",
       "  'AdaBoostClassifier': {'accuracy': 0.8533333333333334,\n",
       "   'f1-score': 0.7874048587217183}},\n",
       " {'Logistic Regression': {'accuracy': 0.855072463768116,\n",
       "   'f1-score': 0.7882699275362319},\n",
       "  'Decision Tree': {'accuracy': 0.7460869565217392,\n",
       "   'f1-score': 0.7594549942272767},\n",
       "  'Random Forest': {'accuracy': 0.855072463768116,\n",
       "   'f1-score': 0.7907012244129078},\n",
       "  'K-Nearest Neighbors': {'accuracy': 0.8336231884057971,\n",
       "   'f1-score': 0.7842218662155915},\n",
       "  'Gaussian Naive Bayes': {'accuracy': 0.06260869565217392,\n",
       "   'f1-score': 0.09158364648951271},\n",
       "  'Support Vector Machine': {'accuracy': 0.855072463768116,\n",
       "   'f1-score': 0.7882699275362319},\n",
       "  'XGBoost': {'accuracy': 0.8533333333333334, 'f1-score': 0.8056399168170112},\n",
       "  'ExtraTreesClassifier': {'accuracy': 0.8579710144927536,\n",
       "   'f1-score': 0.7962081744197514},\n",
       "  'CatBoostClassifier': {'accuracy': 0.8556521739130435,\n",
       "   'f1-score': 0.8012663937974301},\n",
       "  'AdaBoostClassifier': {'accuracy': 0.8533333333333334,\n",
       "   'f1-score': 0.7874048587217183}},\n",
       " {'Logistic Regression': {'accuracy': 0.855072463768116,\n",
       "   'f1-score': 0.7882699275362319},\n",
       "  'Decision Tree': {'accuracy': 0.7460869565217392,\n",
       "   'f1-score': 0.7594549942272767},\n",
       "  'Random Forest': {'accuracy': 0.855072463768116,\n",
       "   'f1-score': 0.7907012244129078},\n",
       "  'K-Nearest Neighbors': {'accuracy': 0.8336231884057971,\n",
       "   'f1-score': 0.7842218662155915},\n",
       "  'Gaussian Naive Bayes': {'accuracy': 0.06260869565217392,\n",
       "   'f1-score': 0.09158364648951271},\n",
       "  'Support Vector Machine': {'accuracy': 0.855072463768116,\n",
       "   'f1-score': 0.7882699275362319},\n",
       "  'XGBoost': {'accuracy': 0.8533333333333334, 'f1-score': 0.8056399168170112},\n",
       "  'ExtraTreesClassifier': {'accuracy': 0.8579710144927536,\n",
       "   'f1-score': 0.7962081744197514},\n",
       "  'CatBoostClassifier': {'accuracy': 0.8556521739130435,\n",
       "   'f1-score': 0.8012663937974301},\n",
       "  'AdaBoostClassifier': {'accuracy': 0.8533333333333334,\n",
       "   'f1-score': 0.7874048587217183}},\n",
       " {'Logistic Regression': {'accuracy': 0.855072463768116,\n",
       "   'f1-score': 0.7882699275362319},\n",
       "  'Decision Tree': {'accuracy': 0.7460869565217392,\n",
       "   'f1-score': 0.7594549942272767},\n",
       "  'Random Forest': {'accuracy': 0.855072463768116,\n",
       "   'f1-score': 0.7907012244129078},\n",
       "  'K-Nearest Neighbors': {'accuracy': 0.8336231884057971,\n",
       "   'f1-score': 0.7842218662155915},\n",
       "  'Gaussian Naive Bayes': {'accuracy': 0.06260869565217392,\n",
       "   'f1-score': 0.09158364648951271},\n",
       "  'Support Vector Machine': {'accuracy': 0.855072463768116,\n",
       "   'f1-score': 0.7882699275362319},\n",
       "  'XGBoost': {'accuracy': 0.8533333333333334, 'f1-score': 0.8056399168170112},\n",
       "  'ExtraTreesClassifier': {'accuracy': 0.8579710144927536,\n",
       "   'f1-score': 0.7962081744197514},\n",
       "  'CatBoostClassifier': {'accuracy': 0.8556521739130435,\n",
       "   'f1-score': 0.8012663937974301},\n",
       "  'AdaBoostClassifier': {'accuracy': 0.8533333333333334,\n",
       "   'f1-score': 0.7874048587217183}},\n",
       " {'Logistic Regression': {'accuracy': 0.855072463768116,\n",
       "   'f1-score': 0.7882699275362319},\n",
       "  'Decision Tree': {'accuracy': 0.7460869565217392,\n",
       "   'f1-score': 0.7594549942272767},\n",
       "  'Random Forest': {'accuracy': 0.855072463768116,\n",
       "   'f1-score': 0.7907012244129078},\n",
       "  'K-Nearest Neighbors': {'accuracy': 0.8336231884057971,\n",
       "   'f1-score': 0.7842218662155915},\n",
       "  'Gaussian Naive Bayes': {'accuracy': 0.06260869565217392,\n",
       "   'f1-score': 0.09158364648951271},\n",
       "  'Support Vector Machine': {'accuracy': 0.855072463768116,\n",
       "   'f1-score': 0.7882699275362319},\n",
       "  'XGBoost': {'accuracy': 0.8533333333333334, 'f1-score': 0.8056399168170112},\n",
       "  'ExtraTreesClassifier': {'accuracy': 0.8579710144927536,\n",
       "   'f1-score': 0.7962081744197514},\n",
       "  'CatBoostClassifier': {'accuracy': 0.8556521739130435,\n",
       "   'f1-score': 0.8012663937974301},\n",
       "  'AdaBoostClassifier': {'accuracy': 0.8533333333333334,\n",
       "   'f1-score': 0.7874048587217183}},\n",
       " {'Logistic Regression': {'accuracy': 0.855072463768116,\n",
       "   'f1-score': 0.7882699275362319},\n",
       "  'Decision Tree': {'accuracy': 0.7460869565217392,\n",
       "   'f1-score': 0.7594549942272767},\n",
       "  'Random Forest': {'accuracy': 0.855072463768116,\n",
       "   'f1-score': 0.7907012244129078},\n",
       "  'K-Nearest Neighbors': {'accuracy': 0.8336231884057971,\n",
       "   'f1-score': 0.7842218662155915},\n",
       "  'Gaussian Naive Bayes': {'accuracy': 0.06260869565217392,\n",
       "   'f1-score': 0.09158364648951271},\n",
       "  'Support Vector Machine': {'accuracy': 0.855072463768116,\n",
       "   'f1-score': 0.7882699275362319},\n",
       "  'XGBoost': {'accuracy': 0.8533333333333334, 'f1-score': 0.8056399168170112},\n",
       "  'ExtraTreesClassifier': {'accuracy': 0.8579710144927536,\n",
       "   'f1-score': 0.7962081744197514},\n",
       "  'CatBoostClassifier': {'accuracy': 0.8556521739130435,\n",
       "   'f1-score': 0.8012663937974301},\n",
       "  'AdaBoostClassifier': {'accuracy': 0.8533333333333334,\n",
       "   'f1-score': 0.7874048587217183}},\n",
       " {'Logistic Regression': {'accuracy': 0.855072463768116,\n",
       "   'f1-score': 0.7882699275362319},\n",
       "  'Decision Tree': {'accuracy': 0.7460869565217392,\n",
       "   'f1-score': 0.7594549942272767},\n",
       "  'Random Forest': {'accuracy': 0.855072463768116,\n",
       "   'f1-score': 0.7907012244129078},\n",
       "  'K-Nearest Neighbors': {'accuracy': 0.8336231884057971,\n",
       "   'f1-score': 0.7842218662155915},\n",
       "  'Gaussian Naive Bayes': {'accuracy': 0.06260869565217392,\n",
       "   'f1-score': 0.09158364648951271},\n",
       "  'Support Vector Machine': {'accuracy': 0.855072463768116,\n",
       "   'f1-score': 0.7882699275362319},\n",
       "  'XGBoost': {'accuracy': 0.8533333333333334, 'f1-score': 0.8056399168170112},\n",
       "  'ExtraTreesClassifier': {'accuracy': 0.8579710144927536,\n",
       "   'f1-score': 0.7962081744197514},\n",
       "  'CatBoostClassifier': {'accuracy': 0.8556521739130435,\n",
       "   'f1-score': 0.8012663937974301},\n",
       "  'AdaBoostClassifier': {'accuracy': 0.8533333333333334,\n",
       "   'f1-score': 0.7874048587217183}},\n",
       " {'Logistic Regression': {'accuracy': 0.855072463768116,\n",
       "   'f1-score': 0.7882699275362319},\n",
       "  'Decision Tree': {'accuracy': 0.7460869565217392,\n",
       "   'f1-score': 0.7594549942272767},\n",
       "  'Random Forest': {'accuracy': 0.855072463768116,\n",
       "   'f1-score': 0.7907012244129078},\n",
       "  'K-Nearest Neighbors': {'accuracy': 0.8336231884057971,\n",
       "   'f1-score': 0.7842218662155915},\n",
       "  'Gaussian Naive Bayes': {'accuracy': 0.06260869565217392,\n",
       "   'f1-score': 0.09158364648951271},\n",
       "  'Support Vector Machine': {'accuracy': 0.855072463768116,\n",
       "   'f1-score': 0.7882699275362319},\n",
       "  'XGBoost': {'accuracy': 0.8533333333333334, 'f1-score': 0.8056399168170112},\n",
       "  'ExtraTreesClassifier': {'accuracy': 0.8579710144927536,\n",
       "   'f1-score': 0.7962081744197514},\n",
       "  'CatBoostClassifier': {'accuracy': 0.8556521739130435,\n",
       "   'f1-score': 0.8012663937974301},\n",
       "  'AdaBoostClassifier': {'accuracy': 0.8533333333333334,\n",
       "   'f1-score': 0.7874048587217183}},\n",
       " {'Logistic Regression': {'accuracy': 0.855072463768116,\n",
       "   'f1-score': 0.7882699275362319},\n",
       "  'Decision Tree': {'accuracy': 0.7460869565217392,\n",
       "   'f1-score': 0.7594549942272767},\n",
       "  'Random Forest': {'accuracy': 0.855072463768116,\n",
       "   'f1-score': 0.7907012244129078},\n",
       "  'K-Nearest Neighbors': {'accuracy': 0.8336231884057971,\n",
       "   'f1-score': 0.7842218662155915},\n",
       "  'Gaussian Naive Bayes': {'accuracy': 0.06260869565217392,\n",
       "   'f1-score': 0.09158364648951271},\n",
       "  'Support Vector Machine': {'accuracy': 0.855072463768116,\n",
       "   'f1-score': 0.7882699275362319},\n",
       "  'XGBoost': {'accuracy': 0.8533333333333334, 'f1-score': 0.8056399168170112},\n",
       "  'ExtraTreesClassifier': {'accuracy': 0.8579710144927536,\n",
       "   'f1-score': 0.7962081744197514},\n",
       "  'CatBoostClassifier': {'accuracy': 0.8556521739130435,\n",
       "   'f1-score': 0.8012663937974301},\n",
       "  'AdaBoostClassifier': {'accuracy': 0.8533333333333334,\n",
       "   'f1-score': 0.7874048587217183}},\n",
       " {'Logistic Regression': {'accuracy': 0.855072463768116,\n",
       "   'f1-score': 0.7882699275362319},\n",
       "  'Decision Tree': {'accuracy': 0.7460869565217392,\n",
       "   'f1-score': 0.7594549942272767},\n",
       "  'Random Forest': {'accuracy': 0.855072463768116,\n",
       "   'f1-score': 0.7907012244129078},\n",
       "  'K-Nearest Neighbors': {'accuracy': 0.8336231884057971,\n",
       "   'f1-score': 0.7842218662155915},\n",
       "  'Gaussian Naive Bayes': {'accuracy': 0.06260869565217392,\n",
       "   'f1-score': 0.09158364648951271},\n",
       "  'Support Vector Machine': {'accuracy': 0.855072463768116,\n",
       "   'f1-score': 0.7882699275362319},\n",
       "  'XGBoost': {'accuracy': 0.8533333333333334, 'f1-score': 0.8056399168170112},\n",
       "  'ExtraTreesClassifier': {'accuracy': 0.8579710144927536,\n",
       "   'f1-score': 0.7962081744197514},\n",
       "  'CatBoostClassifier': {'accuracy': 0.8556521739130435,\n",
       "   'f1-score': 0.8012663937974301},\n",
       "  'AdaBoostClassifier': {'accuracy': 0.8533333333333334,\n",
       "   'f1-score': 0.7874048587217183}}]"
      ]
     },
     "execution_count": 27,
     "metadata": {},
     "output_type": "execute_result"
    }
   ],
   "source": [
    "fit_classification_models(X_train, y_train)"
   ]
  },
  {
   "cell_type": "code",
   "execution_count": 28,
   "id": "51219e52",
   "metadata": {},
   "outputs": [],
   "source": [
    "from sklearn.ensemble import GradientBoostingClassifier"
   ]
  },
  {
   "cell_type": "code",
   "execution_count": 29,
   "id": "51a21fab",
   "metadata": {},
   "outputs": [
    {
     "name": "stdout",
     "output_type": "stream",
     "text": [
      "                    Algorithm  F1-score  accuracy\n",
      "7               XGBClassifier  0.794708  0.845196\n",
      "6  GradientBoostingClassifier  0.778334  0.842490\n",
      "8        ExtraTreesClassifier  0.772787  0.841949\n",
      "2      RandomForestClassifier  0.771927  0.842219\n",
      "4        KNeighborsClassifier  0.770740  0.825440\n",
      "0          LogisticRegression  0.768177  0.840866\n",
      "3                         SVC  0.768177  0.840866\n",
      "1      DecisionTreeClassifier  0.744279  0.734777\n",
      "5                  GaussianNB  0.315403  0.212179\n"
     ]
    }
   ],
   "source": [
    "# Define a list of algorithms\n",
    "algorithms = [LogisticRegression(), DecisionTreeClassifier(), RandomForestClassifier(),\n",
    "              SVC(), KNeighborsClassifier(), GaussianNB(), GradientBoostingClassifier(),\n",
    "              XGBClassifier(), ExtraTreesClassifier()]\n",
    "\n",
    "# Fit models on the training data\n",
    "results = []\n",
    "for algo in algorithms:\n",
    "    algo.fit(X_train, y_train)\n",
    "\n",
    "    # Predict on the test data\n",
    "    y_pred = algo.predict(X_test)\n",
    "\n",
    "    # Evaluate performance of model\n",
    "    f1 = f1_score(y_test, y_pred, average='weighted')\n",
    "    acc = accuracy_score(y_test, y_pred)\n",
    "    result = {'Algorithm': type(algo).__name__, 'F1-score': f1, 'accuracy': acc}\n",
    "    results.append(result)\n",
    "\n",
    "# Convert results to a DataFrame and sort by F1-score\n",
    "results_df = pd.DataFrame(results).sort_values(by='F1-score', ascending=False)\n",
    "print(results_df)"
   ]
  },
  {
   "cell_type": "markdown",
   "id": "e9124d9c",
   "metadata": {},
   "source": [
    "## Results"
   ]
  },
  {
   "cell_type": "code",
   "execution_count": 30,
   "id": "f255de24",
   "metadata": {},
   "outputs": [
    {
     "data": {
      "text/html": [
       "<div>\n",
       "<style scoped>\n",
       "    .dataframe tbody tr th:only-of-type {\n",
       "        vertical-align: middle;\n",
       "    }\n",
       "\n",
       "    .dataframe tbody tr th {\n",
       "        vertical-align: top;\n",
       "    }\n",
       "\n",
       "    .dataframe thead th {\n",
       "        text-align: right;\n",
       "    }\n",
       "</style>\n",
       "<table border=\"1\" class=\"dataframe\">\n",
       "  <thead>\n",
       "    <tr style=\"text-align: right;\">\n",
       "      <th></th>\n",
       "      <th>Algorithm</th>\n",
       "      <th>F1-score</th>\n",
       "      <th>accuracy</th>\n",
       "    </tr>\n",
       "  </thead>\n",
       "  <tbody>\n",
       "    <tr>\n",
       "      <th>7</th>\n",
       "      <td>XGBClassifier</td>\n",
       "      <td>0.794708</td>\n",
       "      <td>0.845196</td>\n",
       "    </tr>\n",
       "    <tr>\n",
       "      <th>6</th>\n",
       "      <td>GradientBoostingClassifier</td>\n",
       "      <td>0.778334</td>\n",
       "      <td>0.842490</td>\n",
       "    </tr>\n",
       "    <tr>\n",
       "      <th>8</th>\n",
       "      <td>ExtraTreesClassifier</td>\n",
       "      <td>0.772787</td>\n",
       "      <td>0.841949</td>\n",
       "    </tr>\n",
       "    <tr>\n",
       "      <th>2</th>\n",
       "      <td>RandomForestClassifier</td>\n",
       "      <td>0.771927</td>\n",
       "      <td>0.842219</td>\n",
       "    </tr>\n",
       "    <tr>\n",
       "      <th>4</th>\n",
       "      <td>KNeighborsClassifier</td>\n",
       "      <td>0.770740</td>\n",
       "      <td>0.825440</td>\n",
       "    </tr>\n",
       "    <tr>\n",
       "      <th>0</th>\n",
       "      <td>LogisticRegression</td>\n",
       "      <td>0.768177</td>\n",
       "      <td>0.840866</td>\n",
       "    </tr>\n",
       "    <tr>\n",
       "      <th>3</th>\n",
       "      <td>SVC</td>\n",
       "      <td>0.768177</td>\n",
       "      <td>0.840866</td>\n",
       "    </tr>\n",
       "    <tr>\n",
       "      <th>1</th>\n",
       "      <td>DecisionTreeClassifier</td>\n",
       "      <td>0.744279</td>\n",
       "      <td>0.734777</td>\n",
       "    </tr>\n",
       "    <tr>\n",
       "      <th>5</th>\n",
       "      <td>GaussianNB</td>\n",
       "      <td>0.315403</td>\n",
       "      <td>0.212179</td>\n",
       "    </tr>\n",
       "  </tbody>\n",
       "</table>\n",
       "</div>"
      ],
      "text/plain": [
       "                    Algorithm  F1-score  accuracy\n",
       "7               XGBClassifier  0.794708  0.845196\n",
       "6  GradientBoostingClassifier  0.778334  0.842490\n",
       "8        ExtraTreesClassifier  0.772787  0.841949\n",
       "2      RandomForestClassifier  0.771927  0.842219\n",
       "4        KNeighborsClassifier  0.770740  0.825440\n",
       "0          LogisticRegression  0.768177  0.840866\n",
       "3                         SVC  0.768177  0.840866\n",
       "1      DecisionTreeClassifier  0.744279  0.734777\n",
       "5                  GaussianNB  0.315403  0.212179"
      ]
     },
     "execution_count": 30,
     "metadata": {},
     "output_type": "execute_result"
    }
   ],
   "source": [
    "results_df"
   ]
  },
  {
   "cell_type": "markdown",
   "id": "bfabc80e",
   "metadata": {},
   "source": [
    "XGBClassifier is performing the best, we will choose this for hyperparameter tuning"
   ]
  },
  {
   "cell_type": "code",
   "execution_count": 31,
   "id": "54914666",
   "metadata": {},
   "outputs": [],
   "source": [
    "import plotly.express as px\n",
    "import plotly.offline as py\n",
    "import plotly.graph_objs as go\n",
    "import plotly.tools as tls\n",
    "import plotly.figure_factory as ff"
   ]
  },
  {
   "cell_type": "code",
   "execution_count": 32,
   "id": "ddcb94c3",
   "metadata": {},
   "outputs": [],
   "source": [
    "from sklearn.metrics import (accuracy_score, \n",
    "                            classification_report,\n",
    "                            recall_score, precision_score, f1_score,\n",
    "                            confusion_matrix)"
   ]
  },
  {
   "cell_type": "code",
   "execution_count": 33,
   "id": "88f4d93d",
   "metadata": {},
   "outputs": [],
   "source": [
    "from sklearn.model_selection import GridSearchCV, KFold"
   ]
  },
  {
   "cell_type": "code",
   "execution_count": 34,
   "id": "d58c228d",
   "metadata": {},
   "outputs": [],
   "source": [
    "def model_performance(model, y_test, y_hat) : \n",
    "    conf_matrix = confusion_matrix(y_test, y_hat)\n",
    "    trace1 = go.Heatmap(z = conf_matrix  ,x = [\"0 (pred)\",\"1 (pred)\", \"2 (pred)\"],\n",
    "                        y = [\"0 (true)\",\"1 (true)\", \"2 (true)\"],xgap = 2, ygap = 2, \n",
    "                        colorscale = 'Viridis', showscale  = False)\n",
    "\n",
    "    #Show metrics\n",
    "    Accuracy  =  accuracy_score(y_test, y_hat)\n",
    "    Precision =  precision_score(y_test, y_pred, average= 'weighted')\n",
    "    Recall    =  recall_score(y_test, y_pred, average= 'weighted')\n",
    "    F1_score  =  f1_score(y_test, y_pred, average= 'weighted')\n",
    "\n",
    "    show_metrics = pd.DataFrame(data=[[Accuracy , Precision, Recall, F1_score]])\n",
    "    show_metrics = show_metrics.T\n",
    "\n",
    "    colors = ['gold', 'lightgreen', 'lightcoral', 'lightskyblue']\n",
    "    trace2 = go.Bar(x = (show_metrics[0].values), \n",
    "                   y = ['Accuracy', 'Precision', 'Recall', 'F1_score'], text = np.round_(show_metrics[0].values,4),\n",
    "                    textposition = 'auto',\n",
    "                   orientation = 'h', opacity = 0.8,marker=dict(\n",
    "            color=colors,\n",
    "            line=dict(color='#000000',width=1.5)))\n",
    " \n",
    "     \n",
    "    #plots\n",
    "    model = model\n",
    "    \n",
    "    #Subplots\n",
    "    fig = tls.make_subplots(rows=2, cols=1, print_grid=False, \n",
    "                          subplot_titles=('Confusion Matrix',\n",
    "                                        'Metrics',\n",
    "                                        ))\n",
    "    \n",
    "    fig.append_trace(trace1,1,1)\n",
    "    fig.append_trace(trace2,2,1)\n",
    "    \n",
    "    fig['layout'].update(showlegend = False, title = '<b>Model performance report</b><br>'+str(model),\n",
    "                        autosize = True, height = 800,width = 800,\n",
    "                        plot_bgcolor = 'rgba(240,240,240, 0.95)',\n",
    "                        paper_bgcolor = 'rgba(240,240,240, 0.95)',\n",
    "                        # margin = dict(b = 100)\n",
    "                        )\n",
    "    fig.layout.titlefont.size = 14\n",
    "    \n",
    "    py.iplot(fig)"
   ]
  },
  {
   "cell_type": "code",
   "execution_count": 35,
   "id": "85991af3",
   "metadata": {},
   "outputs": [],
   "source": [
    "xgb = XGBClassifier()\n",
    "xgb.fit(X_train, y_train)\n",
    "y_pred = xgb.predict(X_test)"
   ]
  },
  {
   "cell_type": "code",
   "execution_count": 36,
   "id": "5ab141ad",
   "metadata": {},
   "outputs": [
    {
     "data": {
      "text/plain": [
       "array([2, 2, 2, ..., 2, 2, 2], dtype=int64)"
      ]
     },
     "execution_count": 36,
     "metadata": {},
     "output_type": "execute_result"
    }
   ],
   "source": [
    "y_pred"
   ]
  },
  {
   "cell_type": "code",
   "execution_count": 37,
   "id": "62365d27",
   "metadata": {},
   "outputs": [
    {
     "name": "stderr",
     "output_type": "stream",
     "text": [
      "d:\\github\\Projects\\TMLC\\road_accident_severity\\rtacls\\lib\\site-packages\\plotly\\tools.py:460: DeprecationWarning:\n",
      "\n",
      "plotly.tools.make_subplots is deprecated, please use plotly.subplots.make_subplots instead\n",
      "\n"
     ]
    },
    {
     "data": {
      "application/vnd.plotly.v1+json": {
       "config": {
        "linkText": "Export to plot.ly",
        "plotlyServerURL": "https://plot.ly",
        "showLink": false
       },
       "data": [
        {
         "colorscale": [
          [
           0,
           "#440154"
          ],
          [
           0.1111111111111111,
           "#482878"
          ],
          [
           0.2222222222222222,
           "#3e4989"
          ],
          [
           0.3333333333333333,
           "#31688e"
          ],
          [
           0.4444444444444444,
           "#26828e"
          ],
          [
           0.5555555555555556,
           "#1f9e89"
          ],
          [
           0.6666666666666666,
           "#35b779"
          ],
          [
           0.7777777777777778,
           "#6ece58"
          ],
          [
           0.8888888888888888,
           "#b5de2b"
          ],
          [
           1,
           "#fde725"
          ]
         ],
         "showscale": false,
         "type": "heatmap",
         "x": [
          "0 (pred)",
          "1 (pred)",
          "2 (pred)"
         ],
         "xaxis": "x",
         "xgap": 2,
         "y": [
          "0 (true)",
          "1 (true)",
          "2 (true)"
         ],
         "yaxis": "y",
         "ygap": 2,
         "z": [
          [
           3,
           4,
           44
          ],
          [
           0,
           51,
           486
          ],
          [
           0,
           38,
           3069
          ]
         ]
        },
        {
         "marker": {
          "color": [
           "gold",
           "lightgreen",
           "lightcoral",
           "lightskyblue"
          ],
          "line": {
           "color": "#000000",
           "width": 1.5
          }
         },
         "opacity": 0.8,
         "orientation": "h",
         "text": [
          0.8452,
          0.8105,
          0.8452,
          0.7947
         ],
         "textposition": "auto",
         "type": "bar",
         "x": [
          0.8451962110960758,
          0.8105378431020273,
          0.8451962110960758,
          0.7947079268849647
         ],
         "xaxis": "x2",
         "y": [
          "Accuracy",
          "Precision",
          "Recall",
          "F1_score"
         ],
         "yaxis": "y2"
        }
       ],
       "layout": {
        "annotations": [
         {
          "font": {
           "size": 16
          },
          "showarrow": false,
          "text": "Confusion Matrix",
          "x": 0.5,
          "xanchor": "center",
          "xref": "paper",
          "y": 1,
          "yanchor": "bottom",
          "yref": "paper"
         },
         {
          "font": {
           "size": 16
          },
          "showarrow": false,
          "text": "Metrics",
          "x": 0.5,
          "xanchor": "center",
          "xref": "paper",
          "y": 0.375,
          "yanchor": "bottom",
          "yref": "paper"
         }
        ],
        "autosize": true,
        "height": 800,
        "paper_bgcolor": "rgba(240,240,240, 0.95)",
        "plot_bgcolor": "rgba(240,240,240, 0.95)",
        "showlegend": false,
        "template": {
         "data": {
          "bar": [
           {
            "error_x": {
             "color": "#2a3f5f"
            },
            "error_y": {
             "color": "#2a3f5f"
            },
            "marker": {
             "line": {
              "color": "#E5ECF6",
              "width": 0.5
             },
             "pattern": {
              "fillmode": "overlay",
              "size": 10,
              "solidity": 0.2
             }
            },
            "type": "bar"
           }
          ],
          "barpolar": [
           {
            "marker": {
             "line": {
              "color": "#E5ECF6",
              "width": 0.5
             },
             "pattern": {
              "fillmode": "overlay",
              "size": 10,
              "solidity": 0.2
             }
            },
            "type": "barpolar"
           }
          ],
          "carpet": [
           {
            "aaxis": {
             "endlinecolor": "#2a3f5f",
             "gridcolor": "white",
             "linecolor": "white",
             "minorgridcolor": "white",
             "startlinecolor": "#2a3f5f"
            },
            "baxis": {
             "endlinecolor": "#2a3f5f",
             "gridcolor": "white",
             "linecolor": "white",
             "minorgridcolor": "white",
             "startlinecolor": "#2a3f5f"
            },
            "type": "carpet"
           }
          ],
          "choropleth": [
           {
            "colorbar": {
             "outlinewidth": 0,
             "ticks": ""
            },
            "type": "choropleth"
           }
          ],
          "contour": [
           {
            "colorbar": {
             "outlinewidth": 0,
             "ticks": ""
            },
            "colorscale": [
             [
              0,
              "#0d0887"
             ],
             [
              0.1111111111111111,
              "#46039f"
             ],
             [
              0.2222222222222222,
              "#7201a8"
             ],
             [
              0.3333333333333333,
              "#9c179e"
             ],
             [
              0.4444444444444444,
              "#bd3786"
             ],
             [
              0.5555555555555556,
              "#d8576b"
             ],
             [
              0.6666666666666666,
              "#ed7953"
             ],
             [
              0.7777777777777778,
              "#fb9f3a"
             ],
             [
              0.8888888888888888,
              "#fdca26"
             ],
             [
              1,
              "#f0f921"
             ]
            ],
            "type": "contour"
           }
          ],
          "contourcarpet": [
           {
            "colorbar": {
             "outlinewidth": 0,
             "ticks": ""
            },
            "type": "contourcarpet"
           }
          ],
          "heatmap": [
           {
            "colorbar": {
             "outlinewidth": 0,
             "ticks": ""
            },
            "colorscale": [
             [
              0,
              "#0d0887"
             ],
             [
              0.1111111111111111,
              "#46039f"
             ],
             [
              0.2222222222222222,
              "#7201a8"
             ],
             [
              0.3333333333333333,
              "#9c179e"
             ],
             [
              0.4444444444444444,
              "#bd3786"
             ],
             [
              0.5555555555555556,
              "#d8576b"
             ],
             [
              0.6666666666666666,
              "#ed7953"
             ],
             [
              0.7777777777777778,
              "#fb9f3a"
             ],
             [
              0.8888888888888888,
              "#fdca26"
             ],
             [
              1,
              "#f0f921"
             ]
            ],
            "type": "heatmap"
           }
          ],
          "heatmapgl": [
           {
            "colorbar": {
             "outlinewidth": 0,
             "ticks": ""
            },
            "colorscale": [
             [
              0,
              "#0d0887"
             ],
             [
              0.1111111111111111,
              "#46039f"
             ],
             [
              0.2222222222222222,
              "#7201a8"
             ],
             [
              0.3333333333333333,
              "#9c179e"
             ],
             [
              0.4444444444444444,
              "#bd3786"
             ],
             [
              0.5555555555555556,
              "#d8576b"
             ],
             [
              0.6666666666666666,
              "#ed7953"
             ],
             [
              0.7777777777777778,
              "#fb9f3a"
             ],
             [
              0.8888888888888888,
              "#fdca26"
             ],
             [
              1,
              "#f0f921"
             ]
            ],
            "type": "heatmapgl"
           }
          ],
          "histogram": [
           {
            "marker": {
             "pattern": {
              "fillmode": "overlay",
              "size": 10,
              "solidity": 0.2
             }
            },
            "type": "histogram"
           }
          ],
          "histogram2d": [
           {
            "colorbar": {
             "outlinewidth": 0,
             "ticks": ""
            },
            "colorscale": [
             [
              0,
              "#0d0887"
             ],
             [
              0.1111111111111111,
              "#46039f"
             ],
             [
              0.2222222222222222,
              "#7201a8"
             ],
             [
              0.3333333333333333,
              "#9c179e"
             ],
             [
              0.4444444444444444,
              "#bd3786"
             ],
             [
              0.5555555555555556,
              "#d8576b"
             ],
             [
              0.6666666666666666,
              "#ed7953"
             ],
             [
              0.7777777777777778,
              "#fb9f3a"
             ],
             [
              0.8888888888888888,
              "#fdca26"
             ],
             [
              1,
              "#f0f921"
             ]
            ],
            "type": "histogram2d"
           }
          ],
          "histogram2dcontour": [
           {
            "colorbar": {
             "outlinewidth": 0,
             "ticks": ""
            },
            "colorscale": [
             [
              0,
              "#0d0887"
             ],
             [
              0.1111111111111111,
              "#46039f"
             ],
             [
              0.2222222222222222,
              "#7201a8"
             ],
             [
              0.3333333333333333,
              "#9c179e"
             ],
             [
              0.4444444444444444,
              "#bd3786"
             ],
             [
              0.5555555555555556,
              "#d8576b"
             ],
             [
              0.6666666666666666,
              "#ed7953"
             ],
             [
              0.7777777777777778,
              "#fb9f3a"
             ],
             [
              0.8888888888888888,
              "#fdca26"
             ],
             [
              1,
              "#f0f921"
             ]
            ],
            "type": "histogram2dcontour"
           }
          ],
          "mesh3d": [
           {
            "colorbar": {
             "outlinewidth": 0,
             "ticks": ""
            },
            "type": "mesh3d"
           }
          ],
          "parcoords": [
           {
            "line": {
             "colorbar": {
              "outlinewidth": 0,
              "ticks": ""
             }
            },
            "type": "parcoords"
           }
          ],
          "pie": [
           {
            "automargin": true,
            "type": "pie"
           }
          ],
          "scatter": [
           {
            "fillpattern": {
             "fillmode": "overlay",
             "size": 10,
             "solidity": 0.2
            },
            "type": "scatter"
           }
          ],
          "scatter3d": [
           {
            "line": {
             "colorbar": {
              "outlinewidth": 0,
              "ticks": ""
             }
            },
            "marker": {
             "colorbar": {
              "outlinewidth": 0,
              "ticks": ""
             }
            },
            "type": "scatter3d"
           }
          ],
          "scattercarpet": [
           {
            "marker": {
             "colorbar": {
              "outlinewidth": 0,
              "ticks": ""
             }
            },
            "type": "scattercarpet"
           }
          ],
          "scattergeo": [
           {
            "marker": {
             "colorbar": {
              "outlinewidth": 0,
              "ticks": ""
             }
            },
            "type": "scattergeo"
           }
          ],
          "scattergl": [
           {
            "marker": {
             "colorbar": {
              "outlinewidth": 0,
              "ticks": ""
             }
            },
            "type": "scattergl"
           }
          ],
          "scattermapbox": [
           {
            "marker": {
             "colorbar": {
              "outlinewidth": 0,
              "ticks": ""
             }
            },
            "type": "scattermapbox"
           }
          ],
          "scatterpolar": [
           {
            "marker": {
             "colorbar": {
              "outlinewidth": 0,
              "ticks": ""
             }
            },
            "type": "scatterpolar"
           }
          ],
          "scatterpolargl": [
           {
            "marker": {
             "colorbar": {
              "outlinewidth": 0,
              "ticks": ""
             }
            },
            "type": "scatterpolargl"
           }
          ],
          "scatterternary": [
           {
            "marker": {
             "colorbar": {
              "outlinewidth": 0,
              "ticks": ""
             }
            },
            "type": "scatterternary"
           }
          ],
          "surface": [
           {
            "colorbar": {
             "outlinewidth": 0,
             "ticks": ""
            },
            "colorscale": [
             [
              0,
              "#0d0887"
             ],
             [
              0.1111111111111111,
              "#46039f"
             ],
             [
              0.2222222222222222,
              "#7201a8"
             ],
             [
              0.3333333333333333,
              "#9c179e"
             ],
             [
              0.4444444444444444,
              "#bd3786"
             ],
             [
              0.5555555555555556,
              "#d8576b"
             ],
             [
              0.6666666666666666,
              "#ed7953"
             ],
             [
              0.7777777777777778,
              "#fb9f3a"
             ],
             [
              0.8888888888888888,
              "#fdca26"
             ],
             [
              1,
              "#f0f921"
             ]
            ],
            "type": "surface"
           }
          ],
          "table": [
           {
            "cells": {
             "fill": {
              "color": "#EBF0F8"
             },
             "line": {
              "color": "white"
             }
            },
            "header": {
             "fill": {
              "color": "#C8D4E3"
             },
             "line": {
              "color": "white"
             }
            },
            "type": "table"
           }
          ]
         },
         "layout": {
          "annotationdefaults": {
           "arrowcolor": "#2a3f5f",
           "arrowhead": 0,
           "arrowwidth": 1
          },
          "autotypenumbers": "strict",
          "coloraxis": {
           "colorbar": {
            "outlinewidth": 0,
            "ticks": ""
           }
          },
          "colorscale": {
           "diverging": [
            [
             0,
             "#8e0152"
            ],
            [
             0.1,
             "#c51b7d"
            ],
            [
             0.2,
             "#de77ae"
            ],
            [
             0.3,
             "#f1b6da"
            ],
            [
             0.4,
             "#fde0ef"
            ],
            [
             0.5,
             "#f7f7f7"
            ],
            [
             0.6,
             "#e6f5d0"
            ],
            [
             0.7,
             "#b8e186"
            ],
            [
             0.8,
             "#7fbc41"
            ],
            [
             0.9,
             "#4d9221"
            ],
            [
             1,
             "#276419"
            ]
           ],
           "sequential": [
            [
             0,
             "#0d0887"
            ],
            [
             0.1111111111111111,
             "#46039f"
            ],
            [
             0.2222222222222222,
             "#7201a8"
            ],
            [
             0.3333333333333333,
             "#9c179e"
            ],
            [
             0.4444444444444444,
             "#bd3786"
            ],
            [
             0.5555555555555556,
             "#d8576b"
            ],
            [
             0.6666666666666666,
             "#ed7953"
            ],
            [
             0.7777777777777778,
             "#fb9f3a"
            ],
            [
             0.8888888888888888,
             "#fdca26"
            ],
            [
             1,
             "#f0f921"
            ]
           ],
           "sequentialminus": [
            [
             0,
             "#0d0887"
            ],
            [
             0.1111111111111111,
             "#46039f"
            ],
            [
             0.2222222222222222,
             "#7201a8"
            ],
            [
             0.3333333333333333,
             "#9c179e"
            ],
            [
             0.4444444444444444,
             "#bd3786"
            ],
            [
             0.5555555555555556,
             "#d8576b"
            ],
            [
             0.6666666666666666,
             "#ed7953"
            ],
            [
             0.7777777777777778,
             "#fb9f3a"
            ],
            [
             0.8888888888888888,
             "#fdca26"
            ],
            [
             1,
             "#f0f921"
            ]
           ]
          },
          "colorway": [
           "#636efa",
           "#EF553B",
           "#00cc96",
           "#ab63fa",
           "#FFA15A",
           "#19d3f3",
           "#FF6692",
           "#B6E880",
           "#FF97FF",
           "#FECB52"
          ],
          "font": {
           "color": "#2a3f5f"
          },
          "geo": {
           "bgcolor": "white",
           "lakecolor": "white",
           "landcolor": "#E5ECF6",
           "showlakes": true,
           "showland": true,
           "subunitcolor": "white"
          },
          "hoverlabel": {
           "align": "left"
          },
          "hovermode": "closest",
          "mapbox": {
           "style": "light"
          },
          "paper_bgcolor": "white",
          "plot_bgcolor": "#E5ECF6",
          "polar": {
           "angularaxis": {
            "gridcolor": "white",
            "linecolor": "white",
            "ticks": ""
           },
           "bgcolor": "#E5ECF6",
           "radialaxis": {
            "gridcolor": "white",
            "linecolor": "white",
            "ticks": ""
           }
          },
          "scene": {
           "xaxis": {
            "backgroundcolor": "#E5ECF6",
            "gridcolor": "white",
            "gridwidth": 2,
            "linecolor": "white",
            "showbackground": true,
            "ticks": "",
            "zerolinecolor": "white"
           },
           "yaxis": {
            "backgroundcolor": "#E5ECF6",
            "gridcolor": "white",
            "gridwidth": 2,
            "linecolor": "white",
            "showbackground": true,
            "ticks": "",
            "zerolinecolor": "white"
           },
           "zaxis": {
            "backgroundcolor": "#E5ECF6",
            "gridcolor": "white",
            "gridwidth": 2,
            "linecolor": "white",
            "showbackground": true,
            "ticks": "",
            "zerolinecolor": "white"
           }
          },
          "shapedefaults": {
           "line": {
            "color": "#2a3f5f"
           }
          },
          "ternary": {
           "aaxis": {
            "gridcolor": "white",
            "linecolor": "white",
            "ticks": ""
           },
           "baxis": {
            "gridcolor": "white",
            "linecolor": "white",
            "ticks": ""
           },
           "bgcolor": "#E5ECF6",
           "caxis": {
            "gridcolor": "white",
            "linecolor": "white",
            "ticks": ""
           }
          },
          "title": {
           "x": 0.05
          },
          "xaxis": {
           "automargin": true,
           "gridcolor": "white",
           "linecolor": "white",
           "ticks": "",
           "title": {
            "standoff": 15
           },
           "zerolinecolor": "white",
           "zerolinewidth": 2
          },
          "yaxis": {
           "automargin": true,
           "gridcolor": "white",
           "linecolor": "white",
           "ticks": "",
           "title": {
            "standoff": 15
           },
           "zerolinecolor": "white",
           "zerolinewidth": 2
          }
         }
        },
        "title": {
         "font": {
          "size": 14
         },
         "text": "<b>Model performance report</b><br>XGBClassifier(base_score=None, booster=None, callbacks=None,\n              colsample_bylevel=None, colsample_bynode=None,\n              colsample_bytree=None, early_stopping_rounds=None,\n              enable_categorical=False, eval_metric=None, feature_types=None,\n              gamma=None, gpu_id=None, grow_policy=None, importance_type=None,\n              interaction_constraints=None, learning_rate=None, max_bin=None,\n              max_cat_threshold=None, max_cat_to_onehot=None,\n              max_delta_step=None, max_depth=None, max_leaves=None,\n              min_child_weight=None, missing=nan, monotone_constraints=None,\n              n_estimators=100, n_jobs=None, num_parallel_tree=None,\n              objective='multi:softprob', predictor=None, ...)"
        },
        "width": 800,
        "xaxis": {
         "anchor": "y",
         "domain": [
          0,
          1
         ]
        },
        "xaxis2": {
         "anchor": "y2",
         "domain": [
          0,
          1
         ]
        },
        "yaxis": {
         "anchor": "x",
         "domain": [
          0.625,
          1
         ]
        },
        "yaxis2": {
         "anchor": "x2",
         "domain": [
          0,
          0.375
         ]
        }
       }
      }
     },
     "metadata": {},
     "output_type": "display_data"
    }
   ],
   "source": [
    "model_performance(xgb,y_test, y_pred)"
   ]
  },
  {
   "cell_type": "code",
   "execution_count": 43,
   "id": "717f455a",
   "metadata": {},
   "outputs": [
    {
     "name": "stdout",
     "output_type": "stream",
     "text": [
      "{'learning_rate': 0.1, 'max_depth': 5, 'n_estimators': 100}\n"
     ]
    }
   ],
   "source": [
    "# Define the hyperparameters to be tuned\n",
    "hyperparameters = {\n",
    "    'max_depth': [3, 5, 7],\n",
    "    'learning_rate': [0.1, 0.01, 0.001],\n",
    "    'n_estimators': [50, 100, 200]\n",
    "}\n",
    "\n",
    "# Create a GridSearchCV object\n",
    "grid_search = GridSearchCV(\n",
    "    estimator=xgb,\n",
    "    param_grid=hyperparameters,\n",
    "    scoring='accuracy',\n",
    "    cv=10,\n",
    "    n_jobs=-1\n",
    ")\n",
    "\n",
    "# Fit the GridSearchCV object to the training data\n",
    "grid_search.fit(X_train, y_train)\n",
    "\n",
    "# Print the best parameters\n",
    "print(grid_search.best_params_)\n"
   ]
  },
  {
   "cell_type": "code",
   "execution_count": 44,
   "id": "65b0656d",
   "metadata": {},
   "outputs": [
    {
     "name": "stdout",
     "output_type": "stream",
     "text": [
      "F1 score: 0.7834485869680957\n",
      "Accuracy Score: 0.8443843031123139\n"
     ]
    }
   ],
   "source": [
    "# Define the XGBClassifier model with the selected hyperparameters\n",
    "xgb = XGBClassifier(\n",
    "    max_depth=5,\n",
    "    learning_rate=0.1,\n",
    "    n_estimators=100,\n",
    "    random_state=42\n",
    ")\n",
    "\n",
    "# Fit the XGBClassifier model to the training data\n",
    "xgb.fit(X_train, y_train)\n",
    "\n",
    "# Make predictions on the testing data\n",
    "y_pred = xgb.predict(X_test)\n",
    "\n",
    "# Compute the F1 score on the testing data\n",
    "f1 = f1_score(y_test, y_pred, average=\"weighted\")\n",
    "acc = accuracy_score(y_test, y_pred)\n",
    "\n",
    "# Print the F1 score\n",
    "print('F1 score:', f1)\n",
    "print(\"Accuracy Score:\", acc)\n"
   ]
  },
  {
   "cell_type": "code",
   "execution_count": 45,
   "id": "7d10e6c6",
   "metadata": {},
   "outputs": [],
   "source": [
    "import os"
   ]
  },
  {
   "cell_type": "code",
   "execution_count": 49,
   "id": "9beff4b6",
   "metadata": {},
   "outputs": [
    {
     "data": {
      "text/plain": [
       "'d:\\\\github\\\\Projects\\\\TMLC\\\\road_accident_severity\\\\notebook'"
      ]
     },
     "execution_count": 49,
     "metadata": {},
     "output_type": "execute_result"
    }
   ],
   "source": [
    "%pwd"
   ]
  },
  {
   "cell_type": "code",
   "execution_count": 50,
   "id": "5a7fe00b",
   "metadata": {},
   "outputs": [],
   "source": [
    "os.chdir(\"../Model/\")"
   ]
  },
  {
   "cell_type": "code",
   "execution_count": 51,
   "id": "80e887ee",
   "metadata": {},
   "outputs": [],
   "source": [
    "# Save the trained model to a pickle file\n",
    "import pickle\n",
    "\n",
    "with open('xgb_model.pkl', 'wb') as f:\n",
    "    pickle.dump(xgb, f)\n",
    "\n"
   ]
  },
  {
   "cell_type": "code",
   "execution_count": 53,
   "id": "2da6c6db",
   "metadata": {},
   "outputs": [],
   "source": [
    "## Load the model\n",
    "\n",
    "# Load the model from the file\n",
    "with open('../Model/xgb_model.pkl', 'rb') as f:\n",
    "    model = pickle.load(f)"
   ]
  },
  {
   "cell_type": "code",
   "execution_count": 54,
   "id": "fc9a42bb",
   "metadata": {},
   "outputs": [
    {
     "data": {
      "text/plain": [
       "array([2, 2, 2, ..., 2, 2, 2], dtype=int64)"
      ]
     },
     "execution_count": 54,
     "metadata": {},
     "output_type": "execute_result"
    }
   ],
   "source": [
    "model.predict(X_test)"
   ]
  },
  {
   "cell_type": "code",
   "execution_count": null,
   "id": "2cd9bc01",
   "metadata": {},
   "outputs": [],
   "source": []
  }
 ],
 "metadata": {
  "kernelspec": {
   "display_name": "Python 3.8.0 (conda)",
   "language": "python",
   "name": "python3"
  },
  "language_info": {
   "codemirror_mode": {
    "name": "ipython",
    "version": 3
   },
   "file_extension": ".py",
   "mimetype": "text/x-python",
   "name": "python",
   "nbconvert_exporter": "python",
   "pygments_lexer": "ipython3",
   "version": "3.8.0"
  },
  "vscode": {
   "interpreter": {
    "hash": "e75192fbfe04dd46f15084a80d7327b418beade4c135d0924a5ede1c371fa82c"
   }
  }
 },
 "nbformat": 4,
 "nbformat_minor": 5
}
