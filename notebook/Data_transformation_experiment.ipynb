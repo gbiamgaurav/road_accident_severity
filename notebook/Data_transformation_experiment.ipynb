{
 "cells": [
  {
   "cell_type": "code",
   "execution_count": 1,
   "id": "1f8ca293",
   "metadata": {},
   "outputs": [],
   "source": [
    "import pandas as pd\n",
    "import numpy as np\n",
    "from sklearn.compose import ColumnTransformer\n",
    "from sklearn.impute import SimpleImputer\n",
    "from sklearn.pipeline import Pipeline\n",
    "from sklearn.preprocessing import OneHotEncoder,StandardScaler, OrdinalEncoder, LabelEncoder"
   ]
  },
  {
   "cell_type": "code",
   "execution_count": 52,
   "id": "544f16c4",
   "metadata": {},
   "outputs": [
    {
     "data": {
      "text/html": [
       "<div>\n",
       "<style scoped>\n",
       "    .dataframe tbody tr th:only-of-type {\n",
       "        vertical-align: middle;\n",
       "    }\n",
       "\n",
       "    .dataframe tbody tr th {\n",
       "        vertical-align: top;\n",
       "    }\n",
       "\n",
       "    .dataframe thead th {\n",
       "        text-align: right;\n",
       "    }\n",
       "</style>\n",
       "<table border=\"1\" class=\"dataframe\">\n",
       "  <thead>\n",
       "    <tr style=\"text-align: right;\">\n",
       "      <th></th>\n",
       "      <th>weekday</th>\n",
       "      <th>driver_age</th>\n",
       "      <th>driver_sex</th>\n",
       "      <th>educational_level</th>\n",
       "      <th>driver_relation</th>\n",
       "      <th>driving_exp</th>\n",
       "      <th>vehicle_type</th>\n",
       "      <th>vehicle_owner</th>\n",
       "      <th>service_year</th>\n",
       "      <th>vehicle_defect</th>\n",
       "      <th>...</th>\n",
       "      <th>vehicle_movement</th>\n",
       "      <th>casualty_class</th>\n",
       "      <th>casualty_sex</th>\n",
       "      <th>casualty_age</th>\n",
       "      <th>casualty_severity</th>\n",
       "      <th>casualty_work</th>\n",
       "      <th>casualty_fitness</th>\n",
       "      <th>pedestrian_movement</th>\n",
       "      <th>accident_cause</th>\n",
       "      <th>accident_severity</th>\n",
       "    </tr>\n",
       "  </thead>\n",
       "  <tbody>\n",
       "    <tr>\n",
       "      <th>0</th>\n",
       "      <td>Wednesday</td>\n",
       "      <td>Over 51</td>\n",
       "      <td>Male</td>\n",
       "      <td>Writing &amp; reading</td>\n",
       "      <td>Employee</td>\n",
       "      <td>Below 1yr</td>\n",
       "      <td>Special vehicle</td>\n",
       "      <td>Owner</td>\n",
       "      <td>Unknown</td>\n",
       "      <td>No defect</td>\n",
       "      <td>...</td>\n",
       "      <td>Reversing</td>\n",
       "      <td>Passenger</td>\n",
       "      <td>Female</td>\n",
       "      <td>31-50</td>\n",
       "      <td>3</td>\n",
       "      <td>Driver</td>\n",
       "      <td>Normal</td>\n",
       "      <td>Not a Pedestrian</td>\n",
       "      <td>No priority to vehicle</td>\n",
       "      <td>Slight Injury</td>\n",
       "    </tr>\n",
       "    <tr>\n",
       "      <th>1</th>\n",
       "      <td>Saturday</td>\n",
       "      <td>Under 18</td>\n",
       "      <td>Male</td>\n",
       "      <td>Junior high school</td>\n",
       "      <td>Employee</td>\n",
       "      <td>Above 10yr</td>\n",
       "      <td>Automobile</td>\n",
       "      <td>Owner</td>\n",
       "      <td>NaN</td>\n",
       "      <td>No defect</td>\n",
       "      <td>...</td>\n",
       "      <td>Going straight</td>\n",
       "      <td>Driver or rider</td>\n",
       "      <td>Male</td>\n",
       "      <td>18-30</td>\n",
       "      <td>3</td>\n",
       "      <td>NaN</td>\n",
       "      <td>NaN</td>\n",
       "      <td>Not a Pedestrian</td>\n",
       "      <td>Changing lane to the right</td>\n",
       "      <td>Slight Injury</td>\n",
       "    </tr>\n",
       "  </tbody>\n",
       "</table>\n",
       "<p>2 rows × 31 columns</p>\n",
       "</div>"
      ],
      "text/plain": [
       "     weekday driver_age driver_sex   educational_level driver_relation  \\\n",
       "0  Wednesday    Over 51       Male   Writing & reading        Employee   \n",
       "1   Saturday   Under 18       Male  Junior high school        Employee   \n",
       "\n",
       "  driving_exp     vehicle_type vehicle_owner service_year vehicle_defect  ...  \\\n",
       "0   Below 1yr  Special vehicle         Owner      Unknown      No defect  ...   \n",
       "1  Above 10yr       Automobile         Owner          NaN      No defect  ...   \n",
       "\n",
       "  vehicle_movement   casualty_class casualty_sex casualty_age  \\\n",
       "0        Reversing        Passenger       Female        31-50   \n",
       "1   Going straight  Driver or rider         Male        18-30   \n",
       "\n",
       "  casualty_severity casualty_work casualty_fitness pedestrian_movement  \\\n",
       "0                 3        Driver           Normal    Not a Pedestrian   \n",
       "1                 3           NaN              NaN    Not a Pedestrian   \n",
       "\n",
       "               accident_cause  accident_severity  \n",
       "0      No priority to vehicle      Slight Injury  \n",
       "1  Changing lane to the right      Slight Injury  \n",
       "\n",
       "[2 rows x 31 columns]"
      ]
     },
     "execution_count": 52,
     "metadata": {},
     "output_type": "execute_result"
    }
   ],
   "source": [
    "df = pd.read_csv(\"../artifacts/train.csv\")\n",
    "\n",
    "df.head(2)"
   ]
  },
  {
   "cell_type": "code",
   "execution_count": 67,
   "id": "55f26ee3",
   "metadata": {},
   "outputs": [
    {
     "data": {
      "text/plain": [
       "(8621, 31)"
      ]
     },
     "execution_count": 67,
     "metadata": {},
     "output_type": "execute_result"
    }
   ],
   "source": [
    "df.shape"
   ]
  },
  {
   "cell_type": "code",
   "execution_count": null,
   "id": "b7d45078",
   "metadata": {},
   "outputs": [],
   "source": []
  },
  {
   "cell_type": "code",
   "execution_count": 53,
   "id": "1a0261c3",
   "metadata": {},
   "outputs": [
    {
     "data": {
      "text/plain": [
       "Index(['num_of_vehicles', 'casualty'], dtype='object')"
      ]
     },
     "execution_count": 53,
     "metadata": {},
     "output_type": "execute_result"
    }
   ],
   "source": [
    "numerical_columns = df.select_dtypes(exclude=\"object\").columns\n",
    "\n",
    "numerical_columns"
   ]
  },
  {
   "cell_type": "code",
   "execution_count": 54,
   "id": "e35577d9",
   "metadata": {},
   "outputs": [
    {
     "data": {
      "text/plain": [
       "['weekday',\n",
       " 'driver_age',\n",
       " 'driver_sex',\n",
       " 'educational_level',\n",
       " 'driver_relation',\n",
       " 'driving_exp',\n",
       " 'vehicle_type',\n",
       " 'vehicle_owner',\n",
       " 'service_year',\n",
       " 'vehicle_defect',\n",
       " 'lanes',\n",
       " 'road_alignment',\n",
       " 'junction_type',\n",
       " 'road_type',\n",
       " 'road_conditions',\n",
       " 'light_condition',\n",
       " 'weather_condition',\n",
       " 'collision_type',\n",
       " 'num_of_vehicles',\n",
       " 'casualty',\n",
       " 'vehicle_movement',\n",
       " 'casualty_class',\n",
       " 'casualty_sex',\n",
       " 'casualty_age',\n",
       " 'casualty_severity',\n",
       " 'casualty_work',\n",
       " 'casualty_fitness',\n",
       " 'pedestrian_movement',\n",
       " 'accident_cause']"
      ]
     },
     "execution_count": 54,
     "metadata": {},
     "output_type": "execute_result"
    }
   ],
   "source": [
    "categorical_columns = df.select_dtypes(include=\"object\").columns\n",
    "\n",
    "categorical_columns = list(df.drop(columns=[\"accident_severity\", \"accident_area\"], axis=1))\n",
    "\n",
    "categorical_columns"
   ]
  },
  {
   "cell_type": "code",
   "execution_count": 55,
   "id": "6cd22dde",
   "metadata": {},
   "outputs": [],
   "source": [
    "target_column_name = \"accident_severity\""
   ]
  },
  {
   "cell_type": "code",
   "execution_count": 56,
   "id": "d321dfc8",
   "metadata": {},
   "outputs": [],
   "source": [
    "num_pipeline = Pipeline(\n",
    "steps=[\n",
    "    (\"imputer\", SimpleImputer(strategy=\"median\")),\n",
    "    (\"scaler\", StandardScaler())\n",
    "])\n",
    "\n",
    "cat_pipeline = Pipeline(\n",
    "steps=[\n",
    "    (\"imputer\", SimpleImputer(strategy=\"most_frequent\")),\n",
    "    (\"ordinalencoder\", OrdinalEncoder()),\n",
    "    (\"scaler\", StandardScaler())\n",
    "])"
   ]
  },
  {
   "cell_type": "code",
   "execution_count": 57,
   "id": "fc185bb9",
   "metadata": {},
   "outputs": [],
   "source": [
    "preprocessor = ColumnTransformer(\n",
    "[\n",
    "    (\"num_pipeline\", num_pipeline, numerical_columns),\n",
    "    (\"cat_pipeline\", cat_pipeline, categorical_columns)\n",
    "])"
   ]
  },
  {
   "cell_type": "code",
   "execution_count": 30,
   "id": "3ac2b222",
   "metadata": {},
   "outputs": [],
   "source": [
    "#target_column_name = \"accident_severity\""
   ]
  },
  {
   "cell_type": "code",
   "execution_count": 58,
   "id": "0e31b134",
   "metadata": {},
   "outputs": [
    {
     "data": {
      "text/plain": [
       "Index(['num_of_vehicles', 'casualty'], dtype='object')"
      ]
     },
     "execution_count": 58,
     "metadata": {},
     "output_type": "execute_result"
    }
   ],
   "source": [
    "numerical_columns"
   ]
  },
  {
   "cell_type": "code",
   "execution_count": 59,
   "id": "f4cbeb5e",
   "metadata": {},
   "outputs": [],
   "source": [
    "train_df = pd.read_csv(\"../artifacts/train.csv\")"
   ]
  },
  {
   "cell_type": "code",
   "execution_count": 60,
   "id": "650445d6",
   "metadata": {},
   "outputs": [],
   "source": [
    "test_df = pd.read_csv(\"../artifacts/test.csv\")"
   ]
  },
  {
   "cell_type": "code",
   "execution_count": 61,
   "id": "a319a565",
   "metadata": {},
   "outputs": [],
   "source": [
    "input_feature_train_df=train_df.drop(columns=[target_column_name],axis=1)\n",
    "target_feature_train_df=train_df[target_column_name]"
   ]
  },
  {
   "cell_type": "code",
   "execution_count": 62,
   "id": "db205957",
   "metadata": {},
   "outputs": [],
   "source": [
    "input_feature_test_df=test_df.drop(columns=[target_column_name],axis=1)\n",
    "target_feature_test_df=test_df[target_column_name]"
   ]
  },
  {
   "cell_type": "code",
   "execution_count": 63,
   "id": "256397fd",
   "metadata": {},
   "outputs": [],
   "source": [
    "input_feature_train_arr=preprocessor.fit_transform(input_feature_train_df)\n",
    "input_feature_test_arr=preprocessor.transform(input_feature_test_df)"
   ]
  },
  {
   "cell_type": "code",
   "execution_count": 64,
   "id": "ad07e02f",
   "metadata": {},
   "outputs": [
    {
     "data": {
      "text/plain": [
       "array([[-5.61503344e-02,  4.55650649e-01,  1.46973719e+00, ...,\n",
       "         9.55695443e-04,  1.86035014e-01,  1.00056879e+00],\n",
       "       [-5.61503344e-02,  4.55650649e-01, -4.71299815e-01, ...,\n",
       "         9.55695443e-04,  1.86035014e-01, -1.16244529e+00],\n",
       "       [-5.61503344e-02,  4.55650649e-01,  1.46973719e+00, ...,\n",
       "         9.55695443e-04,  1.28830845e+00,  6.07293500e-01],\n",
       "       ...,\n",
       "       [-5.61503344e-02, -5.44391165e-01,  1.39594356e-02, ...,\n",
       "         9.55695443e-04,  1.86035014e-01, -1.16244529e+00],\n",
       "       [ 1.40189796e+00,  1.45569246e+00,  1.46973719e+00, ...,\n",
       "         9.55695443e-04,  1.28830845e+00, -1.35908294e+00],\n",
       "       [-5.61503344e-02,  4.55650649e-01, -1.44181832e+00, ...,\n",
       "         9.55695443e-04,  1.86035014e-01,  1.00056879e+00]])"
      ]
     },
     "execution_count": 64,
     "metadata": {},
     "output_type": "execute_result"
    }
   ],
   "source": [
    "input_feature_train_arr"
   ]
  },
  {
   "cell_type": "code",
   "execution_count": 65,
   "id": "21be92f4",
   "metadata": {},
   "outputs": [
    {
     "data": {
      "text/plain": [
       "array([[-5.61503344e-02, -5.44391165e-01,  1.46973719e+00, ...,\n",
       "         9.55695443e-04,  1.86035014e-01, -1.16244529e+00],\n",
       "       [-5.61503344e-02, -5.44391165e-01, -9.56559065e-01, ...,\n",
       "         9.55695443e-04, -4.22305874e+00,  1.00056879e+00],\n",
       "       [-1.51419863e+00, -5.44391165e-01, -4.71299815e-01, ...,\n",
       "         9.55695443e-04,  1.86035014e-01, -3.75894719e-01],\n",
       "       ...,\n",
       "       [-5.61503344e-02, -5.44391165e-01, -9.56559065e-01, ...,\n",
       "         9.55695443e-04,  1.86035014e-01, -7.69170006e-01],\n",
       "       [ 2.85994625e+00, -5.44391165e-01,  4.99218686e-01, ...,\n",
       "         9.55695443e-04,  1.86035014e-01, -7.69170006e-01],\n",
       "       [-5.61503344e-02, -5.44391165e-01,  1.46973719e+00, ...,\n",
       "         9.55695443e-04,  1.86035014e-01, -1.16244529e+00]])"
      ]
     },
     "execution_count": 65,
     "metadata": {},
     "output_type": "execute_result"
    }
   ],
   "source": [
    "input_feature_test_arr"
   ]
  },
  {
   "cell_type": "code",
   "execution_count": 66,
   "id": "e1107f53",
   "metadata": {},
   "outputs": [
    {
     "data": {
      "text/plain": [
       "(8621, 31)"
      ]
     },
     "execution_count": 66,
     "metadata": {},
     "output_type": "execute_result"
    }
   ],
   "source": [
    "input_feature_train_arr.shape"
   ]
  },
  {
   "cell_type": "code",
   "execution_count": 68,
   "id": "564f427c",
   "metadata": {},
   "outputs": [
    {
     "data": {
      "text/plain": [
       "0        Slight Injury\n",
       "1        Slight Injury\n",
       "2       Serious Injury\n",
       "3       Serious Injury\n",
       "4        Slight Injury\n",
       "             ...      \n",
       "8616     Slight Injury\n",
       "8617     Slight Injury\n",
       "8618     Slight Injury\n",
       "8619     Slight Injury\n",
       "8620     Slight Injury\n",
       "Name: accident_severity, Length: 8621, dtype: object"
      ]
     },
     "execution_count": 68,
     "metadata": {},
     "output_type": "execute_result"
    }
   ],
   "source": [
    "target_feature_train_df"
   ]
  },
  {
   "cell_type": "code",
   "execution_count": 69,
   "id": "24d16dbc",
   "metadata": {},
   "outputs": [
    {
     "data": {
      "text/plain": [
       "array([2, 2, 1, ..., 2, 2, 2])"
      ]
     },
     "execution_count": 69,
     "metadata": {},
     "output_type": "execute_result"
    }
   ],
   "source": [
    "le = LabelEncoder()\n",
    "\n",
    "le.fit_transform(target_feature_train_df)"
   ]
  },
  {
   "cell_type": "code",
   "execution_count": 70,
   "id": "6dee8f03",
   "metadata": {},
   "outputs": [
    {
     "data": {
      "text/plain": [
       "array([2, 1, 1, ..., 2, 2, 2])"
      ]
     },
     "execution_count": 70,
     "metadata": {},
     "output_type": "execute_result"
    }
   ],
   "source": [
    "le.transform(target_feature_test_df)"
   ]
  },
  {
   "cell_type": "code",
   "execution_count": null,
   "id": "d13e3371",
   "metadata": {},
   "outputs": [],
   "source": []
  }
 ],
 "metadata": {
  "kernelspec": {
   "display_name": "Python 3 (ipykernel)",
   "language": "python",
   "name": "python3"
  },
  "language_info": {
   "codemirror_mode": {
    "name": "ipython",
    "version": 3
   },
   "file_extension": ".py",
   "mimetype": "text/x-python",
   "name": "python",
   "nbconvert_exporter": "python",
   "pygments_lexer": "ipython3",
   "version": "3.10.9"
  }
 },
 "nbformat": 4,
 "nbformat_minor": 5
}
