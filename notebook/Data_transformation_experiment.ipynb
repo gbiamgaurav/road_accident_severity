{
 "cells": [
  {
   "cell_type": "code",
   "execution_count": 1,
   "id": "1f8ca293",
   "metadata": {},
   "outputs": [],
   "source": [
    "import pandas as pd\n",
    "import numpy as np\n",
    "from sklearn.compose import ColumnTransformer\n",
    "from sklearn.impute import SimpleImputer\n",
    "from sklearn.pipeline import Pipeline\n",
    "from sklearn.preprocessing import OneHotEncoder,StandardScaler, OrdinalEncoder, LabelEncoder"
   ]
  },
  {
   "cell_type": "code",
   "execution_count": 2,
   "id": "544f16c4",
   "metadata": {},
   "outputs": [
    {
     "data": {
      "text/html": [
       "<div>\n",
       "<style scoped>\n",
       "    .dataframe tbody tr th:only-of-type {\n",
       "        vertical-align: middle;\n",
       "    }\n",
       "\n",
       "    .dataframe tbody tr th {\n",
       "        vertical-align: top;\n",
       "    }\n",
       "\n",
       "    .dataframe thead th {\n",
       "        text-align: right;\n",
       "    }\n",
       "</style>\n",
       "<table border=\"1\" class=\"dataframe\">\n",
       "  <thead>\n",
       "    <tr style=\"text-align: right;\">\n",
       "      <th></th>\n",
       "      <th>weekday</th>\n",
       "      <th>driver_age</th>\n",
       "      <th>driver_sex</th>\n",
       "      <th>educational_level</th>\n",
       "      <th>driver_relation</th>\n",
       "      <th>driving_exp</th>\n",
       "      <th>vehicle_type</th>\n",
       "      <th>vehicle_owner</th>\n",
       "      <th>service_year</th>\n",
       "      <th>vehicle_defect</th>\n",
       "      <th>...</th>\n",
       "      <th>vehicle_movement</th>\n",
       "      <th>casualty_class</th>\n",
       "      <th>casualty_sex</th>\n",
       "      <th>casualty_age</th>\n",
       "      <th>casualty_severity</th>\n",
       "      <th>casualty_work</th>\n",
       "      <th>casualty_fitness</th>\n",
       "      <th>pedestrian_movement</th>\n",
       "      <th>accident_cause</th>\n",
       "      <th>accident_severity</th>\n",
       "    </tr>\n",
       "  </thead>\n",
       "  <tbody>\n",
       "    <tr>\n",
       "      <th>0</th>\n",
       "      <td>Wednesday</td>\n",
       "      <td>Over 51</td>\n",
       "      <td>Male</td>\n",
       "      <td>Writing &amp; reading</td>\n",
       "      <td>Employee</td>\n",
       "      <td>Below 1yr</td>\n",
       "      <td>Special vehicle</td>\n",
       "      <td>Owner</td>\n",
       "      <td>Unknown</td>\n",
       "      <td>No defect</td>\n",
       "      <td>...</td>\n",
       "      <td>Reversing</td>\n",
       "      <td>Passenger</td>\n",
       "      <td>Female</td>\n",
       "      <td>31-50</td>\n",
       "      <td>3</td>\n",
       "      <td>Driver</td>\n",
       "      <td>Normal</td>\n",
       "      <td>Not a Pedestrian</td>\n",
       "      <td>No priority to vehicle</td>\n",
       "      <td>Slight Injury</td>\n",
       "    </tr>\n",
       "    <tr>\n",
       "      <th>1</th>\n",
       "      <td>Saturday</td>\n",
       "      <td>Under 18</td>\n",
       "      <td>Male</td>\n",
       "      <td>Junior high school</td>\n",
       "      <td>Employee</td>\n",
       "      <td>Above 10yr</td>\n",
       "      <td>Automobile</td>\n",
       "      <td>Owner</td>\n",
       "      <td>NaN</td>\n",
       "      <td>No defect</td>\n",
       "      <td>...</td>\n",
       "      <td>Going straight</td>\n",
       "      <td>Driver or rider</td>\n",
       "      <td>Male</td>\n",
       "      <td>18-30</td>\n",
       "      <td>3</td>\n",
       "      <td>NaN</td>\n",
       "      <td>NaN</td>\n",
       "      <td>Not a Pedestrian</td>\n",
       "      <td>Changing lane to the right</td>\n",
       "      <td>Slight Injury</td>\n",
       "    </tr>\n",
       "  </tbody>\n",
       "</table>\n",
       "<p>2 rows × 31 columns</p>\n",
       "</div>"
      ],
      "text/plain": [
       "     weekday driver_age driver_sex   educational_level driver_relation   \n",
       "0  Wednesday    Over 51       Male   Writing & reading        Employee  \\\n",
       "1   Saturday   Under 18       Male  Junior high school        Employee   \n",
       "\n",
       "  driving_exp     vehicle_type vehicle_owner service_year vehicle_defect  ...   \n",
       "0   Below 1yr  Special vehicle         Owner      Unknown      No defect  ...  \\\n",
       "1  Above 10yr       Automobile         Owner          NaN      No defect  ...   \n",
       "\n",
       "  vehicle_movement   casualty_class casualty_sex casualty_age   \n",
       "0        Reversing        Passenger       Female        31-50  \\\n",
       "1   Going straight  Driver or rider         Male        18-30   \n",
       "\n",
       "  casualty_severity casualty_work casualty_fitness pedestrian_movement   \n",
       "0                 3        Driver           Normal    Not a Pedestrian  \\\n",
       "1                 3           NaN              NaN    Not a Pedestrian   \n",
       "\n",
       "               accident_cause  accident_severity  \n",
       "0      No priority to vehicle      Slight Injury  \n",
       "1  Changing lane to the right      Slight Injury  \n",
       "\n",
       "[2 rows x 31 columns]"
      ]
     },
     "execution_count": 2,
     "metadata": {},
     "output_type": "execute_result"
    }
   ],
   "source": [
    "df = pd.read_csv(\"../artifacts/train.csv\")\n",
    "\n",
    "df.head(2)"
   ]
  },
  {
   "cell_type": "code",
   "execution_count": 3,
   "id": "55f26ee3",
   "metadata": {},
   "outputs": [
    {
     "data": {
      "text/plain": [
       "(8621, 31)"
      ]
     },
     "execution_count": 3,
     "metadata": {},
     "output_type": "execute_result"
    }
   ],
   "source": [
    "df.shape"
   ]
  },
  {
   "cell_type": "code",
   "execution_count": null,
   "id": "b7d45078",
   "metadata": {},
   "outputs": [],
   "source": []
  },
  {
   "cell_type": "code",
   "execution_count": 4,
   "id": "1a0261c3",
   "metadata": {},
   "outputs": [
    {
     "data": {
      "text/plain": [
       "Index(['num_of_vehicles', 'casualty'], dtype='object')"
      ]
     },
     "execution_count": 4,
     "metadata": {},
     "output_type": "execute_result"
    }
   ],
   "source": [
    "numerical_columns = df.select_dtypes(exclude=\"object\").columns\n",
    "\n",
    "numerical_columns"
   ]
  },
  {
   "cell_type": "code",
   "execution_count": 5,
   "id": "e35577d9",
   "metadata": {},
   "outputs": [
    {
     "data": {
      "text/plain": [
       "['weekday',\n",
       " 'driver_age',\n",
       " 'driver_sex',\n",
       " 'educational_level',\n",
       " 'driver_relation',\n",
       " 'driving_exp',\n",
       " 'vehicle_type',\n",
       " 'vehicle_owner',\n",
       " 'service_year',\n",
       " 'vehicle_defect',\n",
       " 'lanes',\n",
       " 'road_alignment',\n",
       " 'junction_type',\n",
       " 'road_type',\n",
       " 'road_conditions',\n",
       " 'light_condition',\n",
       " 'weather_condition',\n",
       " 'collision_type',\n",
       " 'num_of_vehicles',\n",
       " 'casualty',\n",
       " 'vehicle_movement',\n",
       " 'casualty_class',\n",
       " 'casualty_sex',\n",
       " 'casualty_age',\n",
       " 'casualty_severity',\n",
       " 'casualty_work',\n",
       " 'casualty_fitness',\n",
       " 'pedestrian_movement',\n",
       " 'accident_cause']"
      ]
     },
     "execution_count": 5,
     "metadata": {},
     "output_type": "execute_result"
    }
   ],
   "source": [
    "categorical_columns = df.select_dtypes(include=\"object\").columns\n",
    "\n",
    "categorical_columns = list(df.drop(columns=[\"accident_severity\", \"accident_area\"], axis=1))\n",
    "\n",
    "categorical_columns"
   ]
  },
  {
   "cell_type": "code",
   "execution_count": 6,
   "id": "6cd22dde",
   "metadata": {},
   "outputs": [],
   "source": [
    "target_column_name = \"accident_severity\""
   ]
  },
  {
   "cell_type": "code",
   "execution_count": 7,
   "id": "d321dfc8",
   "metadata": {},
   "outputs": [],
   "source": [
    "num_pipeline = Pipeline(\n",
    "steps=[\n",
    "    (\"imputer\", SimpleImputer(strategy=\"median\")),\n",
    "    (\"scaler\", StandardScaler())\n",
    "])\n",
    "\n",
    "cat_pipeline = Pipeline(\n",
    "steps=[\n",
    "    (\"imputer\", SimpleImputer(strategy=\"most_frequent\")),\n",
    "    (\"ordinalencoder\", OrdinalEncoder()),\n",
    "    (\"scaler\", StandardScaler())\n",
    "])"
   ]
  },
  {
   "cell_type": "code",
   "execution_count": 8,
   "id": "fc185bb9",
   "metadata": {},
   "outputs": [],
   "source": [
    "preprocessor = ColumnTransformer(\n",
    "[\n",
    "    (\"num_pipeline\", num_pipeline, numerical_columns),\n",
    "    (\"cat_pipeline\", cat_pipeline, categorical_columns)\n",
    "])"
   ]
  },
  {
   "cell_type": "code",
   "execution_count": 9,
   "id": "3ac2b222",
   "metadata": {},
   "outputs": [],
   "source": [
    "#target_column_name = \"accident_severity\""
   ]
  },
  {
   "cell_type": "code",
   "execution_count": 10,
   "id": "0e31b134",
   "metadata": {},
   "outputs": [
    {
     "data": {
      "text/plain": [
       "Index(['num_of_vehicles', 'casualty'], dtype='object')"
      ]
     },
     "execution_count": 10,
     "metadata": {},
     "output_type": "execute_result"
    }
   ],
   "source": [
    "numerical_columns"
   ]
  },
  {
   "cell_type": "code",
   "execution_count": 11,
   "id": "f4cbeb5e",
   "metadata": {},
   "outputs": [],
   "source": [
    "train_df = pd.read_csv(\"../artifacts/train.csv\")"
   ]
  },
  {
   "cell_type": "code",
   "execution_count": 12,
   "id": "650445d6",
   "metadata": {},
   "outputs": [],
   "source": [
    "test_df = pd.read_csv(\"../artifacts/test.csv\")"
   ]
  },
  {
   "cell_type": "code",
   "execution_count": 13,
   "id": "a319a565",
   "metadata": {},
   "outputs": [],
   "source": [
    "input_feature_train_df=train_df.drop(columns=[target_column_name],axis=1)\n",
    "target_feature_train_df=train_df[target_column_name]"
   ]
  },
  {
   "cell_type": "code",
   "execution_count": 14,
   "id": "db205957",
   "metadata": {},
   "outputs": [],
   "source": [
    "input_feature_test_df=test_df.drop(columns=[target_column_name],axis=1)\n",
    "target_feature_test_df=test_df[target_column_name]"
   ]
  },
  {
   "cell_type": "code",
   "execution_count": 15,
   "id": "256397fd",
   "metadata": {},
   "outputs": [],
   "source": [
    "input_feature_train_arr=preprocessor.fit_transform(input_feature_train_df)\n",
    "input_feature_test_arr=preprocessor.transform(input_feature_test_df)"
   ]
  },
  {
   "cell_type": "code",
   "execution_count": 16,
   "id": "ad07e02f",
   "metadata": {},
   "outputs": [
    {
     "data": {
      "text/plain": [
       "array([[-5.61503344e-02,  4.55650649e-01,  1.46973719e+00, ...,\n",
       "         9.55695443e-04,  1.86035014e-01,  1.00056879e+00],\n",
       "       [-5.61503344e-02,  4.55650649e-01, -4.71299815e-01, ...,\n",
       "         9.55695443e-04,  1.86035014e-01, -1.16244529e+00],\n",
       "       [-5.61503344e-02,  4.55650649e-01,  1.46973719e+00, ...,\n",
       "         9.55695443e-04,  1.28830845e+00,  6.07293500e-01],\n",
       "       ...,\n",
       "       [-5.61503344e-02, -5.44391165e-01,  1.39594356e-02, ...,\n",
       "         9.55695443e-04,  1.86035014e-01, -1.16244529e+00],\n",
       "       [ 1.40189796e+00,  1.45569246e+00,  1.46973719e+00, ...,\n",
       "         9.55695443e-04,  1.28830845e+00, -1.35908294e+00],\n",
       "       [-5.61503344e-02,  4.55650649e-01, -1.44181832e+00, ...,\n",
       "         9.55695443e-04,  1.86035014e-01,  1.00056879e+00]])"
      ]
     },
     "execution_count": 16,
     "metadata": {},
     "output_type": "execute_result"
    }
   ],
   "source": [
    "input_feature_train_arr"
   ]
  },
  {
   "cell_type": "code",
   "execution_count": 17,
   "id": "21be92f4",
   "metadata": {},
   "outputs": [
    {
     "data": {
      "text/plain": [
       "array([[-5.61503344e-02, -5.44391165e-01,  1.46973719e+00, ...,\n",
       "         9.55695443e-04,  1.86035014e-01, -1.16244529e+00],\n",
       "       [-5.61503344e-02, -5.44391165e-01, -9.56559065e-01, ...,\n",
       "         9.55695443e-04, -4.22305874e+00,  1.00056879e+00],\n",
       "       [-1.51419863e+00, -5.44391165e-01, -4.71299815e-01, ...,\n",
       "         9.55695443e-04,  1.86035014e-01, -3.75894719e-01],\n",
       "       ...,\n",
       "       [-5.61503344e-02, -5.44391165e-01, -9.56559065e-01, ...,\n",
       "         9.55695443e-04,  1.86035014e-01, -7.69170006e-01],\n",
       "       [ 2.85994625e+00, -5.44391165e-01,  4.99218686e-01, ...,\n",
       "         9.55695443e-04,  1.86035014e-01, -7.69170006e-01],\n",
       "       [-5.61503344e-02, -5.44391165e-01,  1.46973719e+00, ...,\n",
       "         9.55695443e-04,  1.86035014e-01, -1.16244529e+00]])"
      ]
     },
     "execution_count": 17,
     "metadata": {},
     "output_type": "execute_result"
    }
   ],
   "source": [
    "input_feature_test_arr"
   ]
  },
  {
   "cell_type": "code",
   "execution_count": 18,
   "id": "e1107f53",
   "metadata": {},
   "outputs": [
    {
     "data": {
      "text/plain": [
       "(8621, 31)"
      ]
     },
     "execution_count": 18,
     "metadata": {},
     "output_type": "execute_result"
    }
   ],
   "source": [
    "input_feature_train_arr.shape"
   ]
  },
  {
   "cell_type": "code",
   "execution_count": 19,
   "id": "564f427c",
   "metadata": {},
   "outputs": [
    {
     "data": {
      "text/plain": [
       "0        Slight Injury\n",
       "1        Slight Injury\n",
       "2       Serious Injury\n",
       "3       Serious Injury\n",
       "4        Slight Injury\n",
       "             ...      \n",
       "8616     Slight Injury\n",
       "8617     Slight Injury\n",
       "8618     Slight Injury\n",
       "8619     Slight Injury\n",
       "8620     Slight Injury\n",
       "Name: accident_severity, Length: 8621, dtype: object"
      ]
     },
     "execution_count": 19,
     "metadata": {},
     "output_type": "execute_result"
    }
   ],
   "source": [
    "target_feature_train_df"
   ]
  },
  {
   "cell_type": "code",
   "execution_count": 20,
   "id": "24d16dbc",
   "metadata": {},
   "outputs": [
    {
     "data": {
      "text/plain": [
       "array([2, 2, 1, ..., 2, 2, 2])"
      ]
     },
     "execution_count": 20,
     "metadata": {},
     "output_type": "execute_result"
    }
   ],
   "source": [
    "le = LabelEncoder()\n",
    "\n",
    "le.fit_transform(target_feature_train_df)"
   ]
  },
  {
   "cell_type": "code",
   "execution_count": 21,
   "id": "6dee8f03",
   "metadata": {},
   "outputs": [
    {
     "data": {
      "text/plain": [
       "array([2, 1, 1, ..., 2, 2, 2])"
      ]
     },
     "execution_count": 21,
     "metadata": {},
     "output_type": "execute_result"
    }
   ],
   "source": [
    "le.transform(target_feature_test_df)"
   ]
  },
  {
   "cell_type": "markdown",
   "id": "c394792a",
   "metadata": {},
   "source": [
    "## Feature Selection"
   ]
  },
  {
   "cell_type": "code",
   "execution_count": 49,
   "id": "8a87ba32",
   "metadata": {},
   "outputs": [],
   "source": [
    "data = pd.read_csv(\"../artifacts/train.csv\")"
   ]
  },
  {
   "cell_type": "code",
   "execution_count": 50,
   "id": "dd8e9122",
   "metadata": {},
   "outputs": [],
   "source": [
    "X = data.drop(\"accident_severity\", axis=1)\n",
    "y = data[\"accident_severity\"]"
   ]
  },
  {
   "cell_type": "code",
   "execution_count": 51,
   "id": "8ba13e57",
   "metadata": {},
   "outputs": [
    {
     "data": {
      "text/html": [
       "<div>\n",
       "<style scoped>\n",
       "    .dataframe tbody tr th:only-of-type {\n",
       "        vertical-align: middle;\n",
       "    }\n",
       "\n",
       "    .dataframe tbody tr th {\n",
       "        vertical-align: top;\n",
       "    }\n",
       "\n",
       "    .dataframe thead th {\n",
       "        text-align: right;\n",
       "    }\n",
       "</style>\n",
       "<table border=\"1\" class=\"dataframe\">\n",
       "  <thead>\n",
       "    <tr style=\"text-align: right;\">\n",
       "      <th></th>\n",
       "      <th>weekday</th>\n",
       "      <th>driver_age</th>\n",
       "      <th>driver_sex</th>\n",
       "      <th>educational_level</th>\n",
       "      <th>driver_relation</th>\n",
       "      <th>driving_exp</th>\n",
       "      <th>vehicle_type</th>\n",
       "      <th>vehicle_owner</th>\n",
       "      <th>service_year</th>\n",
       "      <th>vehicle_defect</th>\n",
       "      <th>...</th>\n",
       "      <th>casualty</th>\n",
       "      <th>vehicle_movement</th>\n",
       "      <th>casualty_class</th>\n",
       "      <th>casualty_sex</th>\n",
       "      <th>casualty_age</th>\n",
       "      <th>casualty_severity</th>\n",
       "      <th>casualty_work</th>\n",
       "      <th>casualty_fitness</th>\n",
       "      <th>pedestrian_movement</th>\n",
       "      <th>accident_cause</th>\n",
       "    </tr>\n",
       "  </thead>\n",
       "  <tbody>\n",
       "    <tr>\n",
       "      <th>0</th>\n",
       "      <td>Wednesday</td>\n",
       "      <td>Over 51</td>\n",
       "      <td>Male</td>\n",
       "      <td>Writing &amp; reading</td>\n",
       "      <td>Employee</td>\n",
       "      <td>Below 1yr</td>\n",
       "      <td>Special vehicle</td>\n",
       "      <td>Owner</td>\n",
       "      <td>Unknown</td>\n",
       "      <td>No defect</td>\n",
       "      <td>...</td>\n",
       "      <td>2</td>\n",
       "      <td>Reversing</td>\n",
       "      <td>Passenger</td>\n",
       "      <td>Female</td>\n",
       "      <td>31-50</td>\n",
       "      <td>3</td>\n",
       "      <td>Driver</td>\n",
       "      <td>Normal</td>\n",
       "      <td>Not a Pedestrian</td>\n",
       "      <td>No priority to vehicle</td>\n",
       "    </tr>\n",
       "    <tr>\n",
       "      <th>1</th>\n",
       "      <td>Saturday</td>\n",
       "      <td>Under 18</td>\n",
       "      <td>Male</td>\n",
       "      <td>Junior high school</td>\n",
       "      <td>Employee</td>\n",
       "      <td>Above 10yr</td>\n",
       "      <td>Automobile</td>\n",
       "      <td>Owner</td>\n",
       "      <td>NaN</td>\n",
       "      <td>No defect</td>\n",
       "      <td>...</td>\n",
       "      <td>2</td>\n",
       "      <td>Going straight</td>\n",
       "      <td>Driver or rider</td>\n",
       "      <td>Male</td>\n",
       "      <td>18-30</td>\n",
       "      <td>3</td>\n",
       "      <td>NaN</td>\n",
       "      <td>NaN</td>\n",
       "      <td>Not a Pedestrian</td>\n",
       "      <td>Changing lane to the right</td>\n",
       "    </tr>\n",
       "    <tr>\n",
       "      <th>2</th>\n",
       "      <td>Wednesday</td>\n",
       "      <td>18-30</td>\n",
       "      <td>Male</td>\n",
       "      <td>Junior high school</td>\n",
       "      <td>Employee</td>\n",
       "      <td>No Licence</td>\n",
       "      <td>Other</td>\n",
       "      <td>Owner</td>\n",
       "      <td>1-2yr</td>\n",
       "      <td>No defect</td>\n",
       "      <td>...</td>\n",
       "      <td>2</td>\n",
       "      <td>Other</td>\n",
       "      <td>Pedestrian</td>\n",
       "      <td>Male</td>\n",
       "      <td>31-50</td>\n",
       "      <td>3</td>\n",
       "      <td>Driver</td>\n",
       "      <td>Normal</td>\n",
       "      <td>Unknown or other</td>\n",
       "      <td>No distancing</td>\n",
       "    </tr>\n",
       "    <tr>\n",
       "      <th>3</th>\n",
       "      <td>Monday</td>\n",
       "      <td>18-30</td>\n",
       "      <td>Male</td>\n",
       "      <td>Elementary school</td>\n",
       "      <td>Owner</td>\n",
       "      <td>2-5yr</td>\n",
       "      <td>Turbo</td>\n",
       "      <td>Owner</td>\n",
       "      <td>NaN</td>\n",
       "      <td>No defect</td>\n",
       "      <td>...</td>\n",
       "      <td>2</td>\n",
       "      <td>Going straight</td>\n",
       "      <td>na</td>\n",
       "      <td>na</td>\n",
       "      <td>na</td>\n",
       "      <td>na</td>\n",
       "      <td>Driver</td>\n",
       "      <td>Normal</td>\n",
       "      <td>Not a Pedestrian</td>\n",
       "      <td>Changing lane to the left</td>\n",
       "    </tr>\n",
       "    <tr>\n",
       "      <th>4</th>\n",
       "      <td>Friday</td>\n",
       "      <td>Under 18</td>\n",
       "      <td>Male</td>\n",
       "      <td>Junior high school</td>\n",
       "      <td>Employee</td>\n",
       "      <td>2-5yr</td>\n",
       "      <td>Automobile</td>\n",
       "      <td>Owner</td>\n",
       "      <td>Unknown</td>\n",
       "      <td>No defect</td>\n",
       "      <td>...</td>\n",
       "      <td>2</td>\n",
       "      <td>Going straight</td>\n",
       "      <td>Driver or rider</td>\n",
       "      <td>Female</td>\n",
       "      <td>31-50</td>\n",
       "      <td>3</td>\n",
       "      <td>Driver</td>\n",
       "      <td>Normal</td>\n",
       "      <td>Not a Pedestrian</td>\n",
       "      <td>No priority to vehicle</td>\n",
       "    </tr>\n",
       "    <tr>\n",
       "      <th>...</th>\n",
       "      <td>...</td>\n",
       "      <td>...</td>\n",
       "      <td>...</td>\n",
       "      <td>...</td>\n",
       "      <td>...</td>\n",
       "      <td>...</td>\n",
       "      <td>...</td>\n",
       "      <td>...</td>\n",
       "      <td>...</td>\n",
       "      <td>...</td>\n",
       "      <td>...</td>\n",
       "      <td>...</td>\n",
       "      <td>...</td>\n",
       "      <td>...</td>\n",
       "      <td>...</td>\n",
       "      <td>...</td>\n",
       "      <td>...</td>\n",
       "      <td>...</td>\n",
       "      <td>...</td>\n",
       "      <td>...</td>\n",
       "      <td>...</td>\n",
       "    </tr>\n",
       "    <tr>\n",
       "      <th>8616</th>\n",
       "      <td>Wednesday</td>\n",
       "      <td>31-50</td>\n",
       "      <td>Male</td>\n",
       "      <td>Junior high school</td>\n",
       "      <td>Employee</td>\n",
       "      <td>2-5yr</td>\n",
       "      <td>Public (12 seats)</td>\n",
       "      <td>Owner</td>\n",
       "      <td>Unknown</td>\n",
       "      <td>No defect</td>\n",
       "      <td>...</td>\n",
       "      <td>1</td>\n",
       "      <td>Going straight</td>\n",
       "      <td>Passenger</td>\n",
       "      <td>Female</td>\n",
       "      <td>18-30</td>\n",
       "      <td>3</td>\n",
       "      <td>Driver</td>\n",
       "      <td>Normal</td>\n",
       "      <td>Not a Pedestrian</td>\n",
       "      <td>No priority to pedestrian</td>\n",
       "    </tr>\n",
       "    <tr>\n",
       "      <th>8617</th>\n",
       "      <td>Saturday</td>\n",
       "      <td>Over 51</td>\n",
       "      <td>Male</td>\n",
       "      <td>Junior high school</td>\n",
       "      <td>Employee</td>\n",
       "      <td>1-2yr</td>\n",
       "      <td>Stationwagen</td>\n",
       "      <td>Owner</td>\n",
       "      <td>NaN</td>\n",
       "      <td>No defect</td>\n",
       "      <td>...</td>\n",
       "      <td>3</td>\n",
       "      <td>Going straight</td>\n",
       "      <td>Driver or rider</td>\n",
       "      <td>Female</td>\n",
       "      <td>18-30</td>\n",
       "      <td>3</td>\n",
       "      <td>NaN</td>\n",
       "      <td>Normal</td>\n",
       "      <td>Not a Pedestrian</td>\n",
       "      <td>No priority to pedestrian</td>\n",
       "    </tr>\n",
       "    <tr>\n",
       "      <th>8618</th>\n",
       "      <td>Sunday</td>\n",
       "      <td>18-30</td>\n",
       "      <td>Male</td>\n",
       "      <td>High school</td>\n",
       "      <td>Employee</td>\n",
       "      <td>2-5yr</td>\n",
       "      <td>Public (&gt; 45 seats)</td>\n",
       "      <td>Owner</td>\n",
       "      <td>Unknown</td>\n",
       "      <td>NaN</td>\n",
       "      <td>...</td>\n",
       "      <td>1</td>\n",
       "      <td>Going straight</td>\n",
       "      <td>na</td>\n",
       "      <td>na</td>\n",
       "      <td>na</td>\n",
       "      <td>na</td>\n",
       "      <td>Driver</td>\n",
       "      <td>Normal</td>\n",
       "      <td>Not a Pedestrian</td>\n",
       "      <td>Changing lane to the right</td>\n",
       "    </tr>\n",
       "    <tr>\n",
       "      <th>8619</th>\n",
       "      <td>Wednesday</td>\n",
       "      <td>Under 18</td>\n",
       "      <td>Male</td>\n",
       "      <td>Junior high school</td>\n",
       "      <td>Owner</td>\n",
       "      <td>2-5yr</td>\n",
       "      <td>Automobile</td>\n",
       "      <td>Owner</td>\n",
       "      <td>Above 10yr</td>\n",
       "      <td>No defect</td>\n",
       "      <td>...</td>\n",
       "      <td>3</td>\n",
       "      <td>Going straight</td>\n",
       "      <td>Pedestrian</td>\n",
       "      <td>Male</td>\n",
       "      <td>31-50</td>\n",
       "      <td>3</td>\n",
       "      <td>NaN</td>\n",
       "      <td>NaN</td>\n",
       "      <td>Unknown or other</td>\n",
       "      <td>Changing lane to the left</td>\n",
       "    </tr>\n",
       "    <tr>\n",
       "      <th>8620</th>\n",
       "      <td>Friday</td>\n",
       "      <td>18-30</td>\n",
       "      <td>Female</td>\n",
       "      <td>Junior high school</td>\n",
       "      <td>Owner</td>\n",
       "      <td>1-2yr</td>\n",
       "      <td>Lorry (41?100Q)</td>\n",
       "      <td>Owner</td>\n",
       "      <td>Unknown</td>\n",
       "      <td>No defect</td>\n",
       "      <td>...</td>\n",
       "      <td>2</td>\n",
       "      <td>Going straight</td>\n",
       "      <td>na</td>\n",
       "      <td>na</td>\n",
       "      <td>na</td>\n",
       "      <td>na</td>\n",
       "      <td>NaN</td>\n",
       "      <td>NaN</td>\n",
       "      <td>Not a Pedestrian</td>\n",
       "      <td>No priority to vehicle</td>\n",
       "    </tr>\n",
       "  </tbody>\n",
       "</table>\n",
       "<p>8621 rows × 30 columns</p>\n",
       "</div>"
      ],
      "text/plain": [
       "        weekday driver_age driver_sex   educational_level driver_relation   \n",
       "0     Wednesday    Over 51       Male   Writing & reading        Employee  \\\n",
       "1      Saturday   Under 18       Male  Junior high school        Employee   \n",
       "2     Wednesday      18-30       Male  Junior high school        Employee   \n",
       "3        Monday      18-30       Male   Elementary school           Owner   \n",
       "4        Friday   Under 18       Male  Junior high school        Employee   \n",
       "...         ...        ...        ...                 ...             ...   \n",
       "8616  Wednesday      31-50       Male  Junior high school        Employee   \n",
       "8617   Saturday    Over 51       Male  Junior high school        Employee   \n",
       "8618     Sunday      18-30       Male         High school        Employee   \n",
       "8619  Wednesday   Under 18       Male  Junior high school           Owner   \n",
       "8620     Friday      18-30     Female  Junior high school           Owner   \n",
       "\n",
       "     driving_exp         vehicle_type vehicle_owner service_year   \n",
       "0      Below 1yr      Special vehicle         Owner      Unknown  \\\n",
       "1     Above 10yr           Automobile         Owner          NaN   \n",
       "2     No Licence                Other         Owner        1-2yr   \n",
       "3          2-5yr                Turbo         Owner          NaN   \n",
       "4          2-5yr           Automobile         Owner      Unknown   \n",
       "...          ...                  ...           ...          ...   \n",
       "8616       2-5yr    Public (12 seats)         Owner      Unknown   \n",
       "8617       1-2yr         Stationwagen         Owner          NaN   \n",
       "8618       2-5yr  Public (> 45 seats)         Owner      Unknown   \n",
       "8619       2-5yr           Automobile         Owner   Above 10yr   \n",
       "8620       1-2yr      Lorry (41?100Q)         Owner      Unknown   \n",
       "\n",
       "     vehicle_defect  ... casualty vehicle_movement   casualty_class   \n",
       "0         No defect  ...        2        Reversing        Passenger  \\\n",
       "1         No defect  ...        2   Going straight  Driver or rider   \n",
       "2         No defect  ...        2            Other       Pedestrian   \n",
       "3         No defect  ...        2   Going straight               na   \n",
       "4         No defect  ...        2   Going straight  Driver or rider   \n",
       "...             ...  ...      ...              ...              ...   \n",
       "8616      No defect  ...        1   Going straight        Passenger   \n",
       "8617      No defect  ...        3   Going straight  Driver or rider   \n",
       "8618            NaN  ...        1   Going straight               na   \n",
       "8619      No defect  ...        3   Going straight       Pedestrian   \n",
       "8620      No defect  ...        2   Going straight               na   \n",
       "\n",
       "     casualty_sex casualty_age casualty_severity casualty_work   \n",
       "0          Female        31-50                 3        Driver  \\\n",
       "1            Male        18-30                 3           NaN   \n",
       "2            Male        31-50                 3        Driver   \n",
       "3              na           na                na        Driver   \n",
       "4          Female        31-50                 3        Driver   \n",
       "...           ...          ...               ...           ...   \n",
       "8616       Female        18-30                 3        Driver   \n",
       "8617       Female        18-30                 3           NaN   \n",
       "8618           na           na                na        Driver   \n",
       "8619         Male        31-50                 3           NaN   \n",
       "8620           na           na                na           NaN   \n",
       "\n",
       "     casualty_fitness pedestrian_movement              accident_cause  \n",
       "0              Normal    Not a Pedestrian      No priority to vehicle  \n",
       "1                 NaN    Not a Pedestrian  Changing lane to the right  \n",
       "2              Normal    Unknown or other               No distancing  \n",
       "3              Normal    Not a Pedestrian   Changing lane to the left  \n",
       "4              Normal    Not a Pedestrian      No priority to vehicle  \n",
       "...               ...                 ...                         ...  \n",
       "8616           Normal    Not a Pedestrian   No priority to pedestrian  \n",
       "8617           Normal    Not a Pedestrian   No priority to pedestrian  \n",
       "8618           Normal    Not a Pedestrian  Changing lane to the right  \n",
       "8619              NaN    Unknown or other   Changing lane to the left  \n",
       "8620              NaN    Not a Pedestrian      No priority to vehicle  \n",
       "\n",
       "[8621 rows x 30 columns]"
      ]
     },
     "execution_count": 51,
     "metadata": {},
     "output_type": "execute_result"
    }
   ],
   "source": [
    "X"
   ]
  },
  {
   "cell_type": "code",
   "execution_count": 52,
   "id": "fc8e2586",
   "metadata": {},
   "outputs": [
    {
     "data": {
      "text/plain": [
       "0        Slight Injury\n",
       "1        Slight Injury\n",
       "2       Serious Injury\n",
       "3       Serious Injury\n",
       "4        Slight Injury\n",
       "             ...      \n",
       "8616     Slight Injury\n",
       "8617     Slight Injury\n",
       "8618     Slight Injury\n",
       "8619     Slight Injury\n",
       "8620     Slight Injury\n",
       "Name: accident_severity, Length: 8621, dtype: object"
      ]
     },
     "execution_count": 52,
     "metadata": {},
     "output_type": "execute_result"
    }
   ],
   "source": [
    "y"
   ]
  },
  {
   "cell_type": "code",
   "execution_count": 54,
   "id": "b6ceac62",
   "metadata": {},
   "outputs": [],
   "source": [
    "# Encoding categorical features\n",
    "le = LabelEncoder()\n",
    "for col in X.select_dtypes(include=['object']):\n",
    "    X[col] = le.fit_transform(X[col])"
   ]
  },
  {
   "cell_type": "code",
   "execution_count": 55,
   "id": "f09112bd",
   "metadata": {},
   "outputs": [
    {
     "data": {
      "text/html": [
       "<div>\n",
       "<style scoped>\n",
       "    .dataframe tbody tr th:only-of-type {\n",
       "        vertical-align: middle;\n",
       "    }\n",
       "\n",
       "    .dataframe tbody tr th {\n",
       "        vertical-align: top;\n",
       "    }\n",
       "\n",
       "    .dataframe thead th {\n",
       "        text-align: right;\n",
       "    }\n",
       "</style>\n",
       "<table border=\"1\" class=\"dataframe\">\n",
       "  <thead>\n",
       "    <tr style=\"text-align: right;\">\n",
       "      <th></th>\n",
       "      <th>weekday</th>\n",
       "      <th>driver_age</th>\n",
       "      <th>driver_sex</th>\n",
       "      <th>educational_level</th>\n",
       "      <th>driver_relation</th>\n",
       "      <th>driving_exp</th>\n",
       "      <th>vehicle_type</th>\n",
       "      <th>vehicle_owner</th>\n",
       "      <th>service_year</th>\n",
       "      <th>vehicle_defect</th>\n",
       "      <th>...</th>\n",
       "      <th>casualty</th>\n",
       "      <th>vehicle_movement</th>\n",
       "      <th>casualty_class</th>\n",
       "      <th>casualty_sex</th>\n",
       "      <th>casualty_age</th>\n",
       "      <th>casualty_severity</th>\n",
       "      <th>casualty_work</th>\n",
       "      <th>casualty_fitness</th>\n",
       "      <th>pedestrian_movement</th>\n",
       "      <th>accident_cause</th>\n",
       "    </tr>\n",
       "  </thead>\n",
       "  <tbody>\n",
       "    <tr>\n",
       "      <th>0</th>\n",
       "      <td>6</td>\n",
       "      <td>2</td>\n",
       "      <td>1</td>\n",
       "      <td>6</td>\n",
       "      <td>0</td>\n",
       "      <td>4</td>\n",
       "      <td>13</td>\n",
       "      <td>3</td>\n",
       "      <td>5</td>\n",
       "      <td>2</td>\n",
       "      <td>...</td>\n",
       "      <td>2</td>\n",
       "      <td>7</td>\n",
       "      <td>1</td>\n",
       "      <td>0</td>\n",
       "      <td>1</td>\n",
       "      <td>2</td>\n",
       "      <td>0</td>\n",
       "      <td>2</td>\n",
       "      <td>5</td>\n",
       "      <td>12</td>\n",
       "    </tr>\n",
       "    <tr>\n",
       "      <th>1</th>\n",
       "      <td>2</td>\n",
       "      <td>3</td>\n",
       "      <td>1</td>\n",
       "      <td>4</td>\n",
       "      <td>0</td>\n",
       "      <td>3</td>\n",
       "      <td>0</td>\n",
       "      <td>3</td>\n",
       "      <td>6</td>\n",
       "      <td>2</td>\n",
       "      <td>...</td>\n",
       "      <td>2</td>\n",
       "      <td>2</td>\n",
       "      <td>0</td>\n",
       "      <td>1</td>\n",
       "      <td>0</td>\n",
       "      <td>2</td>\n",
       "      <td>7</td>\n",
       "      <td>5</td>\n",
       "      <td>5</td>\n",
       "      <td>1</td>\n",
       "    </tr>\n",
       "    <tr>\n",
       "      <th>2</th>\n",
       "      <td>6</td>\n",
       "      <td>0</td>\n",
       "      <td>1</td>\n",
       "      <td>4</td>\n",
       "      <td>0</td>\n",
       "      <td>5</td>\n",
       "      <td>7</td>\n",
       "      <td>3</td>\n",
       "      <td>0</td>\n",
       "      <td>2</td>\n",
       "      <td>...</td>\n",
       "      <td>2</td>\n",
       "      <td>4</td>\n",
       "      <td>2</td>\n",
       "      <td>1</td>\n",
       "      <td>1</td>\n",
       "      <td>2</td>\n",
       "      <td>0</td>\n",
       "      <td>2</td>\n",
       "      <td>6</td>\n",
       "      <td>10</td>\n",
       "    </tr>\n",
       "    <tr>\n",
       "      <th>3</th>\n",
       "      <td>1</td>\n",
       "      <td>0</td>\n",
       "      <td>1</td>\n",
       "      <td>1</td>\n",
       "      <td>2</td>\n",
       "      <td>1</td>\n",
       "      <td>16</td>\n",
       "      <td>3</td>\n",
       "      <td>6</td>\n",
       "      <td>2</td>\n",
       "      <td>...</td>\n",
       "      <td>2</td>\n",
       "      <td>2</td>\n",
       "      <td>3</td>\n",
       "      <td>2</td>\n",
       "      <td>5</td>\n",
       "      <td>3</td>\n",
       "      <td>0</td>\n",
       "      <td>2</td>\n",
       "      <td>5</td>\n",
       "      <td>0</td>\n",
       "    </tr>\n",
       "    <tr>\n",
       "      <th>4</th>\n",
       "      <td>0</td>\n",
       "      <td>3</td>\n",
       "      <td>1</td>\n",
       "      <td>4</td>\n",
       "      <td>0</td>\n",
       "      <td>1</td>\n",
       "      <td>0</td>\n",
       "      <td>3</td>\n",
       "      <td>5</td>\n",
       "      <td>2</td>\n",
       "      <td>...</td>\n",
       "      <td>2</td>\n",
       "      <td>2</td>\n",
       "      <td>0</td>\n",
       "      <td>0</td>\n",
       "      <td>1</td>\n",
       "      <td>2</td>\n",
       "      <td>0</td>\n",
       "      <td>2</td>\n",
       "      <td>5</td>\n",
       "      <td>12</td>\n",
       "    </tr>\n",
       "    <tr>\n",
       "      <th>...</th>\n",
       "      <td>...</td>\n",
       "      <td>...</td>\n",
       "      <td>...</td>\n",
       "      <td>...</td>\n",
       "      <td>...</td>\n",
       "      <td>...</td>\n",
       "      <td>...</td>\n",
       "      <td>...</td>\n",
       "      <td>...</td>\n",
       "      <td>...</td>\n",
       "      <td>...</td>\n",
       "      <td>...</td>\n",
       "      <td>...</td>\n",
       "      <td>...</td>\n",
       "      <td>...</td>\n",
       "      <td>...</td>\n",
       "      <td>...</td>\n",
       "      <td>...</td>\n",
       "      <td>...</td>\n",
       "      <td>...</td>\n",
       "      <td>...</td>\n",
       "    </tr>\n",
       "    <tr>\n",
       "      <th>8616</th>\n",
       "      <td>6</td>\n",
       "      <td>1</td>\n",
       "      <td>1</td>\n",
       "      <td>4</td>\n",
       "      <td>0</td>\n",
       "      <td>1</td>\n",
       "      <td>9</td>\n",
       "      <td>3</td>\n",
       "      <td>5</td>\n",
       "      <td>2</td>\n",
       "      <td>...</td>\n",
       "      <td>1</td>\n",
       "      <td>2</td>\n",
       "      <td>1</td>\n",
       "      <td>0</td>\n",
       "      <td>0</td>\n",
       "      <td>2</td>\n",
       "      <td>0</td>\n",
       "      <td>2</td>\n",
       "      <td>5</td>\n",
       "      <td>11</td>\n",
       "    </tr>\n",
       "    <tr>\n",
       "      <th>8617</th>\n",
       "      <td>2</td>\n",
       "      <td>2</td>\n",
       "      <td>1</td>\n",
       "      <td>4</td>\n",
       "      <td>0</td>\n",
       "      <td>0</td>\n",
       "      <td>14</td>\n",
       "      <td>3</td>\n",
       "      <td>6</td>\n",
       "      <td>2</td>\n",
       "      <td>...</td>\n",
       "      <td>3</td>\n",
       "      <td>2</td>\n",
       "      <td>0</td>\n",
       "      <td>0</td>\n",
       "      <td>0</td>\n",
       "      <td>2</td>\n",
       "      <td>7</td>\n",
       "      <td>2</td>\n",
       "      <td>5</td>\n",
       "      <td>11</td>\n",
       "    </tr>\n",
       "    <tr>\n",
       "      <th>8618</th>\n",
       "      <td>3</td>\n",
       "      <td>0</td>\n",
       "      <td>1</td>\n",
       "      <td>2</td>\n",
       "      <td>0</td>\n",
       "      <td>1</td>\n",
       "      <td>11</td>\n",
       "      <td>3</td>\n",
       "      <td>5</td>\n",
       "      <td>3</td>\n",
       "      <td>...</td>\n",
       "      <td>1</td>\n",
       "      <td>2</td>\n",
       "      <td>3</td>\n",
       "      <td>2</td>\n",
       "      <td>5</td>\n",
       "      <td>3</td>\n",
       "      <td>0</td>\n",
       "      <td>2</td>\n",
       "      <td>5</td>\n",
       "      <td>1</td>\n",
       "    </tr>\n",
       "    <tr>\n",
       "      <th>8619</th>\n",
       "      <td>6</td>\n",
       "      <td>3</td>\n",
       "      <td>1</td>\n",
       "      <td>4</td>\n",
       "      <td>2</td>\n",
       "      <td>1</td>\n",
       "      <td>0</td>\n",
       "      <td>3</td>\n",
       "      <td>3</td>\n",
       "      <td>2</td>\n",
       "      <td>...</td>\n",
       "      <td>3</td>\n",
       "      <td>2</td>\n",
       "      <td>2</td>\n",
       "      <td>1</td>\n",
       "      <td>1</td>\n",
       "      <td>2</td>\n",
       "      <td>7</td>\n",
       "      <td>5</td>\n",
       "      <td>6</td>\n",
       "      <td>0</td>\n",
       "    </tr>\n",
       "    <tr>\n",
       "      <th>8620</th>\n",
       "      <td>0</td>\n",
       "      <td>0</td>\n",
       "      <td>0</td>\n",
       "      <td>4</td>\n",
       "      <td>2</td>\n",
       "      <td>0</td>\n",
       "      <td>5</td>\n",
       "      <td>3</td>\n",
       "      <td>5</td>\n",
       "      <td>2</td>\n",
       "      <td>...</td>\n",
       "      <td>2</td>\n",
       "      <td>2</td>\n",
       "      <td>3</td>\n",
       "      <td>2</td>\n",
       "      <td>5</td>\n",
       "      <td>3</td>\n",
       "      <td>7</td>\n",
       "      <td>5</td>\n",
       "      <td>5</td>\n",
       "      <td>12</td>\n",
       "    </tr>\n",
       "  </tbody>\n",
       "</table>\n",
       "<p>8621 rows × 30 columns</p>\n",
       "</div>"
      ],
      "text/plain": [
       "      weekday  driver_age  driver_sex  educational_level  driver_relation   \n",
       "0           6           2           1                  6                0  \\\n",
       "1           2           3           1                  4                0   \n",
       "2           6           0           1                  4                0   \n",
       "3           1           0           1                  1                2   \n",
       "4           0           3           1                  4                0   \n",
       "...       ...         ...         ...                ...              ...   \n",
       "8616        6           1           1                  4                0   \n",
       "8617        2           2           1                  4                0   \n",
       "8618        3           0           1                  2                0   \n",
       "8619        6           3           1                  4                2   \n",
       "8620        0           0           0                  4                2   \n",
       "\n",
       "      driving_exp  vehicle_type  vehicle_owner  service_year  vehicle_defect   \n",
       "0               4            13              3             5               2  \\\n",
       "1               3             0              3             6               2   \n",
       "2               5             7              3             0               2   \n",
       "3               1            16              3             6               2   \n",
       "4               1             0              3             5               2   \n",
       "...           ...           ...            ...           ...             ...   \n",
       "8616            1             9              3             5               2   \n",
       "8617            0            14              3             6               2   \n",
       "8618            1            11              3             5               3   \n",
       "8619            1             0              3             3               2   \n",
       "8620            0             5              3             5               2   \n",
       "\n",
       "      ...  casualty  vehicle_movement  casualty_class  casualty_sex   \n",
       "0     ...         2                 7               1             0  \\\n",
       "1     ...         2                 2               0             1   \n",
       "2     ...         2                 4               2             1   \n",
       "3     ...         2                 2               3             2   \n",
       "4     ...         2                 2               0             0   \n",
       "...   ...       ...               ...             ...           ...   \n",
       "8616  ...         1                 2               1             0   \n",
       "8617  ...         3                 2               0             0   \n",
       "8618  ...         1                 2               3             2   \n",
       "8619  ...         3                 2               2             1   \n",
       "8620  ...         2                 2               3             2   \n",
       "\n",
       "      casualty_age  casualty_severity  casualty_work  casualty_fitness   \n",
       "0                1                  2              0                 2  \\\n",
       "1                0                  2              7                 5   \n",
       "2                1                  2              0                 2   \n",
       "3                5                  3              0                 2   \n",
       "4                1                  2              0                 2   \n",
       "...            ...                ...            ...               ...   \n",
       "8616             0                  2              0                 2   \n",
       "8617             0                  2              7                 2   \n",
       "8618             5                  3              0                 2   \n",
       "8619             1                  2              7                 5   \n",
       "8620             5                  3              7                 5   \n",
       "\n",
       "      pedestrian_movement  accident_cause  \n",
       "0                       5              12  \n",
       "1                       5               1  \n",
       "2                       6              10  \n",
       "3                       5               0  \n",
       "4                       5              12  \n",
       "...                   ...             ...  \n",
       "8616                    5              11  \n",
       "8617                    5              11  \n",
       "8618                    5               1  \n",
       "8619                    6               0  \n",
       "8620                    5              12  \n",
       "\n",
       "[8621 rows x 30 columns]"
      ]
     },
     "execution_count": 55,
     "metadata": {},
     "output_type": "execute_result"
    }
   ],
   "source": [
    "X"
   ]
  },
  {
   "cell_type": "code",
   "execution_count": 56,
   "id": "1e03f5ed",
   "metadata": {},
   "outputs": [],
   "source": [
    "y = le.fit_transform(y)"
   ]
  },
  {
   "cell_type": "code",
   "execution_count": 57,
   "id": "147a90b8",
   "metadata": {},
   "outputs": [
    {
     "data": {
      "text/plain": [
       "array([2, 2, 1, ..., 2, 2, 2])"
      ]
     },
     "execution_count": 57,
     "metadata": {},
     "output_type": "execute_result"
    }
   ],
   "source": [
    "y"
   ]
  },
  {
   "cell_type": "code",
   "execution_count": 58,
   "id": "a17fb07d",
   "metadata": {},
   "outputs": [],
   "source": [
    "# Feature selection using mutual information\n",
    "mi = SelectKBest(mutual_info_classif, k=10)\n",
    "X_mi = mi.fit_transform(X, y)"
   ]
  },
  {
   "cell_type": "code",
   "execution_count": 59,
   "id": "efd894ea",
   "metadata": {},
   "outputs": [
    {
     "data": {
      "text/plain": [
       "array([[6, 4, 7, ..., 1, 2, 2],\n",
       "       [2, 3, 3, ..., 0, 2, 5],\n",
       "       [6, 5, 1, ..., 1, 2, 2],\n",
       "       ...,\n",
       "       [3, 1, 1, ..., 5, 3, 2],\n",
       "       [6, 1, 8, ..., 1, 2, 5],\n",
       "       [0, 0, 0, ..., 5, 3, 5]], dtype=int64)"
      ]
     },
     "execution_count": 59,
     "metadata": {},
     "output_type": "execute_result"
    }
   ],
   "source": [
    "X_mi"
   ]
  },
  {
   "cell_type": "markdown",
   "id": "3ff612c0",
   "metadata": {},
   "source": [
    "## Best features for Model building"
   ]
  },
  {
   "cell_type": "code",
   "execution_count": 60,
   "id": "7599c83a",
   "metadata": {},
   "outputs": [
    {
     "name": "stdout",
     "output_type": "stream",
     "text": [
      "Index(['weekday', 'driving_exp', 'junction_type', 'road_conditions',\n",
      "       'num_of_vehicles', 'casualty', 'casualty_sex', 'casualty_age',\n",
      "       'casualty_severity', 'casualty_fitness'],\n",
      "      dtype='object')\n"
     ]
    }
   ],
   "source": [
    "# Print the selected features\n",
    "selected_features = X.columns[mi.get_support()]\n",
    "print(selected_features)"
   ]
  },
  {
   "cell_type": "code",
   "execution_count": 1,
   "id": "1fb240e5",
   "metadata": {},
   "outputs": [],
   "source": [
    "import pandas as pd"
   ]
  },
  {
   "cell_type": "code",
   "execution_count": 2,
   "id": "ea8e04a2",
   "metadata": {},
   "outputs": [
    {
     "data": {
      "text/html": [
       "<div>\n",
       "<style scoped>\n",
       "    .dataframe tbody tr th:only-of-type {\n",
       "        vertical-align: middle;\n",
       "    }\n",
       "\n",
       "    .dataframe tbody tr th {\n",
       "        vertical-align: top;\n",
       "    }\n",
       "\n",
       "    .dataframe thead th {\n",
       "        text-align: right;\n",
       "    }\n",
       "</style>\n",
       "<table border=\"1\" class=\"dataframe\">\n",
       "  <thead>\n",
       "    <tr style=\"text-align: right;\">\n",
       "      <th></th>\n",
       "      <th>weekday</th>\n",
       "      <th>driver_age</th>\n",
       "      <th>driver_sex</th>\n",
       "      <th>educational_level</th>\n",
       "      <th>driver_relation</th>\n",
       "      <th>driving_exp</th>\n",
       "      <th>vehicle_type</th>\n",
       "      <th>vehicle_owner</th>\n",
       "      <th>service_year</th>\n",
       "      <th>vehicle_defect</th>\n",
       "      <th>...</th>\n",
       "      <th>vehicle_movement</th>\n",
       "      <th>casualty_class</th>\n",
       "      <th>casualty_sex</th>\n",
       "      <th>casualty_age</th>\n",
       "      <th>casualty_severity</th>\n",
       "      <th>casualty_work</th>\n",
       "      <th>casualty_fitness</th>\n",
       "      <th>pedestrian_movement</th>\n",
       "      <th>accident_cause</th>\n",
       "      <th>accident_severity</th>\n",
       "    </tr>\n",
       "  </thead>\n",
       "  <tbody>\n",
       "    <tr>\n",
       "      <th>0</th>\n",
       "      <td>Wednesday</td>\n",
       "      <td>Over 51</td>\n",
       "      <td>Male</td>\n",
       "      <td>Writing &amp; reading</td>\n",
       "      <td>Employee</td>\n",
       "      <td>Below 1yr</td>\n",
       "      <td>Special vehicle</td>\n",
       "      <td>Owner</td>\n",
       "      <td>Unknown</td>\n",
       "      <td>No defect</td>\n",
       "      <td>...</td>\n",
       "      <td>Reversing</td>\n",
       "      <td>Passenger</td>\n",
       "      <td>Female</td>\n",
       "      <td>31-50</td>\n",
       "      <td>3</td>\n",
       "      <td>Driver</td>\n",
       "      <td>Normal</td>\n",
       "      <td>Not a Pedestrian</td>\n",
       "      <td>No priority to vehicle</td>\n",
       "      <td>Slight Injury</td>\n",
       "    </tr>\n",
       "    <tr>\n",
       "      <th>1</th>\n",
       "      <td>Saturday</td>\n",
       "      <td>Under 18</td>\n",
       "      <td>Male</td>\n",
       "      <td>Junior high school</td>\n",
       "      <td>Employee</td>\n",
       "      <td>Above 10yr</td>\n",
       "      <td>Automobile</td>\n",
       "      <td>Owner</td>\n",
       "      <td>NaN</td>\n",
       "      <td>No defect</td>\n",
       "      <td>...</td>\n",
       "      <td>Going straight</td>\n",
       "      <td>Driver or rider</td>\n",
       "      <td>Male</td>\n",
       "      <td>18-30</td>\n",
       "      <td>3</td>\n",
       "      <td>NaN</td>\n",
       "      <td>NaN</td>\n",
       "      <td>Not a Pedestrian</td>\n",
       "      <td>Changing lane to the right</td>\n",
       "      <td>Slight Injury</td>\n",
       "    </tr>\n",
       "    <tr>\n",
       "      <th>2</th>\n",
       "      <td>Wednesday</td>\n",
       "      <td>18-30</td>\n",
       "      <td>Male</td>\n",
       "      <td>Junior high school</td>\n",
       "      <td>Employee</td>\n",
       "      <td>No Licence</td>\n",
       "      <td>Other</td>\n",
       "      <td>Owner</td>\n",
       "      <td>1-2yr</td>\n",
       "      <td>No defect</td>\n",
       "      <td>...</td>\n",
       "      <td>Other</td>\n",
       "      <td>Pedestrian</td>\n",
       "      <td>Male</td>\n",
       "      <td>31-50</td>\n",
       "      <td>3</td>\n",
       "      <td>Driver</td>\n",
       "      <td>Normal</td>\n",
       "      <td>Unknown or other</td>\n",
       "      <td>No distancing</td>\n",
       "      <td>Serious Injury</td>\n",
       "    </tr>\n",
       "  </tbody>\n",
       "</table>\n",
       "<p>3 rows × 31 columns</p>\n",
       "</div>"
      ],
      "text/plain": [
       "     weekday driver_age driver_sex   educational_level driver_relation   \n",
       "0  Wednesday    Over 51       Male   Writing & reading        Employee  \\\n",
       "1   Saturday   Under 18       Male  Junior high school        Employee   \n",
       "2  Wednesday      18-30       Male  Junior high school        Employee   \n",
       "\n",
       "  driving_exp     vehicle_type vehicle_owner service_year vehicle_defect  ...   \n",
       "0   Below 1yr  Special vehicle         Owner      Unknown      No defect  ...  \\\n",
       "1  Above 10yr       Automobile         Owner          NaN      No defect  ...   \n",
       "2  No Licence            Other         Owner        1-2yr      No defect  ...   \n",
       "\n",
       "  vehicle_movement   casualty_class casualty_sex casualty_age   \n",
       "0        Reversing        Passenger       Female        31-50  \\\n",
       "1   Going straight  Driver or rider         Male        18-30   \n",
       "2            Other       Pedestrian         Male        31-50   \n",
       "\n",
       "  casualty_severity casualty_work casualty_fitness pedestrian_movement   \n",
       "0                 3        Driver           Normal    Not a Pedestrian  \\\n",
       "1                 3           NaN              NaN    Not a Pedestrian   \n",
       "2                 3        Driver           Normal    Unknown or other   \n",
       "\n",
       "               accident_cause  accident_severity  \n",
       "0      No priority to vehicle      Slight Injury  \n",
       "1  Changing lane to the right      Slight Injury  \n",
       "2               No distancing     Serious Injury  \n",
       "\n",
       "[3 rows x 31 columns]"
      ]
     },
     "execution_count": 2,
     "metadata": {},
     "output_type": "execute_result"
    }
   ],
   "source": [
    "df = pd.read_csv(\"../artifacts/train.csv\")\n",
    "\n",
    "df.head(3)"
   ]
  },
  {
   "cell_type": "code",
   "execution_count": 3,
   "id": "8c4e0ef2",
   "metadata": {},
   "outputs": [
    {
     "data": {
      "text/plain": [
       "weekday\n",
       "Friday       1451\n",
       "Thursday     1303\n",
       "Wednesday    1272\n",
       "Tuesday      1240\n",
       "Monday       1177\n",
       "Saturday     1140\n",
       "Sunday       1038\n",
       "Name: count, dtype: int64"
      ]
     },
     "execution_count": 3,
     "metadata": {},
     "output_type": "execute_result"
    }
   ],
   "source": [
    "df['weekday'].value_counts()"
   ]
  },
  {
   "cell_type": "code",
   "execution_count": 4,
   "id": "41d33e98",
   "metadata": {},
   "outputs": [
    {
     "data": {
      "text/plain": [
       "driving_exp\n",
       "5-10yr        2347\n",
       "2-5yr         1824\n",
       "Above 10yr    1614\n",
       "1-2yr         1226\n",
       "Below 1yr      920\n",
       "No Licence      95\n",
       "unknown         20\n",
       "Name: count, dtype: int64"
      ]
     },
     "execution_count": 4,
     "metadata": {},
     "output_type": "execute_result"
    }
   ],
   "source": [
    "df['driving_exp'].value_counts()"
   ]
  },
  {
   "cell_type": "code",
   "execution_count": 5,
   "id": "b9fbcea7",
   "metadata": {},
   "outputs": [
    {
     "data": {
      "text/plain": [
       "['weekday',\n",
       " 'driving_exp',\n",
       " 'junction_type',\n",
       " 'road_conditions',\n",
       " 'num_of_vehicles',\n",
       " 'casualty',\n",
       " 'casualty_sex',\n",
       " 'casualty_age',\n",
       " 'casualty_severity',\n",
       " 'casualty_fitness']"
      ]
     },
     "execution_count": 5,
     "metadata": {},
     "output_type": "execute_result"
    }
   ],
   "source": [
    "['weekday', 'driving_exp', 'junction_type', 'road_conditions',\n",
    "       'num_of_vehicles', 'casualty', 'casualty_sex', 'casualty_age',\n",
    "       'casualty_severity', 'casualty_fitness']"
   ]
  },
  {
   "cell_type": "code",
   "execution_count": 6,
   "id": "60bd26ca",
   "metadata": {},
   "outputs": [
    {
     "data": {
      "text/plain": [
       "junction_type\n",
       "Y Shape        3173\n",
       "No junction    2671\n",
       "Crossing       1516\n",
       "Other           316\n",
       "Unknown         144\n",
       "O Shape         127\n",
       "T Shape          42\n",
       "X Shape           7\n",
       "Name: count, dtype: int64"
      ]
     },
     "execution_count": 6,
     "metadata": {},
     "output_type": "execute_result"
    }
   ],
   "source": [
    "df['junction_type'].value_counts()"
   ]
  },
  {
   "cell_type": "code",
   "execution_count": 7,
   "id": "08d95129",
   "metadata": {},
   "outputs": [
    {
     "data": {
      "text/plain": [
       "road_conditions\n",
       "Dry                     6545\n",
       "Wet or damp             2026\n",
       "Snow                      49\n",
       "Flood over 3cm. deep       1\n",
       "Name: count, dtype: int64"
      ]
     },
     "execution_count": 7,
     "metadata": {},
     "output_type": "execute_result"
    }
   ],
   "source": [
    "df['road_conditions'].value_counts()"
   ]
  },
  {
   "cell_type": "code",
   "execution_count": 8,
   "id": "fab82867",
   "metadata": {},
   "outputs": [
    {
     "data": {
      "text/plain": [
       "num_of_vehicles\n",
       "2    5864\n",
       "1    1394\n",
       "3    1071\n",
       "4     258\n",
       "6      31\n",
       "7       3\n",
       "Name: count, dtype: int64"
      ]
     },
     "execution_count": 8,
     "metadata": {},
     "output_type": "execute_result"
    }
   ],
   "source": [
    "df['num_of_vehicles'].value_counts()"
   ]
  },
  {
   "cell_type": "code",
   "execution_count": 9,
   "id": "5dc72daf",
   "metadata": {},
   "outputs": [
    {
     "data": {
      "text/plain": [
       "casualty_sex\n",
       "Male      3649\n",
       "na        3135\n",
       "Female    1837\n",
       "Name: count, dtype: int64"
      ]
     },
     "execution_count": 9,
     "metadata": {},
     "output_type": "execute_result"
    }
   ],
   "source": [
    "df['casualty_sex'].value_counts()"
   ]
  },
  {
   "cell_type": "code",
   "execution_count": 10,
   "id": "e307b391",
   "metadata": {},
   "outputs": [
    {
     "data": {
      "text/plain": [
       "casualty_age\n",
       "na          3135\n",
       "18-30       2199\n",
       "31-50       1717\n",
       "Under 18     707\n",
       "Over 51      689\n",
       "5            174\n",
       "Name: count, dtype: int64"
      ]
     },
     "execution_count": 10,
     "metadata": {},
     "output_type": "execute_result"
    }
   ],
   "source": [
    "df['casualty_age'].value_counts()"
   ]
  },
  {
   "cell_type": "code",
   "execution_count": 11,
   "id": "69b9fe50",
   "metadata": {},
   "outputs": [
    {
     "data": {
      "text/plain": [
       "casualty_severity\n",
       "3     4937\n",
       "na    3135\n",
       "2      534\n",
       "1       15\n",
       "Name: count, dtype: int64"
      ]
     },
     "execution_count": 11,
     "metadata": {},
     "output_type": "execute_result"
    }
   ],
   "source": [
    "df['casualty_severity'].value_counts()"
   ]
  },
  {
   "cell_type": "code",
   "execution_count": 12,
   "id": "d28de51b",
   "metadata": {},
   "outputs": [
    {
     "data": {
      "text/plain": [
       "casualty_fitness\n",
       "Normal          6749\n",
       "NormalNormal      14\n",
       "Blind             13\n",
       "Deaf              13\n",
       "Other             12\n",
       "Name: count, dtype: int64"
      ]
     },
     "execution_count": 12,
     "metadata": {},
     "output_type": "execute_result"
    }
   ],
   "source": [
    "df['casualty_fitness'].value_counts()"
   ]
  },
  {
   "cell_type": "code",
   "execution_count": 13,
   "id": "dd1b46db",
   "metadata": {},
   "outputs": [
    {
     "data": {
      "text/plain": [
       "casualty\n",
       "1    5888\n",
       "2    1587\n",
       "3     655\n",
       "4     275\n",
       "5     139\n",
       "6      54\n",
       "7      16\n",
       "8       7\n",
       "Name: count, dtype: int64"
      ]
     },
     "execution_count": 13,
     "metadata": {},
     "output_type": "execute_result"
    }
   ],
   "source": [
    "df['casualty'].value_counts()"
   ]
  },
  {
   "cell_type": "code",
   "execution_count": null,
   "id": "3274b2b3",
   "metadata": {},
   "outputs": [],
   "source": []
  }
 ],
 "metadata": {
  "kernelspec": {
   "display_name": "Python 3 (ipykernel)",
   "language": "python",
   "name": "python3"
  },
  "language_info": {
   "codemirror_mode": {
    "name": "ipython",
    "version": 3
   },
   "file_extension": ".py",
   "mimetype": "text/x-python",
   "name": "python",
   "nbconvert_exporter": "python",
   "pygments_lexer": "ipython3",
   "version": "3.8.0"
  }
 },
 "nbformat": 4,
 "nbformat_minor": 5
}
